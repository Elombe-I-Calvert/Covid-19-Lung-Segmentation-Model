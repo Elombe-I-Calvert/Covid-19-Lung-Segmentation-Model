{
  "nbformat": 4,
  "nbformat_minor": 0,
  "metadata": {
    "colab": {
      "provenance": []
    },
    "kernelspec": {
      "name": "python3",
      "display_name": "Python 3"
    },
    "language_info": {
      "name": "python"
    },
    "gpuClass": "standard"
  },
  "cells": [
    {
      "cell_type": "code",
      "source": [
        "# Mounting the Drive\n",
        "\n",
        "from google.colab import drive\n",
        "drive.mount('/content/drive')"
      ],
      "metadata": {
        "colab": {
          "base_uri": "https://localhost:8080/"
        },
        "id": "Dg8-AS-uhE8c",
        "outputId": "494ce095-4564-4e50-cbd4-7598fa8014b1"
      },
      "execution_count": null,
      "outputs": [
        {
          "output_type": "stream",
          "name": "stdout",
          "text": [
            "Drive already mounted at /content/drive; to attempt to forcibly remount, call drive.mount(\"/content/drive\", force_remount=True).\n"
          ]
        }
      ]
    },
    {
      "cell_type": "markdown",
      "source": [
        "Import all necessary libraries"
      ],
      "metadata": {
        "id": "G76NqM5YncFu"
      }
    },
    {
      "cell_type": "code",
      "execution_count": null,
      "metadata": {
        "id": "31uH3-Yngyai"
      },
      "outputs": [],
      "source": [
        "from collections import Counter\n",
        "import os\n",
        "import cv2\n",
        "import numpy as np\n",
        "import pandas as pd\n",
        "import skimage\n",
        "from skimage import measure"
      ]
    },
    {
      "cell_type": "code",
      "source": [
        "def split_target_dir(target_dir,output_dir):\n",
        "    target_list=[target_dir+os.sep+file for file in os.listdir(target_dir)]\n",
        "    for target in target_list:\n",
        "        img_split=split_lung_parenchyma(target,15599,-96)\n",
        "        dst=target.replace(target_dir,output_dir)\n",
        "        dst_dir=os.path.split(dst)[0]\n",
        "        if not os.path.exists(dst_dir):\n",
        "            os.makedirs(dst_dir)\n",
        "        cv2.imencode('.jpg', img_split)[1].tofile(dst)\n",
        "    print(f'Target list done with {len(target_list)} items')\n"
      ],
      "metadata": {
        "id": "b6BJjZILhZc1"
      },
      "execution_count": null,
      "outputs": []
    },
    {
      "cell_type": "code",
      "source": [
        "def split_lung_parenchyma(target,size,thr):\n",
        "    img=cv2.imdecode(np.fromfile(target,dtype=np.uint8),cv2.IMREAD_GRAYSCALE)\n",
        "    try:\n",
        "        img_thr= cv2.adaptiveThreshold(img, 255, cv2.ADAPTIVE_THRESH_MEAN_C, cv2.THRESH_BINARY_INV,size,thr).astype(np.uint8)\n",
        "    except:\n",
        "        img_thr= cv2.adaptiveThreshold(img, 255, cv2.ADAPTIVE_THRESH_MEAN_C, cv2.THRESH_BINARY_INV,999,thr).astype(np.uint8)\n",
        "    img_thr=255-img_thr\n",
        "    img_test=measure.label(img_thr, connectivity = 1)\n",
        "    props = measure.regionprops(img_test)\n",
        "    img_test.max()\n",
        "    areas=[prop.area for prop in props]\n",
        "    ind_max_area=np.argmax(areas)+1\n",
        "    del_array = np.zeros(img_test.max()+1)\n",
        "    del_array[ind_max_area]=1\n",
        "    del_mask=del_array[img_test]\n",
        "    img_new = img_thr*del_mask\n",
        "    mask_fill=fill_water(img_new)\n",
        "    img_new[mask_fill==1]=255\n",
        "    img_new = 255-img_new\n",
        "    _, labels, stats, centroids = cv2.connectedComponentsWithStats(img_new.astype( np.uint8 ))\n",
        "    labels = np.array(labels, dtype=np.float)\n",
        "    maxnum = Counter(labels.flatten()).most_common(3)\n",
        "    maxnum = sorted([x[0] for x in maxnum])\n",
        "    background = np.zeros_like(labels)\n",
        "    if len(maxnum) == 1:\n",
        "        pass\n",
        "    elif len(maxnum) == 2:\n",
        "        background[labels == maxnum[1]] = 1\n",
        "    else:\n",
        "        background[labels == maxnum[1]] = 1\n",
        "        background[labels == maxnum[2]] = 1\n",
        "    img_new[background == 0] = 0\n",
        "    img_new=cv2.dilate(img_new, np.ones((5,5),np.uint8) , iterations=3)\n",
        "    img_new = cv2.erode(img_new, np.ones((5, 5), np.uint8), iterations=2)\n",
        "    img_new = cv2.morphologyEx(img_new, cv2.MORPH_CLOSE, cv2.getStructuringElement(cv2.MORPH_RECT, (10, 10)),iterations=2)\n",
        "    img_new = cv2.medianBlur(img_new.astype(np.uint8), 21)\n",
        "    img_out=img*img_new.astype(bool)\n",
        "    return img_out\n"
      ],
      "metadata": {
        "id": "B5aZ2z2Lhour"
      },
      "execution_count": null,
      "outputs": []
    },
    {
      "cell_type": "code",
      "source": [
        "def fill_water(img):\n",
        "    copyimg = img.copy()\n",
        "    copyimg.astype(np.float32)\n",
        "    height, width = img.shape\n",
        "    img_exp=np.zeros((height+20,width+20))\n",
        "    height_exp, width_exp = img_exp.shape\n",
        "    img_exp[10:-10, 10:-10]=copyimg\n",
        "    mask1 = np.zeros([height+22, width+22],np.uint8)\n",
        "    mask2 = mask1.copy()\n",
        "    mask3 = mask1.copy()\n",
        "    mask4 = mask1.copy()\n",
        "    cv2.floodFill(np.float32(img_exp), mask1, (0, 0), 1)\n",
        "    cv2.floodFill(np.float32(img_exp), mask2, (width_exp-1,height_exp-1), 1)\n",
        "    cv2.floodFill(np.float32(img_exp), mask3, (width_exp-1, 0), 1)\n",
        "    cv2.floodFill(np.float32(img_exp), mask4, (0, height_exp-1), 1)\n",
        "    mask = mask1 | mask2 | mask3 | mask4\n",
        "    output = mask[1:-1, 1:-1][10:-10, 10:-10]\n",
        "    return output"
      ],
      "metadata": {
        "id": "_iXzSHZIhxqp"
      },
      "execution_count": null,
      "outputs": []
    },
    {
      "cell_type": "code",
      "source": [
        "target_dir= \"\n",
        "output_dir= \"/content/drive/MyDrive/Deep Learning Project/Pilot Capstone/Patients Images/nPatient 1\"\n",
        "split_target_dir(target_dir,output_dir)"
      ],
      "metadata": {
        "id": "kUiMMDWph5TZ"
      },
      "execution_count": null,
      "outputs": []
    }
  ]
}