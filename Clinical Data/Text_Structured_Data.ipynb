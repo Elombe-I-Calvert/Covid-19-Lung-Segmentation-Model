{
  "nbformat": 4,
  "nbformat_minor": 0,
  "metadata": {
    "colab": {
      "provenance": []
    },
    "kernelspec": {
      "name": "python3",
      "display_name": "Python 3"
    },
    "language_info": {
      "name": "python"
    }
  },
  "cells": [
    {
      "cell_type": "code",
      "execution_count": null,
      "metadata": {
        "colab": {
          "base_uri": "https://localhost:8080/"
        },
        "id": "djxR_MI_dQxS",
        "outputId": "f25d4108-7e1e-4798-e488-5b0a14a484ab"
      },
      "outputs": [
        {
          "output_type": "stream",
          "name": "stdout",
          "text": [
            "Mounted at /content/drive\n"
          ]
        }
      ],
      "source": [
        "from google.colab import drive\n",
        "drive.mount(\"/content/drive\")"
      ]
    },
    {
      "cell_type": "code",
      "source": [
        "import regex as re\n",
        "import pandas as pd\n",
        "import numpy as np\n",
        "from csv import reader"
      ],
      "metadata": {
        "id": "2hRsjSUDdqF3"
      },
      "execution_count": null,
      "outputs": []
    },
    {
      "cell_type": "code",
      "source": [
        "Sample_Features = pd.read_csv(\"/content/drive/MyDrive/Deep Learning Project/UWI Capstone/Data/Extra Data/Sample/Demo_Patient_324_CF.txt\", delimiter = \"\\t\")"
      ],
      "metadata": {
        "id": "ydrtqqKnd7Qo"
      },
      "execution_count": null,
      "outputs": []
    },
    {
      "cell_type": "code",
      "source": [
        "Sample_Features"
      ],
      "metadata": {
        "id": "OPb2w4LNY8Ct",
        "outputId": "5bfbe420-3f9d-4db0-9081-7bdf6007f7ec",
        "colab": {
          "base_uri": "https://localhost:8080/",
          "height": 358
        }
      },
      "execution_count": null,
      "outputs": [
        {
          "output_type": "execute_result",
          "data": {
            "text/plain": [
              "        Patient   Age  Gender Body temperature    Underlying diseases  \\\n",
              "0  Abbreviation   NaN     F/M               °C                   Udis   \n",
              "1  Normal range   NaN     F/M          ≤37.2°C                     No   \n",
              "2   Patient 324  34.0  Female             38.3  No underlying disease   \n",
              "\n",
              "  Mean corpuscular hemoglobin concentration Mean corpuscular hemoglobin  \\\n",
              "0                                      MCHC                         MCH   \n",
              "1                               316-354 g/L                    27-34 pg   \n",
              "2                                       316                        25.1   \n",
              "\n",
              "  Mean corpuscular volume Hematocrit   Hemoglobin  ... Fungi (1-3)-β-D-glucan  \\\n",
              "0                     MCV        HCT          HGB  ...                    FDG   \n",
              "1               82-100 fl    40-50 %  130-175 g/L  ...           <100.5 pg/ml   \n",
              "2                    79.4       31.9          101  ...                    NaN   \n",
              "\n",
              "            Lipase             Urea Urinary albumin  \\\n",
              "0              LPS              UrU            UALB   \n",
              "1  13.00-60.00 U/L  3.1-8.80 mmol/L       0-20 mg/L   \n",
              "2              NaN              NaN             NaN   \n",
              "\n",
              "  Blood coagulation factor VIII activity Anti-streptolysin O  \\\n",
              "0                                   BCF8                 ASO   \n",
              "1                           70.0-150.0 %      0-200.00 IU/ml   \n",
              "2                                    NaN                 NaN   \n",
              "\n",
              "  Plasma protein S activity Rheumatoid factor Plasma protein C activity  \\\n",
              "0                       PPS                RF                       PPC   \n",
              "1            60.00-120.00 %     0-30.00 IU/ml            70.00-140.00 %   \n",
              "2                       NaN               NaN                       NaN   \n",
              "\n",
              "        Lactic acid  \n",
              "0               LAC  \n",
              "1  1.33-1.78 mmol/L  \n",
              "2               NaN  \n",
              "\n",
              "[3 rows x 128 columns]"
            ],
            "text/html": [
              "\n",
              "  <div id=\"df-a2a26160-0343-48d4-8f4e-31ea699bfc14\">\n",
              "    <div class=\"colab-df-container\">\n",
              "      <div>\n",
              "<style scoped>\n",
              "    .dataframe tbody tr th:only-of-type {\n",
              "        vertical-align: middle;\n",
              "    }\n",
              "\n",
              "    .dataframe tbody tr th {\n",
              "        vertical-align: top;\n",
              "    }\n",
              "\n",
              "    .dataframe thead th {\n",
              "        text-align: right;\n",
              "    }\n",
              "</style>\n",
              "<table border=\"1\" class=\"dataframe\">\n",
              "  <thead>\n",
              "    <tr style=\"text-align: right;\">\n",
              "      <th></th>\n",
              "      <th>Patient</th>\n",
              "      <th>Age</th>\n",
              "      <th>Gender</th>\n",
              "      <th>Body temperature</th>\n",
              "      <th>Underlying diseases</th>\n",
              "      <th>Mean corpuscular hemoglobin concentration</th>\n",
              "      <th>Mean corpuscular hemoglobin</th>\n",
              "      <th>Mean corpuscular volume</th>\n",
              "      <th>Hematocrit</th>\n",
              "      <th>Hemoglobin</th>\n",
              "      <th>...</th>\n",
              "      <th>Fungi (1-3)-β-D-glucan</th>\n",
              "      <th>Lipase</th>\n",
              "      <th>Urea</th>\n",
              "      <th>Urinary albumin</th>\n",
              "      <th>Blood coagulation factor VIII activity</th>\n",
              "      <th>Anti-streptolysin O</th>\n",
              "      <th>Plasma protein S activity</th>\n",
              "      <th>Rheumatoid factor</th>\n",
              "      <th>Plasma protein C activity</th>\n",
              "      <th>Lactic acid</th>\n",
              "    </tr>\n",
              "  </thead>\n",
              "  <tbody>\n",
              "    <tr>\n",
              "      <th>0</th>\n",
              "      <td>Abbreviation</td>\n",
              "      <td>NaN</td>\n",
              "      <td>F/M</td>\n",
              "      <td>°C</td>\n",
              "      <td>Udis</td>\n",
              "      <td>MCHC</td>\n",
              "      <td>MCH</td>\n",
              "      <td>MCV</td>\n",
              "      <td>HCT</td>\n",
              "      <td>HGB</td>\n",
              "      <td>...</td>\n",
              "      <td>FDG</td>\n",
              "      <td>LPS</td>\n",
              "      <td>UrU</td>\n",
              "      <td>UALB</td>\n",
              "      <td>BCF8</td>\n",
              "      <td>ASO</td>\n",
              "      <td>PPS</td>\n",
              "      <td>RF</td>\n",
              "      <td>PPC</td>\n",
              "      <td>LAC</td>\n",
              "    </tr>\n",
              "    <tr>\n",
              "      <th>1</th>\n",
              "      <td>Normal range</td>\n",
              "      <td>NaN</td>\n",
              "      <td>F/M</td>\n",
              "      <td>≤37.2°C</td>\n",
              "      <td>No</td>\n",
              "      <td>316-354 g/L</td>\n",
              "      <td>27-34 pg</td>\n",
              "      <td>82-100 fl</td>\n",
              "      <td>40-50 %</td>\n",
              "      <td>130-175 g/L</td>\n",
              "      <td>...</td>\n",
              "      <td>&lt;100.5 pg/ml</td>\n",
              "      <td>13.00-60.00 U/L</td>\n",
              "      <td>3.1-8.80 mmol/L</td>\n",
              "      <td>0-20 mg/L</td>\n",
              "      <td>70.0-150.0 %</td>\n",
              "      <td>0-200.00 IU/ml</td>\n",
              "      <td>60.00-120.00 %</td>\n",
              "      <td>0-30.00 IU/ml</td>\n",
              "      <td>70.00-140.00 %</td>\n",
              "      <td>1.33-1.78 mmol/L</td>\n",
              "    </tr>\n",
              "    <tr>\n",
              "      <th>2</th>\n",
              "      <td>Patient 324</td>\n",
              "      <td>34.0</td>\n",
              "      <td>Female</td>\n",
              "      <td>38.3</td>\n",
              "      <td>No underlying disease</td>\n",
              "      <td>316</td>\n",
              "      <td>25.1</td>\n",
              "      <td>79.4</td>\n",
              "      <td>31.9</td>\n",
              "      <td>101</td>\n",
              "      <td>...</td>\n",
              "      <td>NaN</td>\n",
              "      <td>NaN</td>\n",
              "      <td>NaN</td>\n",
              "      <td>NaN</td>\n",
              "      <td>NaN</td>\n",
              "      <td>NaN</td>\n",
              "      <td>NaN</td>\n",
              "      <td>NaN</td>\n",
              "      <td>NaN</td>\n",
              "      <td>NaN</td>\n",
              "    </tr>\n",
              "  </tbody>\n",
              "</table>\n",
              "<p>3 rows × 128 columns</p>\n",
              "</div>\n",
              "      <button class=\"colab-df-convert\" onclick=\"convertToInteractive('df-a2a26160-0343-48d4-8f4e-31ea699bfc14')\"\n",
              "              title=\"Convert this dataframe to an interactive table.\"\n",
              "              style=\"display:none;\">\n",
              "        \n",
              "  <svg xmlns=\"http://www.w3.org/2000/svg\" height=\"24px\"viewBox=\"0 0 24 24\"\n",
              "       width=\"24px\">\n",
              "    <path d=\"M0 0h24v24H0V0z\" fill=\"none\"/>\n",
              "    <path d=\"M18.56 5.44l.94 2.06.94-2.06 2.06-.94-2.06-.94-.94-2.06-.94 2.06-2.06.94zm-11 1L8.5 8.5l.94-2.06 2.06-.94-2.06-.94L8.5 2.5l-.94 2.06-2.06.94zm10 10l.94 2.06.94-2.06 2.06-.94-2.06-.94-.94-2.06-.94 2.06-2.06.94z\"/><path d=\"M17.41 7.96l-1.37-1.37c-.4-.4-.92-.59-1.43-.59-.52 0-1.04.2-1.43.59L10.3 9.45l-7.72 7.72c-.78.78-.78 2.05 0 2.83L4 21.41c.39.39.9.59 1.41.59.51 0 1.02-.2 1.41-.59l7.78-7.78 2.81-2.81c.8-.78.8-2.07 0-2.86zM5.41 20L4 18.59l7.72-7.72 1.47 1.35L5.41 20z\"/>\n",
              "  </svg>\n",
              "      </button>\n",
              "      \n",
              "  <style>\n",
              "    .colab-df-container {\n",
              "      display:flex;\n",
              "      flex-wrap:wrap;\n",
              "      gap: 12px;\n",
              "    }\n",
              "\n",
              "    .colab-df-convert {\n",
              "      background-color: #E8F0FE;\n",
              "      border: none;\n",
              "      border-radius: 50%;\n",
              "      cursor: pointer;\n",
              "      display: none;\n",
              "      fill: #1967D2;\n",
              "      height: 32px;\n",
              "      padding: 0 0 0 0;\n",
              "      width: 32px;\n",
              "    }\n",
              "\n",
              "    .colab-df-convert:hover {\n",
              "      background-color: #E2EBFA;\n",
              "      box-shadow: 0px 1px 2px rgba(60, 64, 67, 0.3), 0px 1px 3px 1px rgba(60, 64, 67, 0.15);\n",
              "      fill: #174EA6;\n",
              "    }\n",
              "\n",
              "    [theme=dark] .colab-df-convert {\n",
              "      background-color: #3B4455;\n",
              "      fill: #D2E3FC;\n",
              "    }\n",
              "\n",
              "    [theme=dark] .colab-df-convert:hover {\n",
              "      background-color: #434B5C;\n",
              "      box-shadow: 0px 1px 3px 1px rgba(0, 0, 0, 0.15);\n",
              "      filter: drop-shadow(0px 1px 2px rgba(0, 0, 0, 0.3));\n",
              "      fill: #FFFFFF;\n",
              "    }\n",
              "  </style>\n",
              "\n",
              "      <script>\n",
              "        const buttonEl =\n",
              "          document.querySelector('#df-a2a26160-0343-48d4-8f4e-31ea699bfc14 button.colab-df-convert');\n",
              "        buttonEl.style.display =\n",
              "          google.colab.kernel.accessAllowed ? 'block' : 'none';\n",
              "\n",
              "        async function convertToInteractive(key) {\n",
              "          const element = document.querySelector('#df-a2a26160-0343-48d4-8f4e-31ea699bfc14');\n",
              "          const dataTable =\n",
              "            await google.colab.kernel.invokeFunction('convertToInteractive',\n",
              "                                                     [key], {});\n",
              "          if (!dataTable) return;\n",
              "\n",
              "          const docLinkHtml = 'Like what you see? Visit the ' +\n",
              "            '<a target=\"_blank\" href=https://colab.research.google.com/notebooks/data_table.ipynb>data table notebook</a>'\n",
              "            + ' to learn more about interactive tables.';\n",
              "          element.innerHTML = '';\n",
              "          dataTable['output_type'] = 'display_data';\n",
              "          await google.colab.output.renderOutput(dataTable, element);\n",
              "          const docLink = document.createElement('div');\n",
              "          docLink.innerHTML = docLinkHtml;\n",
              "          element.appendChild(docLink);\n",
              "        }\n",
              "      </script>\n",
              "    </div>\n",
              "  </div>\n",
              "  "
            ]
          },
          "metadata": {},
          "execution_count": 6
        }
      ]
    },
    {
      "cell_type": "code",
      "source": [
        "real_data = open(\"/content/drive/MyDrive/Deep Learning Project/UWI Capstone/Data/Data PIPES/Struc Data/CF_dataset.txt\")\n",
        "real_data = list(real_data)\n",
        "paragraph = real_data[0]"
      ],
      "metadata": {
        "id": "kbvoGyFPnyqi"
      },
      "execution_count": null,
      "outputs": []
    },
    {
      "cell_type": "code",
      "source": [
        "Tests = Sample_Features\n",
        "Tests = Tests.T\n",
        "Tests = list(Tests[0])\n",
        "Tests = Tests[5:]"
      ],
      "metadata": {
        "id": "u20oYle6xre9"
      },
      "execution_count": null,
      "outputs": []
    },
    {
      "cell_type": "code",
      "source": [
        "patient_info = list(Sample_Features.columns)\n",
        "patient_info.insert(5, \"SARS-CoV-2 nucleic acids\")\n",
        "patient_info.insert(6, \"Computed tomography\")\n",
        "patient_info.insert(7, \"Mortality\")\n",
        "patient_info.insert(8, \"Morbidity\")\n",
        "patient_info.insert(1, \"Hospital\")\n",
        "patient_info = patient_info[0:10]"
      ],
      "metadata": {
        "id": "9_cWE7pw_y0v"
      },
      "execution_count": null,
      "outputs": []
    },
    {
      "cell_type": "code",
      "source": [
        "def get_test_results(patient_info, paragraph, Tests):\n",
        "      dict = list()\n",
        "      patientInfoTest_dict = {}\n",
        "\n",
        "      paragraph_split = paragraph.split(\"Routine\")\n",
        "      patientInfo_sep = paragraph_split[0].replace(\"\\t\",\"_\").replace(\", \",\"\").split(\"_\")\n",
        "\n",
        "\n",
        "      for x,i in enumerate(patient_info):\n",
        "        patientInfoTest_dict[i] = patientInfo_sep[x]\n",
        "\n",
        "      for test in Tests:\n",
        "\n",
        "         s = paragraph.split(\"Routine\")\n",
        "         s = s[1].replace(\"+\",\"_\").replace(\"__\",\"_\")\n",
        "\n",
        "         if (\"_\" +test+ \"_\") in s:\n",
        "           pattern = r\"[<>_-][&%$#@!-><\\d]+.\\d+\"\n",
        "           test_value_match =re.findall(\"_\"+test+pattern, s)\n",
        "           test_value_match =  test_value_match[0]\n",
        "           dict.append(test_value_match)\n",
        "         else:\n",
        "           test_value_match = \"_\"+ test + \"_\" + \"\"\n",
        "           dict.append(test_value_match)\n",
        "\n",
        "      for i in dict:\n",
        "        split_test_value_match = i.split(\"_\")\n",
        "        patientInfoTest_dict[split_test_value_match[1]] = split_test_value_match[2]\n",
        "      return patientInfoTest_dict\n",
        "\n",
        "Patient = get_test_results(patient_info, paragraph, Tests)\n",
        "Patient_df = pd.DataFrame(Patient, index=[0])\n"
      ],
      "metadata": {
        "id": "0UMbc-j40E6b"
      },
      "execution_count": null,
      "outputs": []
    },
    {
      "cell_type": "code",
      "source": [
        "temp_data_list = []\n",
        "\n",
        "for i in range(1521):\n",
        "  Original_paragraph = real_data[i]\n",
        "  c= get_test_results(patient_info, Original_paragraph, Tests)\n",
        "  temp_data_list.append(c)\n",
        "\n",
        "Main_dic = {k: [d[k] for d in temp_data_list] for k in temp_data_list [0]}\n"
      ],
      "metadata": {
        "id": "iHEuPfER_hpS"
      },
      "execution_count": null,
      "outputs": []
    },
    {
      "cell_type": "code",
      "source": [
        "COVID19data = pd.DataFrame(Main_dic)\n"
      ],
      "metadata": {
        "id": "6liIG1SWPoeX"
      },
      "execution_count": null,
      "outputs": []
    },
    {
      "cell_type": "code",
      "source": [
        "COVID19data.to_csv(\"/content/drive/MyDrive/Deep Learning Project/UWI Capstone/Data/Cured Data/Stru Data/Covid19\", encoding=\"utf-8\", index=False)"
      ],
      "metadata": {
        "id": "Mec8H3EVOdt2"
      },
      "execution_count": null,
      "outputs": []
    },
    {
      "cell_type": "code",
      "source": [
        "COVID = pd.read_csv(\"/content/drive/MyDrive/Deep Learning Project/UWI Capstone/Data/Cured Data/Stru Data/Covid19\")"
      ],
      "metadata": {
        "id": "bKzcaGoBA9iN"
      },
      "execution_count": null,
      "outputs": []
    }
  ]
}