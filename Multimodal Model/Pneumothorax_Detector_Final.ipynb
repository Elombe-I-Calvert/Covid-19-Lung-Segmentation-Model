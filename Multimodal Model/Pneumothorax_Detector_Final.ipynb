{
  "nbformat": 4,
  "nbformat_minor": 0,
  "metadata": {
    "colab": {
      "provenance": []
    },
    "kernelspec": {
      "name": "python3",
      "display_name": "Python 3"
    },
    "language_info": {
      "name": "python"
    },
    "accelerator": "GPU"
  },
  "cells": [
    {
      "cell_type": "code",
      "source": [
        "import pandas as pd"
      ],
      "metadata": {
        "id": "1blHwGsyz0OD"
      },
      "execution_count": null,
      "outputs": []
    },
    {
      "cell_type": "code",
      "source": [
        "#installing the libraries:\n",
        "\n",
        "import pandas as pd\n",
        "import numpy as np\n",
        "from glob import glob\n",
        "import glob2\n",
        "from tqdm import tqdm\n",
        "import shutil\n",
        "import os\n",
        "import matplotlib.pyplot as plt\n",
        "import seaborn as sns\n",
        "import cv2\n",
        "from PIL import Image\n",
        "import warnings\n",
        "from joblib import Parallel, delayed\n",
        "warnings.filterwarnings(\"ignore\")\n",
        "from tensorflow.keras.preprocessing.image import ImageDataGenerator\n",
        "import sklearn\n",
        "from sklearn import metrics\n",
        "from sklearn.metrics import confusion_matrix,precision_recall_curve,average_precision_score,accuracy_score"
      ],
      "metadata": {
        "id": "ijiuMqUpD0dY"
      },
      "execution_count": null,
      "outputs": []
    },
    {
      "cell_type": "code",
      "source": [
        "import tensorflow as tf\n",
        "import keras\n",
        "# tf.enable_eager_execution()\n",
        "import os\n",
        "import numpy as np\n",
        "import pandas as pd\n",
        "import cv2\n",
        "import matplotlib.pyplot as plt\n",
        "# from hilbert import hilbertCurve\n",
        "import imgaug.augmenters as iaa\n",
        "import numpy as np\n",
        "import random as rn\n",
        "from tensorflow.keras.callbacks import ModelCheckpoint, EarlyStopping, LearningRateScheduler, ReduceLROnPlateau, Callback\n",
        "import os\n",
        "import numpy as np\n",
        "import pandas as pd\n",
        "from sklearn.model_selection import train_test_split\n",
        "# import tensorflow.keras.applications.efficientnet as efn\n",
        "from tensorflow.keras import Sequential\n",
        "from keras.models import Model\n",
        "from tensorflow.keras.utils import plot_model\n",
        "from tensorflow.keras.applications import densenet\n",
        "from tensorflow.keras.preprocessing.image import ImageDataGenerator\n",
        "from tensorflow.keras.layers import GlobalAveragePooling2D, GlobalMaxPooling2D, AveragePooling2D\n",
        "\n",
        "from tensorflow import reduce_sum\n",
        "from tensorflow.keras.utils import Sequence\n",
        "from tensorflow.keras.models import Model\n",
        "from tensorflow.keras.layers import Input, Conv2D, Conv2DTranspose, MaxPool2D, Dropout, concatenate, Flatten\n",
        "from tensorflow.keras.losses import binary_crossentropy\n",
        "from tensorflow.keras.optimizers import Adam\n",
        "from tensorflow.keras.regularizers import l2\n",
        "from sklearn.model_selection import train_test_split"
      ],
      "metadata": {
        "id": "Ln2yveuuD7ip"
      },
      "execution_count": null,
      "outputs": []
    },
    {
      "cell_type": "code",
      "source": [
        "from skimage.transform import resize\n",
        "import tensorflow as tf\n",
        "import keras.backend as K\n",
        "from keras.losses import binary_crossentropy\n",
        "\n",
        "from keras.preprocessing.image import load_img\n",
        "from keras import Model\n",
        "from keras.callbacks import  ModelCheckpoint\n",
        "from keras.layers import Input, Conv2D, Conv2DTranspose, MaxPooling2D, concatenate, Dropout,BatchNormalization\n",
        "from keras.layers import Conv2D, Concatenate, MaxPooling2D\n",
        "from keras.layers import UpSampling2D, Dropout, BatchNormalization\n",
        "from tqdm import tqdm_notebook\n",
        "from keras import initializers\n",
        "from keras import regularizers\n",
        "from keras import constraints\n",
        "from keras.utils import conv_utils\n",
        "from keras.utils.data_utils import get_file\n",
        "from keras import backend as K\n",
        "from keras.layers import LeakyReLU\n",
        "from keras.layers import ZeroPadding2D\n",
        "from keras.losses import binary_crossentropy\n",
        "import keras.callbacks as callbacks\n",
        "from keras.callbacks import Callback\n",
        "from keras.applications.xception import Xception\n",
        "from keras.layers import multiply\n",
        "\n",
        "\n",
        "from keras import optimizers\n",
        "#from keras.legacy import interfaces\n",
        "from keras.utils.generic_utils import get_custom_objects\n",
        "\n",
        "from keras.engine.training import Model\n",
        "from keras.layers.convolutional import Conv2D, UpSampling2D, Conv2DTranspose\n",
        "from keras.layers.core import Activation, SpatialDropout2D\n",
        "from keras.layers.merge import concatenate\n",
        "from keras.layers.pooling import MaxPooling2D\n",
        "from keras.layers import Input,Dropout,BatchNormalization,Activation,Add\n",
        "from keras.regularizers import l2\n",
        "from keras.layers.core import Dense, Lambda\n",
        "from keras.layers.merge import concatenate, add\n",
        "from keras.layers import GlobalAveragePooling2D, Reshape, Dense, multiply, Permute\n",
        "from keras.preprocessing.image import ImageDataGenerator\n",
        "\n",
        "import glob\n",
        "import shutil\n",
        "import os\n",
        "import random\n",
        "from PIL import Image"
      ],
      "metadata": {
        "id": "G4A7bNH6EAB4"
      },
      "execution_count": null,
      "outputs": []
    },
    {
      "cell_type": "code",
      "execution_count": null,
      "metadata": {
        "colab": {
          "base_uri": "https://localhost:8080/"
        },
        "id": "_wpeSvJxxvXH",
        "outputId": "c1ddb3cc-8904-45a8-cac7-3f1d6b3c16f8"
      },
      "outputs": [
        {
          "output_type": "stream",
          "name": "stdout",
          "text": [
            "Mounted at /content/drive\n"
          ]
        }
      ],
      "source": [
        "# Mounting the Drive\n",
        "\n",
        "from google.colab import drive\n",
        "drive.mount('/content/drive')"
      ]
    },
    {
      "cell_type": "code",
      "source": [
        "gpu_info = !nvidia-smi\n",
        "gpu_info = '\\n'.join(gpu_info)\n",
        "if gpu_info.find('failed') >= 0:\n",
        "  print('Select the Runtime > \"Change runtime type\" menu to enable a GPU accelerator, ')\n",
        "  print('and then re-execute this cell.')\n",
        "else:\n",
        "  print(gpu_info)"
      ],
      "metadata": {
        "id": "-FZexp9Dy1Vz",
        "colab": {
          "base_uri": "https://localhost:8080/"
        },
        "outputId": "28e5b5d8-7c93-4c45-98c0-4c0410ee9d46"
      },
      "execution_count": null,
      "outputs": [
        {
          "output_type": "stream",
          "name": "stdout",
          "text": [
            "Tue May 31 00:24:41 2022       \n",
            "+-----------------------------------------------------------------------------+\n",
            "| NVIDIA-SMI 460.32.03    Driver Version: 460.32.03    CUDA Version: 11.2     |\n",
            "|-------------------------------+----------------------+----------------------+\n",
            "| GPU  Name        Persistence-M| Bus-Id        Disp.A | Volatile Uncorr. ECC |\n",
            "| Fan  Temp  Perf  Pwr:Usage/Cap|         Memory-Usage | GPU-Util  Compute M. |\n",
            "|                               |                      |               MIG M. |\n",
            "|===============================+======================+======================|\n",
            "|   0  Tesla P100-PCIE...  Off  | 00000000:00:04.0 Off |                    0 |\n",
            "| N/A   41C    P0    28W / 250W |      0MiB / 16280MiB |      0%      Default |\n",
            "|                               |                      |                  N/A |\n",
            "+-------------------------------+----------------------+----------------------+\n",
            "                                                                               \n",
            "+-----------------------------------------------------------------------------+\n",
            "| Processes:                                                                  |\n",
            "|  GPU   GI   CI        PID   Type   Process name                  GPU Memory |\n",
            "|        ID   ID                                                   Usage      |\n",
            "|=============================================================================|\n",
            "|  No running processes found                                                 |\n",
            "+-----------------------------------------------------------------------------+\n"
          ]
        }
      ]
    },
    {
      "cell_type": "code",
      "source": [
        "final_train_df = pd.read_csv('/content/drive/MyDrive/Deep Learning Project/Navesha Palmer/Data/Files/Label.csv')"
      ],
      "metadata": {
        "id": "EhxCk48OzMqj"
      },
      "execution_count": null,
      "outputs": []
    },
    {
      "cell_type": "code",
      "source": [
        "final_train_df['Target'] = final_train_df[' EncodedPixels'].apply(lambda x : 0 if x == 'No Pneumothorax' else 1)\n",
        "final_train_df.head(2)"
      ],
      "metadata": {
        "colab": {
          "base_uri": "https://localhost:8080/",
          "height": 112
        },
        "id": "OdsCzS1j0DoO",
        "outputId": "039d1cb4-a100-4487-e8c2-8c914c2f93fa"
      },
      "execution_count": null,
      "outputs": [
        {
          "output_type": "execute_result",
          "data": {
            "text/plain": [
              "                                             ImageId    EncodedPixels  Target\n",
              "0  1.2.276.0.7230010.3.1.4.8323329.6904.151787520...  No Pneumothorax       0\n",
              "1  1.2.276.0.7230010.3.1.4.8323329.13666.15178752...     Pneumothorax       1"
            ],
            "text/html": [
              "\n",
              "  <div id=\"df-e9c460fb-79c7-4c71-ae6c-83de5b27710e\">\n",
              "    <div class=\"colab-df-container\">\n",
              "      <div>\n",
              "<style scoped>\n",
              "    .dataframe tbody tr th:only-of-type {\n",
              "        vertical-align: middle;\n",
              "    }\n",
              "\n",
              "    .dataframe tbody tr th {\n",
              "        vertical-align: top;\n",
              "    }\n",
              "\n",
              "    .dataframe thead th {\n",
              "        text-align: right;\n",
              "    }\n",
              "</style>\n",
              "<table border=\"1\" class=\"dataframe\">\n",
              "  <thead>\n",
              "    <tr style=\"text-align: right;\">\n",
              "      <th></th>\n",
              "      <th>ImageId</th>\n",
              "      <th>EncodedPixels</th>\n",
              "      <th>Target</th>\n",
              "    </tr>\n",
              "  </thead>\n",
              "  <tbody>\n",
              "    <tr>\n",
              "      <th>0</th>\n",
              "      <td>1.2.276.0.7230010.3.1.4.8323329.6904.151787520...</td>\n",
              "      <td>No Pneumothorax</td>\n",
              "      <td>0</td>\n",
              "    </tr>\n",
              "    <tr>\n",
              "      <th>1</th>\n",
              "      <td>1.2.276.0.7230010.3.1.4.8323329.13666.15178752...</td>\n",
              "      <td>Pneumothorax</td>\n",
              "      <td>1</td>\n",
              "    </tr>\n",
              "  </tbody>\n",
              "</table>\n",
              "</div>\n",
              "      <button class=\"colab-df-convert\" onclick=\"convertToInteractive('df-e9c460fb-79c7-4c71-ae6c-83de5b27710e')\"\n",
              "              title=\"Convert this dataframe to an interactive table.\"\n",
              "              style=\"display:none;\">\n",
              "        \n",
              "  <svg xmlns=\"http://www.w3.org/2000/svg\" height=\"24px\"viewBox=\"0 0 24 24\"\n",
              "       width=\"24px\">\n",
              "    <path d=\"M0 0h24v24H0V0z\" fill=\"none\"/>\n",
              "    <path d=\"M18.56 5.44l.94 2.06.94-2.06 2.06-.94-2.06-.94-.94-2.06-.94 2.06-2.06.94zm-11 1L8.5 8.5l.94-2.06 2.06-.94-2.06-.94L8.5 2.5l-.94 2.06-2.06.94zm10 10l.94 2.06.94-2.06 2.06-.94-2.06-.94-.94-2.06-.94 2.06-2.06.94z\"/><path d=\"M17.41 7.96l-1.37-1.37c-.4-.4-.92-.59-1.43-.59-.52 0-1.04.2-1.43.59L10.3 9.45l-7.72 7.72c-.78.78-.78 2.05 0 2.83L4 21.41c.39.39.9.59 1.41.59.51 0 1.02-.2 1.41-.59l7.78-7.78 2.81-2.81c.8-.78.8-2.07 0-2.86zM5.41 20L4 18.59l7.72-7.72 1.47 1.35L5.41 20z\"/>\n",
              "  </svg>\n",
              "      </button>\n",
              "      \n",
              "  <style>\n",
              "    .colab-df-container {\n",
              "      display:flex;\n",
              "      flex-wrap:wrap;\n",
              "      gap: 12px;\n",
              "    }\n",
              "\n",
              "    .colab-df-convert {\n",
              "      background-color: #E8F0FE;\n",
              "      border: none;\n",
              "      border-radius: 50%;\n",
              "      cursor: pointer;\n",
              "      display: none;\n",
              "      fill: #1967D2;\n",
              "      height: 32px;\n",
              "      padding: 0 0 0 0;\n",
              "      width: 32px;\n",
              "    }\n",
              "\n",
              "    .colab-df-convert:hover {\n",
              "      background-color: #E2EBFA;\n",
              "      box-shadow: 0px 1px 2px rgba(60, 64, 67, 0.3), 0px 1px 3px 1px rgba(60, 64, 67, 0.15);\n",
              "      fill: #174EA6;\n",
              "    }\n",
              "\n",
              "    [theme=dark] .colab-df-convert {\n",
              "      background-color: #3B4455;\n",
              "      fill: #D2E3FC;\n",
              "    }\n",
              "\n",
              "    [theme=dark] .colab-df-convert:hover {\n",
              "      background-color: #434B5C;\n",
              "      box-shadow: 0px 1px 3px 1px rgba(0, 0, 0, 0.15);\n",
              "      filter: drop-shadow(0px 1px 2px rgba(0, 0, 0, 0.3));\n",
              "      fill: #FFFFFF;\n",
              "    }\n",
              "  </style>\n",
              "\n",
              "      <script>\n",
              "        const buttonEl =\n",
              "          document.querySelector('#df-e9c460fb-79c7-4c71-ae6c-83de5b27710e button.colab-df-convert');\n",
              "        buttonEl.style.display =\n",
              "          google.colab.kernel.accessAllowed ? 'block' : 'none';\n",
              "\n",
              "        async function convertToInteractive(key) {\n",
              "          const element = document.querySelector('#df-e9c460fb-79c7-4c71-ae6c-83de5b27710e');\n",
              "          const dataTable =\n",
              "            await google.colab.kernel.invokeFunction('convertToInteractive',\n",
              "                                                     [key], {});\n",
              "          if (!dataTable) return;\n",
              "\n",
              "          const docLinkHtml = 'Like what you see? Visit the ' +\n",
              "            '<a target=\"_blank\" href=https://colab.research.google.com/notebooks/data_table.ipynb>data table notebook</a>'\n",
              "            + ' to learn more about interactive tables.';\n",
              "          element.innerHTML = '';\n",
              "          dataTable['output_type'] = 'display_data';\n",
              "          await google.colab.output.renderOutput(dataTable, element);\n",
              "          const docLink = document.createElement('div');\n",
              "          docLink.innerHTML = docLinkHtml;\n",
              "          element.appendChild(docLink);\n",
              "        }\n",
              "      </script>\n",
              "    </div>\n",
              "  </div>\n",
              "  "
            ]
          },
          "metadata": {},
          "execution_count": 7
        }
      ]
    },
    {
      "cell_type": "code",
      "source": [
        "#Saving the JPEG image paths in the Train Dataframe :\n",
        "\n",
        "final_train_df['ImagePath_Png'] = '/content/drive/MyDrive/Deep Learning Project/Navesha Palmer/Data/Files/PNG Images/Images/'+ final_train_df['ImageId']+'.jpg'\n",
        "final_train_df.head(5)"
      ],
      "metadata": {
        "id": "Y35IsmSN0kLW",
        "colab": {
          "base_uri": "https://localhost:8080/",
          "height": 206
        },
        "outputId": "271eaa50-39ad-43e9-e4ec-d98808a5ab13"
      },
      "execution_count": null,
      "outputs": [
        {
          "output_type": "execute_result",
          "data": {
            "text/plain": [
              "                                             ImageId    EncodedPixels  Target  \\\n",
              "0  1.2.276.0.7230010.3.1.4.8323329.6904.151787520...  No Pneumothorax       0   \n",
              "1  1.2.276.0.7230010.3.1.4.8323329.13666.15178752...     Pneumothorax       1   \n",
              "2  1.2.276.0.7230010.3.1.4.8323329.11028.15178752...  No Pneumothorax       0   \n",
              "3  1.2.276.0.7230010.3.1.4.8323329.10366.15178752...     Pneumothorax       1   \n",
              "4  1.2.276.0.7230010.3.1.4.8323329.10016.15178752...     Pneumothorax       1   \n",
              "\n",
              "                                       ImagePath_Png  \n",
              "0  /content/drive/MyDrive/Deep Learning Project/N...  \n",
              "1  /content/drive/MyDrive/Deep Learning Project/N...  \n",
              "2  /content/drive/MyDrive/Deep Learning Project/N...  \n",
              "3  /content/drive/MyDrive/Deep Learning Project/N...  \n",
              "4  /content/drive/MyDrive/Deep Learning Project/N...  "
            ],
            "text/html": [
              "\n",
              "  <div id=\"df-976ac7e3-d3f2-442e-b78f-bb448f773b17\">\n",
              "    <div class=\"colab-df-container\">\n",
              "      <div>\n",
              "<style scoped>\n",
              "    .dataframe tbody tr th:only-of-type {\n",
              "        vertical-align: middle;\n",
              "    }\n",
              "\n",
              "    .dataframe tbody tr th {\n",
              "        vertical-align: top;\n",
              "    }\n",
              "\n",
              "    .dataframe thead th {\n",
              "        text-align: right;\n",
              "    }\n",
              "</style>\n",
              "<table border=\"1\" class=\"dataframe\">\n",
              "  <thead>\n",
              "    <tr style=\"text-align: right;\">\n",
              "      <th></th>\n",
              "      <th>ImageId</th>\n",
              "      <th>EncodedPixels</th>\n",
              "      <th>Target</th>\n",
              "      <th>ImagePath_Png</th>\n",
              "    </tr>\n",
              "  </thead>\n",
              "  <tbody>\n",
              "    <tr>\n",
              "      <th>0</th>\n",
              "      <td>1.2.276.0.7230010.3.1.4.8323329.6904.151787520...</td>\n",
              "      <td>No Pneumothorax</td>\n",
              "      <td>0</td>\n",
              "      <td>/content/drive/MyDrive/Deep Learning Project/N...</td>\n",
              "    </tr>\n",
              "    <tr>\n",
              "      <th>1</th>\n",
              "      <td>1.2.276.0.7230010.3.1.4.8323329.13666.15178752...</td>\n",
              "      <td>Pneumothorax</td>\n",
              "      <td>1</td>\n",
              "      <td>/content/drive/MyDrive/Deep Learning Project/N...</td>\n",
              "    </tr>\n",
              "    <tr>\n",
              "      <th>2</th>\n",
              "      <td>1.2.276.0.7230010.3.1.4.8323329.11028.15178752...</td>\n",
              "      <td>No Pneumothorax</td>\n",
              "      <td>0</td>\n",
              "      <td>/content/drive/MyDrive/Deep Learning Project/N...</td>\n",
              "    </tr>\n",
              "    <tr>\n",
              "      <th>3</th>\n",
              "      <td>1.2.276.0.7230010.3.1.4.8323329.10366.15178752...</td>\n",
              "      <td>Pneumothorax</td>\n",
              "      <td>1</td>\n",
              "      <td>/content/drive/MyDrive/Deep Learning Project/N...</td>\n",
              "    </tr>\n",
              "    <tr>\n",
              "      <th>4</th>\n",
              "      <td>1.2.276.0.7230010.3.1.4.8323329.10016.15178752...</td>\n",
              "      <td>Pneumothorax</td>\n",
              "      <td>1</td>\n",
              "      <td>/content/drive/MyDrive/Deep Learning Project/N...</td>\n",
              "    </tr>\n",
              "  </tbody>\n",
              "</table>\n",
              "</div>\n",
              "      <button class=\"colab-df-convert\" onclick=\"convertToInteractive('df-976ac7e3-d3f2-442e-b78f-bb448f773b17')\"\n",
              "              title=\"Convert this dataframe to an interactive table.\"\n",
              "              style=\"display:none;\">\n",
              "        \n",
              "  <svg xmlns=\"http://www.w3.org/2000/svg\" height=\"24px\"viewBox=\"0 0 24 24\"\n",
              "       width=\"24px\">\n",
              "    <path d=\"M0 0h24v24H0V0z\" fill=\"none\"/>\n",
              "    <path d=\"M18.56 5.44l.94 2.06.94-2.06 2.06-.94-2.06-.94-.94-2.06-.94 2.06-2.06.94zm-11 1L8.5 8.5l.94-2.06 2.06-.94-2.06-.94L8.5 2.5l-.94 2.06-2.06.94zm10 10l.94 2.06.94-2.06 2.06-.94-2.06-.94-.94-2.06-.94 2.06-2.06.94z\"/><path d=\"M17.41 7.96l-1.37-1.37c-.4-.4-.92-.59-1.43-.59-.52 0-1.04.2-1.43.59L10.3 9.45l-7.72 7.72c-.78.78-.78 2.05 0 2.83L4 21.41c.39.39.9.59 1.41.59.51 0 1.02-.2 1.41-.59l7.78-7.78 2.81-2.81c.8-.78.8-2.07 0-2.86zM5.41 20L4 18.59l7.72-7.72 1.47 1.35L5.41 20z\"/>\n",
              "  </svg>\n",
              "      </button>\n",
              "      \n",
              "  <style>\n",
              "    .colab-df-container {\n",
              "      display:flex;\n",
              "      flex-wrap:wrap;\n",
              "      gap: 12px;\n",
              "    }\n",
              "\n",
              "    .colab-df-convert {\n",
              "      background-color: #E8F0FE;\n",
              "      border: none;\n",
              "      border-radius: 50%;\n",
              "      cursor: pointer;\n",
              "      display: none;\n",
              "      fill: #1967D2;\n",
              "      height: 32px;\n",
              "      padding: 0 0 0 0;\n",
              "      width: 32px;\n",
              "    }\n",
              "\n",
              "    .colab-df-convert:hover {\n",
              "      background-color: #E2EBFA;\n",
              "      box-shadow: 0px 1px 2px rgba(60, 64, 67, 0.3), 0px 1px 3px 1px rgba(60, 64, 67, 0.15);\n",
              "      fill: #174EA6;\n",
              "    }\n",
              "\n",
              "    [theme=dark] .colab-df-convert {\n",
              "      background-color: #3B4455;\n",
              "      fill: #D2E3FC;\n",
              "    }\n",
              "\n",
              "    [theme=dark] .colab-df-convert:hover {\n",
              "      background-color: #434B5C;\n",
              "      box-shadow: 0px 1px 3px 1px rgba(0, 0, 0, 0.15);\n",
              "      filter: drop-shadow(0px 1px 2px rgba(0, 0, 0, 0.3));\n",
              "      fill: #FFFFFF;\n",
              "    }\n",
              "  </style>\n",
              "\n",
              "      <script>\n",
              "        const buttonEl =\n",
              "          document.querySelector('#df-976ac7e3-d3f2-442e-b78f-bb448f773b17 button.colab-df-convert');\n",
              "        buttonEl.style.display =\n",
              "          google.colab.kernel.accessAllowed ? 'block' : 'none';\n",
              "\n",
              "        async function convertToInteractive(key) {\n",
              "          const element = document.querySelector('#df-976ac7e3-d3f2-442e-b78f-bb448f773b17');\n",
              "          const dataTable =\n",
              "            await google.colab.kernel.invokeFunction('convertToInteractive',\n",
              "                                                     [key], {});\n",
              "          if (!dataTable) return;\n",
              "\n",
              "          const docLinkHtml = 'Like what you see? Visit the ' +\n",
              "            '<a target=\"_blank\" href=https://colab.research.google.com/notebooks/data_table.ipynb>data table notebook</a>'\n",
              "            + ' to learn more about interactive tables.';\n",
              "          element.innerHTML = '';\n",
              "          dataTable['output_type'] = 'display_data';\n",
              "          await google.colab.output.renderOutput(dataTable, element);\n",
              "          const docLink = document.createElement('div');\n",
              "          docLink.innerHTML = docLinkHtml;\n",
              "          element.appendChild(docLink);\n",
              "        }\n",
              "      </script>\n",
              "    </div>\n",
              "  </div>\n",
              "  "
            ]
          },
          "metadata": {},
          "execution_count": 8
        }
      ]
    },
    {
      "cell_type": "code",
      "source": [
        "imagePath_train = final_train_df['ImagePath_Png']"
      ],
      "metadata": {
        "id": "s40fp_cv22hx"
      },
      "execution_count": null,
      "outputs": []
    },
    {
      "cell_type": "code",
      "source": [
        "# Getting the labels :\n",
        "labels = final_train_df[\"Target\"]"
      ],
      "metadata": {
        "id": "O0I_ffLS3QXV"
      },
      "execution_count": null,
      "outputs": []
    },
    {
      "cell_type": "code",
      "source": [
        "labels.shape"
      ],
      "metadata": {
        "colab": {
          "base_uri": "https://localhost:8080/"
        },
        "id": "lGjUhpqc3edY",
        "outputId": "e526b2f3-f849-4d9c-9fd5-c2b6a617e99a"
      },
      "execution_count": null,
      "outputs": [
        {
          "output_type": "execute_result",
          "data": {
            "text/plain": [
              "(12047,)"
            ]
          },
          "metadata": {},
          "execution_count": 11
        }
      ]
    },
    {
      "cell_type": "code",
      "source": [
        "trainPath, validPath, trainLabels, validLabels = train_test_split(imagePath_train, labels, test_size = 0.1, random_state = 27, stratify=labels)"
      ],
      "metadata": {
        "id": "TIeITqgv3mT4"
      },
      "execution_count": null,
      "outputs": []
    },
    {
      "cell_type": "code",
      "source": [
        "print('Total Train Dataset Size : ', trainPath.shape[0])\n",
        "print('Total Valid Dataset Size : ', validPath.shape[0])"
      ],
      "metadata": {
        "colab": {
          "base_uri": "https://localhost:8080/"
        },
        "id": "uG_Giup55sBq",
        "outputId": "5f0e64de-5dbf-4076-875b-e5cf9069b367"
      },
      "execution_count": null,
      "outputs": [
        {
          "output_type": "stream",
          "name": "stdout",
          "text": [
            "Total Train Dataset Size :  10842\n",
            "Total Valid Dataset Size :  1205\n"
          ]
        }
      ]
    },
    {
      "cell_type": "code",
      "source": [
        "#Getting the count of the records present in train and cv dataset:\n",
        "trainCount=trainLabels.value_counts()\n",
        "validCount = validLabels.value_counts()"
      ],
      "metadata": {
        "id": "BVM-SZ7s8Ac-"
      },
      "execution_count": null,
      "outputs": []
    },
    {
      "cell_type": "code",
      "source": [
        "#Getting the count of individual classes:\n",
        "\n",
        "totalTrainCount = trainLabels.shape[0]\n",
        "totalPosCount = trainCount[1]\n",
        "totalNegCount = trainCount[0]\n",
        "\n",
        "print('Total Train Labels : ', totalTrainCount)\n",
        "print('Total Train Positive Labels : ', totalPosCount)\n",
        "print('Total Train Negative Labels : ', totalNegCount)"
      ],
      "metadata": {
        "colab": {
          "base_uri": "https://localhost:8080/"
        },
        "id": "LXI0G5yB8PZy",
        "outputId": "efd50e7b-2144-4723-b81d-b35905faa875"
      },
      "execution_count": null,
      "outputs": [
        {
          "output_type": "stream",
          "name": "stdout",
          "text": [
            "Total Train Labels :  10842\n",
            "Total Train Positive Labels :  2402\n",
            "Total Train Negative Labels :  8440\n"
          ]
        }
      ]
    },
    {
      "cell_type": "code",
      "source": [
        "VtotalTrainCount = validLabels.shape[0]\n",
        "vtotalPosCount = validCount[1]\n",
        "vtotalNegCount = validCount[0]\n",
        "\n",
        "print('Total Train Labels : ', VtotalTrainCount)\n",
        "print('Total Train Positive Labels : ', vtotalPosCount)\n",
        "print('Total Train Negative Labels : ', vtotalNegCount)"
      ],
      "metadata": {
        "colab": {
          "base_uri": "https://localhost:8080/"
        },
        "id": "p4pqoKwtM2TU",
        "outputId": "b0045c2d-81fa-4726-a04c-6f9288c4a170"
      },
      "execution_count": null,
      "outputs": [
        {
          "output_type": "stream",
          "name": "stdout",
          "text": [
            "Total Train Labels :  1205\n",
            "Total Train Positive Labels :  267\n",
            "Total Train Negative Labels :  938\n"
          ]
        }
      ]
    },
    {
      "cell_type": "code",
      "source": [
        "#Finding the frequency of each class: Freq = count_of_class/total_records_present\n",
        "\n",
        "posFreq = round((totalPosCount/totalTrainCount),2)\n",
        "negFreq = round((totalNegCount/totalTrainCount),2)\n",
        "\n",
        "print('Frequency Of Positive Class : ', posFreq)\n",
        "print('Frequency Of Negataive Class : ', negFreq)"
      ],
      "metadata": {
        "colab": {
          "base_uri": "https://localhost:8080/"
        },
        "id": "pvwQCBUy8aGn",
        "outputId": "bf7a275b-bff1-4c39-fea7-ec2857c452f9"
      },
      "execution_count": null,
      "outputs": [
        {
          "output_type": "stream",
          "name": "stdout",
          "text": [
            "Frequency Of Positive Class :  0.22\n",
            "Frequency Of Negataive Class :  0.78\n"
          ]
        }
      ]
    },
    {
      "cell_type": "code",
      "source": [
        "#Assigning the weights of each class :\n",
        "\n",
        "pos_weights = negFreq\n",
        "neg_weights = posFreq"
      ],
      "metadata": {
        "id": "Z2S5ihq38pQA"
      },
      "execution_count": null,
      "outputs": []
    },
    {
      "cell_type": "code",
      "source": [
        "#Getting the contribution of individual class :\n",
        "\n",
        "pos_contribution = posFreq * pos_weights\n",
        "neg_contribution = negFreq * neg_weights"
      ],
      "metadata": {
        "id": "s1cj1wDl8uGD"
      },
      "execution_count": null,
      "outputs": []
    },
    {
      "cell_type": "code",
      "source": [
        "#Plotting the count of individual class:\n",
        "\n",
        "classes = ['Not Affected', 'Affected']\n",
        "count = [totalNegCount,totalPosCount]\n",
        "plt.bar(classes,count)\n",
        "plt.xlabel('Target Classes')\n",
        "plt.ylabel('Number of Images')\n",
        "plt.title('Count of Train Classes')\n",
        "plt.show()"
      ],
      "metadata": {
        "colab": {
          "base_uri": "https://localhost:8080/",
          "height": 295
        },
        "id": "vong8MEh81aE",
        "outputId": "4ddf2830-8e12-4514-fd80-b10ace95ac5d"
      },
      "execution_count": null,
      "outputs": [
        {
          "output_type": "display_data",
          "data": {
            "text/plain": [
              "<Figure size 432x288 with 1 Axes>"
            ],
            "image/png": "[encoded data removed]"
          },
          "metadata": {
            "needs_background": "light"
          }
        }
      ]
    },
    {
      "cell_type": "code",
      "source": [
        "#Plotting the contribution of each class after assigning the class weights:\n",
        "\n",
        "classes = ['Not Affected', 'Affected']\n",
        "count = [neg_contribution,pos_contribution]\n",
        "plt.bar(classes,count)\n",
        "plt.xlabel('Target Classes')\n",
        "plt.ylabel('Count')\n",
        "plt.title('Contribution of Different Train Classes on Loss Function ')\n",
        "plt.show()"
      ],
      "metadata": {
        "colab": {
          "base_uri": "https://localhost:8080/",
          "height": 295
        },
        "id": "mihYC9w4857G",
        "outputId": "dae9e8d3-5cda-4ca2-b681-aca1d3a52303"
      },
      "execution_count": null,
      "outputs": [
        {
          "output_type": "display_data",
          "data": {
            "text/plain": [
              "<Figure size 432x288 with 1 Axes>"
            ],
            "image/png": "[encoded data removed]"
          },
          "metadata": {
            "needs_background": "light"
          }
        }
      ]
    },
    {
      "cell_type": "code",
      "source": [
        "import random"
      ],
      "metadata": {
        "id": "ylaXgbQaEx5C"
      },
      "execution_count": null,
      "outputs": []
    },
    {
      "cell_type": "code",
      "source": [
        "def build_decoder(with_labels=True, target_size=(300, 300)):\n",
        "    def decode(path):\n",
        "        file_bytes = tf.io.read_file(path)\n",
        "        img = tf.image.decode_png(file_bytes, channels=3)\n",
        "        img = tf.cast(img, tf.float32) / 255.0\n",
        "        img = tf.image.resize(img, target_size)\n",
        "\n",
        "        return img\n",
        "\n",
        "    def decode_with_labels(path, label):\n",
        "        return decode(path), label\n",
        "\n",
        "    return decode_with_labels if with_labels else decode\n",
        "\n",
        "def build_augmenter(with_labels=True):\n",
        "    def augment(img):\n",
        "        number = random.randint(1,5)\n",
        "        seed = (1, 5)\n",
        "        if number == 1:\n",
        "            img = tf.image.stateless_random_flip_left_right(img,seed)\n",
        "            img = tf.image.stateless_random_contrast(img,0.2, 0.5,seed)\n",
        "        if number == 2:\n",
        "            img = tf.image.stateless_random_flip_up_down(img,seed)\n",
        "            img = tf.image.stateless_random_brightness(img, 0.2,seed)\n",
        "        if number == 3:\n",
        "            img = tf.image.stateless_random_flip_left_right(img,seed)\n",
        "            img = tf.image.stateless_random_saturation(img, 0.2, 0.5,seed)\n",
        "        if number == 4:\n",
        "            img = tf.image.stateless_random_flip_up_down(img,seed)\n",
        "            img = tf.image.stateless_random_hue(img, 0.2,seed)\n",
        "        if number == 5:\n",
        "            img = tf.image.stateless_random_flip_left_right(img,seed)\n",
        "            img = tf.image.adjust_gamma(img, 0.2)\n",
        "        return img\n",
        "\n",
        "    def augment_with_labels(img, label):\n",
        "        return augment(img), label\n",
        "\n",
        "    return augment_with_labels if with_labels else augment\n",
        "\n",
        "def build_dataset(paths, labels=None, bsize=32, cache=True,\n",
        "                  decode_fn=None, augment_fn=None,\n",
        "                  augment=True, repeat=True, shuffle=1024,cache_dir=\"\"):\n",
        "    if cache_dir != \"\" and cache is True:\n",
        "        os.makedirs(cache_dir, exist_ok=True)\n",
        "\n",
        "    if decode_fn is None:\n",
        "        decode_fn = build_decoder(labels is not None)\n",
        "\n",
        "    if augment_fn is None:\n",
        "        augment_fn = build_augmenter(labels is not None)\n",
        "\n",
        "    AUTO = tf.data.experimental.AUTOTUNE\n",
        "    slices = paths if labels is None else (paths, labels)\n",
        "\n",
        "    dset = tf.data.Dataset.from_tensor_slices(slices)\n",
        "    dset = dset.map(decode_fn, num_parallel_calls=AUTO)\n",
        "    dset = dset.cache(cache_dir) if cache else dset\n",
        "    dset = dset.map(augment_fn, num_parallel_calls=AUTO) if augment else dset\n",
        "    dset = dset.repeat() if repeat else dset\n",
        "    dset = dset.shuffle(shuffle) if shuffle else dset\n",
        "    dset = dset.batch(bsize).prefetch(AUTO)\n",
        "\n",
        "    return dset\n"
      ],
      "metadata": {
        "id": "mWBv7Zi4E2pu"
      },
      "execution_count": null,
      "outputs": []
    },
    {
      "cell_type": "code",
      "source": [
        "#Building the decoder for building the Train and Valid Dataset:\n",
        "\n",
        "decoder = build_decoder(with_labels=True, target_size=(256, 256))\n",
        "print(decoder)"
      ],
      "metadata": {
        "colab": {
          "base_uri": "https://localhost:8080/"
        },
        "id": "PnyonMT3E6ly",
        "outputId": "bc155569-350c-4d24-b553-249e1622f6f5"
      },
      "execution_count": null,
      "outputs": [
        {
          "output_type": "stream",
          "name": "stdout",
          "text": [
            "<function build_decoder.<locals>.decode_with_labels at 0x7fe13d471290>\n"
          ]
        }
      ]
    },
    {
      "cell_type": "code",
      "source": [
        "#Creating the Augmented Train and Valid Datasets:\n",
        "\n",
        "dtrain = build_dataset(\n",
        "    trainPath, trainLabels, bsize=16, decode_fn=decoder,cache_dir='Kaggle/tf_cache'\n",
        ")\n",
        "\n",
        "dvalid = build_dataset(\n",
        "    validPath, validLabels, bsize=16,\n",
        "    repeat=False, shuffle=False, augment=False, decode_fn=decoder,cache_dir='Kaggle/tf_cache'\n",
        ")"
      ],
      "metadata": {
        "id": "hcwNtuoOFAZX"
      },
      "execution_count": null,
      "outputs": []
    },
    {
      "cell_type": "code",
      "source": [
        "print('Train Dataset : ',dtrain)\n",
        "print('Valid Dataset : ',dvalid)"
      ],
      "metadata": {
        "colab": {
          "base_uri": "https://localhost:8080/"
        },
        "id": "6MKkd7ZZFRgT",
        "outputId": "44d5dcfd-b4b0-4319-96a3-2b047911a377"
      },
      "execution_count": null,
      "outputs": [
        {
          "output_type": "stream",
          "name": "stdout",
          "text": [
            "Train Dataset :  <PrefetchDataset element_spec=(TensorSpec(shape=(None, 256, 256, 3), dtype=tf.float32, name=None), TensorSpec(shape=(None,), dtype=tf.int64, name=None))>\n",
            "Valid Dataset :  <PrefetchDataset element_spec=(TensorSpec(shape=(None, 256, 256, 3), dtype=tf.float32, name=None), TensorSpec(shape=(None,), dtype=tf.int64, name=None))>\n"
          ]
        }
      ]
    },
    {
      "cell_type": "code",
      "source": [
        "#Assigning the necessary class weights\n",
        "class_weight = {0: neg_weights, 1: pos_weights}"
      ],
      "metadata": {
        "id": "2UU-3k6DFZdf"
      },
      "execution_count": null,
      "outputs": []
    },
    {
      "cell_type": "code",
      "source": [
        "#Defining the model:\n",
        "base_model = densenet.DenseNet121(weights = None, include_top=False, input_shape=(256,256,3))\n",
        "\n",
        "#Adding a dummy layer so that pre-trained weights can be loaded properly. This dummy layer is removed later\n",
        "predictions = tf.keras.layers.Dense(14,activation='sigmoid', name='predictions')(base_model.output)\n",
        "\n",
        "base_model2 = tf.keras.Model(inputs = base_model.input, outputs = predictions)\n",
        "\n",
        "#Loading the pre-trained chexnet weights\n",
        "base_model2.load_weights('/content/drive/MyDrive/Deep Learning Project/Navesha Palmer/Code/brucechou1983_CheXNet_Keras_0.3.0_weights.h5')\n",
        "\n",
        "#Removing the dummy layer\n",
        "base_model2.layers.pop()\n",
        "\n",
        "#Freezing the model\n",
        "#base_model2.trainable = False\n",
        "\n",
        "#Adding a pooling layer\n",
        "new_base_model = tf.keras.layers.GlobalAveragePooling2D()(base_model2.layers[-3].output)\n",
        "\n",
        "new_base_model = tf.keras.layers.Dense(1024, activation='relu')(new_base_model)\n",
        "new_base_model = tf.keras.layers.BatchNormalization()(new_base_model)\n",
        "new_base_model = tf.keras.layers.Dropout(0.4)(new_base_model)\n",
        "\n",
        "new_base_model = tf.keras.layers.Dense(512, activation='relu')(new_base_model)\n",
        "new_base_model = tf.keras.layers.BatchNormalization()(new_base_model)\n",
        "new_base_model = tf.keras.layers.Dropout(0.4)(new_base_model)\n",
        "\n",
        "new_base_model = tf.keras.layers.Dense(64, activation='relu')(new_base_model)\n",
        "\n",
        "#Adding the final Dense layer for prediction\n",
        "new_base_model = tf.keras.layers.Dense(1, activation='sigmoid')(new_base_model)\n",
        "\n",
        "#Model built\n",
        "final_new_model = tf.keras.Model(base_model2.input, new_base_model)"
      ],
      "metadata": {
        "id": "Uo6K5XM3FfXa"
      },
      "execution_count": null,
      "outputs": []
    },
    {
      "cell_type": "code",
      "source": [
        "\n",
        "final_new_model.summary"
      ],
      "metadata": {
        "id": "gCPxaFNAF-94"
      },
      "execution_count": null,
      "outputs": []
    },
    {
      "cell_type": "code",
      "source": [
        "layer_amount = len(SavedModel.layers)"
      ],
      "metadata": {
        "id": "EAKhdblZYOUQ"
      },
      "execution_count": null,
      "outputs": []
    },
    {
      "cell_type": "code",
      "source": [
        "\n",
        "final_new_model.summary(line_length = 200)"
      ],
      "metadata": {
        "colab": {
          "base_uri": "https://localhost:8080/"
        },
        "id": "yQ7C_nUkJyaS",
        "outputId": "73a6301a-59ce-4a49-e83e-29396095d4c1"
      },
      "execution_count": null,
      "outputs": [
        {
          "output_type": "stream",
          "name": "stdout",
          "text": [
            "Model: \"model_1\"\n",
            "________________________________________________________________________________________________________________________________________________________________________________________________________\n",
            " Layer (type)                                                     Output Shape                                Param #                 Connected to                                                      \n",
            "========================================================================================================================================================================================================\n",
            " input_1 (InputLayer)                                             [(None, 256, 256, 3)]                       0                       []                                                                \n",
            "                                                                                                                                                                                                        \n",
            " zero_padding2d (ZeroPadding2D)                                   (None, 262, 262, 3)                         0                       ['input_1[0][0]']                                                 \n",
            "                                                                                                                                                                                                        \n",
            " conv1/conv (Conv2D)                                              (None, 128, 128, 64)                        9408                    ['zero_padding2d[0][0]']                                          \n",
            "                                                                                                                                                                                                        \n",
            " conv1/bn (BatchNormalization)                                    (None, 128, 128, 64)                        256                     ['conv1/conv[0][0]']                                              \n",
            "                                                                                                                                                                                                        \n",
            " conv1/relu (Activation)                                          (None, 128, 128, 64)                        0                       ['conv1/bn[0][0]']                                                \n",
            "                                                                                                                                                                                                        \n",
            " zero_padding2d_1 (ZeroPadding2D)                                 (None, 130, 130, 64)                        0                       ['conv1/relu[0][0]']                                              \n",
            "                                                                                                                                                                                                        \n",
            " pool1 (MaxPooling2D)                                             (None, 64, 64, 64)                          0                       ['zero_padding2d_1[0][0]']                                        \n",
            "                                                                                                                                                                                                        \n",
            " conv2_block1_0_bn (BatchNormalization)                           (None, 64, 64, 64)                          256                     ['pool1[0][0]']                                                   \n",
            "                                                                                                                                                                                                        \n",
            " conv2_block1_0_relu (Activation)                                 (None, 64, 64, 64)                          0                       ['conv2_block1_0_bn[0][0]']                                       \n",
            "                                                                                                                                                                                                        \n",
            " conv2_block1_1_conv (Conv2D)                                     (None, 64, 64, 128)                         8192                    ['conv2_block1_0_relu[0][0]']                                     \n",
            "                                                                                                                                                                                                        \n",
            " conv2_block1_1_bn (BatchNormalization)                           (None, 64, 64, 128)                         512                     ['conv2_block1_1_conv[0][0]']                                     \n",
            "                                                                                                                                                                                                        \n",
            " conv2_block1_1_relu (Activation)                                 (None, 64, 64, 128)                         0                       ['conv2_block1_1_bn[0][0]']                                       \n",
            "                                                                                                                                                                                                        \n",
            " conv2_block1_2_conv (Conv2D)                                     (None, 64, 64, 32)                          36864                   ['conv2_block1_1_relu[0][0]']                                     \n",
            "                                                                                                                                                                                                        \n",
            " conv2_block1_concat (Concatenate)                                (None, 64, 64, 96)                          0                       ['pool1[0][0]',                                                   \n",
            "                                                                                                                                       'conv2_block1_2_conv[0][0]']                                     \n",
            "                                                                                                                                                                                                        \n",
            " conv2_block2_0_bn (BatchNormalization)                           (None, 64, 64, 96)                          384                     ['conv2_block1_concat[0][0]']                                     \n",
            "                                                                                                                                                                                                        \n",
            " conv2_block2_0_relu (Activation)                                 (None, 64, 64, 96)                          0                       ['conv2_block2_0_bn[0][0]']                                       \n",
            "                                                                                                                                                                                                        \n",
            " conv2_block2_1_conv (Conv2D)                                     (None, 64, 64, 128)                         12288                   ['conv2_block2_0_relu[0][0]']                                     \n",
            "                                                                                                                                                                                                        \n",
            " conv2_block2_1_bn (BatchNormalization)                           (None, 64, 64, 128)                         512                     ['conv2_block2_1_conv[0][0]']                                     \n",
            "                                                                                                                                                                                                        \n",
            " conv2_block2_1_relu (Activation)                                 (None, 64, 64, 128)                         0                       ['conv2_block2_1_bn[0][0]']                                       \n",
            "                                                                                                                                                                                                        \n",
            " conv2_block2_2_conv (Conv2D)                                     (None, 64, 64, 32)                          36864                   ['conv2_block2_1_relu[0][0]']                                     \n",
            "                                                                                                                                                                                                        \n",
            " conv2_block2_concat (Concatenate)                                (None, 64, 64, 128)                         0                       ['conv2_block1_concat[0][0]',                                     \n",
            "                                                                                                                                       'conv2_block2_2_conv[0][0]']                                     \n",
            "                                                                                                                                                                                                        \n",
            " conv2_block3_0_bn (BatchNormalization)                           (None, 64, 64, 128)                         512                     ['conv2_block2_concat[0][0]']                                     \n",
            "                                                                                                                                                                                                        \n",
            " conv2_block3_0_relu (Activation)                                 (None, 64, 64, 128)                         0                       ['conv2_block3_0_bn[0][0]']                                       \n",
            "                                                                                                                                                                                                        \n",
            " conv2_block3_1_conv (Conv2D)                                     (None, 64, 64, 128)                         16384                   ['conv2_block3_0_relu[0][0]']                                     \n",
            "                                                                                                                                                                                                        \n",
            " conv2_block3_1_bn (BatchNormalization)                           (None, 64, 64, 128)                         512                     ['conv2_block3_1_conv[0][0]']                                     \n",
            "                                                                                                                                                                                                        \n",
            " conv2_block3_1_relu (Activation)                                 (None, 64, 64, 128)                         0                       ['conv2_block3_1_bn[0][0]']                                       \n",
            "                                                                                                                                                                                                        \n",
            " conv2_block3_2_conv (Conv2D)                                     (None, 64, 64, 32)                          36864                   ['conv2_block3_1_relu[0][0]']                                     \n",
            "                                                                                                                                                                                                        \n",
            " conv2_block3_concat (Concatenate)                                (None, 64, 64, 160)                         0                       ['conv2_block2_concat[0][0]',                                     \n",
            "                                                                                                                                       'conv2_block3_2_conv[0][0]']                                     \n",
            "                                                                                                                                                                                                        \n",
            " conv2_block4_0_bn (BatchNormalization)                           (None, 64, 64, 160)                         640                     ['conv2_block3_concat[0][0]']                                     \n",
            "                                                                                                                                                                                                        \n",
            " conv2_block4_0_relu (Activation)                                 (None, 64, 64, 160)                         0                       ['conv2_block4_0_bn[0][0]']                                       \n",
            "                                                                                                                                                                                                        \n",
            " conv2_block4_1_conv (Conv2D)                                     (None, 64, 64, 128)                         20480                   ['conv2_block4_0_relu[0][0]']                                     \n",
            "                                                                                                                                                                                                        \n",
            " conv2_block4_1_bn (BatchNormalization)                           (None, 64, 64, 128)                         512                     ['conv2_block4_1_conv[0][0]']                                     \n",
            "                                                                                                                                                                                                        \n",
            " conv2_block4_1_relu (Activation)                                 (None, 64, 64, 128)                         0                       ['conv2_block4_1_bn[0][0]']                                       \n",
            "                                                                                                                                                                                                        \n",
            " conv2_block4_2_conv (Conv2D)                                     (None, 64, 64, 32)                          36864                   ['conv2_block4_1_relu[0][0]']                                     \n",
            "                                                                                                                                                                                                        \n",
            " conv2_block4_concat (Concatenate)                                (None, 64, 64, 192)                         0                       ['conv2_block3_concat[0][0]',                                     \n",
            "                                                                                                                                       'conv2_block4_2_conv[0][0]']                                     \n",
            "                                                                                                                                                                                                        \n",
            " conv2_block5_0_bn (BatchNormalization)                           (None, 64, 64, 192)                         768                     ['conv2_block4_concat[0][0]']                                     \n",
            "                                                                                                                                                                                                        \n",
            " conv2_block5_0_relu (Activation)                                 (None, 64, 64, 192)                         0                       ['conv2_block5_0_bn[0][0]']                                       \n",
            "                                                                                                                                                                                                        \n",
            " conv2_block5_1_conv (Conv2D)                                     (None, 64, 64, 128)                         24576                   ['conv2_block5_0_relu[0][0]']                                     \n",
            "                                                                                                                                                                                                        \n",
            " conv2_block5_1_bn (BatchNormalization)                           (None, 64, 64, 128)                         512                     ['conv2_block5_1_conv[0][0]']                                     \n",
            "                                                                                                                                                                                                        \n",
            " conv2_block5_1_relu (Activation)                                 (None, 64, 64, 128)                         0                       ['conv2_block5_1_bn[0][0]']                                       \n",
            "                                                                                                                                                                                                        \n",
            " conv2_block5_2_conv (Conv2D)                                     (None, 64, 64, 32)                          36864                   ['conv2_block5_1_relu[0][0]']                                     \n",
            "                                                                                                                                                                                                        \n",
            " conv2_block5_concat (Concatenate)                                (None, 64, 64, 224)                         0                       ['conv2_block4_concat[0][0]',                                     \n",
            "                                                                                                                                       'conv2_block5_2_conv[0][0]']                                     \n",
            "                                                                                                                                                                                                        \n",
            " conv2_block6_0_bn (BatchNormalization)                           (None, 64, 64, 224)                         896                     ['conv2_block5_concat[0][0]']                                     \n",
            "                                                                                                                                                                                                        \n",
            " conv2_block6_0_relu (Activation)                                 (None, 64, 64, 224)                         0                       ['conv2_block6_0_bn[0][0]']                                       \n",
            "                                                                                                                                                                                                        \n",
            " conv2_block6_1_conv (Conv2D)                                     (None, 64, 64, 128)                         28672                   ['conv2_block6_0_relu[0][0]']                                     \n",
            "                                                                                                                                                                                                        \n",
            " conv2_block6_1_bn (BatchNormalization)                           (None, 64, 64, 128)                         512                     ['conv2_block6_1_conv[0][0]']                                     \n",
            "                                                                                                                                                                                                        \n",
            " conv2_block6_1_relu (Activation)                                 (None, 64, 64, 128)                         0                       ['conv2_block6_1_bn[0][0]']                                       \n",
            "                                                                                                                                                                                                        \n",
            " conv2_block6_2_conv (Conv2D)                                     (None, 64, 64, 32)                          36864                   ['conv2_block6_1_relu[0][0]']                                     \n",
            "                                                                                                                                                                                                        \n",
            " conv2_block6_concat (Concatenate)                                (None, 64, 64, 256)                         0                       ['conv2_block5_concat[0][0]',                                     \n",
            "                                                                                                                                       'conv2_block6_2_conv[0][0]']                                     \n",
            "                                                                                                                                                                                                        \n",
            " pool2_bn (BatchNormalization)                                    (None, 64, 64, 256)                         1024                    ['conv2_block6_concat[0][0]']                                     \n",
            "                                                                                                                                                                                                        \n",
            " pool2_relu (Activation)                                          (None, 64, 64, 256)                         0                       ['pool2_bn[0][0]']                                                \n",
            "                                                                                                                                                                                                        \n",
            " pool2_conv (Conv2D)                                              (None, 64, 64, 128)                         32768                   ['pool2_relu[0][0]']                                              \n",
            "                                                                                                                                                                                                        \n",
            " pool2_pool (AveragePooling2D)                                    (None, 32, 32, 128)                         0                       ['pool2_conv[0][0]']                                              \n",
            "                                                                                                                                                                                                        \n",
            " conv3_block1_0_bn (BatchNormalization)                           (None, 32, 32, 128)                         512                     ['pool2_pool[0][0]']                                              \n",
            "                                                                                                                                                                                                        \n",
            " conv3_block1_0_relu (Activation)                                 (None, 32, 32, 128)                         0                       ['conv3_block1_0_bn[0][0]']                                       \n",
            "                                                                                                                                                                                                        \n",
            " conv3_block1_1_conv (Conv2D)                                     (None, 32, 32, 128)                         16384                   ['conv3_block1_0_relu[0][0]']                                     \n",
            "                                                                                                                                                                                                        \n",
            " conv3_block1_1_bn (BatchNormalization)                           (None, 32, 32, 128)                         512                     ['conv3_block1_1_conv[0][0]']                                     \n",
            "                                                                                                                                                                                                        \n",
            " conv3_block1_1_relu (Activation)                                 (None, 32, 32, 128)                         0                       ['conv3_block1_1_bn[0][0]']                                       \n",
            "                                                                                                                                                                                                        \n",
            " conv3_block1_2_conv (Conv2D)                                     (None, 32, 32, 32)                          36864                   ['conv3_block1_1_relu[0][0]']                                     \n",
            "                                                                                                                                                                                                        \n",
            " conv3_block1_concat (Concatenate)                                (None, 32, 32, 160)                         0                       ['pool2_pool[0][0]',                                              \n",
            "                                                                                                                                       'conv3_block1_2_conv[0][0]']                                     \n",
            "                                                                                                                                                                                                        \n",
            " conv3_block2_0_bn (BatchNormalization)                           (None, 32, 32, 160)                         640                     ['conv3_block1_concat[0][0]']                                     \n",
            "                                                                                                                                                                                                        \n",
            " conv3_block2_0_relu (Activation)                                 (None, 32, 32, 160)                         0                       ['conv3_block2_0_bn[0][0]']                                       \n",
            "                                                                                                                                                                                                        \n",
            " conv3_block2_1_conv (Conv2D)                                     (None, 32, 32, 128)                         20480                   ['conv3_block2_0_relu[0][0]']                                     \n",
            "                                                                                                                                                                                                        \n",
            " conv3_block2_1_bn (BatchNormalization)                           (None, 32, 32, 128)                         512                     ['conv3_block2_1_conv[0][0]']                                     \n",
            "                                                                                                                                                                                                        \n",
            " conv3_block2_1_relu (Activation)                                 (None, 32, 32, 128)                         0                       ['conv3_block2_1_bn[0][0]']                                       \n",
            "                                                                                                                                                                                                        \n",
            " conv3_block2_2_conv (Conv2D)                                     (None, 32, 32, 32)                          36864                   ['conv3_block2_1_relu[0][0]']                                     \n",
            "                                                                                                                                                                                                        \n",
            " conv3_block2_concat (Concatenate)                                (None, 32, 32, 192)                         0                       ['conv3_block1_concat[0][0]',                                     \n",
            "                                                                                                                                       'conv3_block2_2_conv[0][0]']                                     \n",
            "                                                                                                                                                                                                        \n",
            " conv3_block3_0_bn (BatchNormalization)                           (None, 32, 32, 192)                         768                     ['conv3_block2_concat[0][0]']                                     \n",
            "                                                                                                                                                                                                        \n",
            " conv3_block3_0_relu (Activation)                                 (None, 32, 32, 192)                         0                       ['conv3_block3_0_bn[0][0]']                                       \n",
            "                                                                                                                                                                                                        \n",
            " conv3_block3_1_conv (Conv2D)                                     (None, 32, 32, 128)                         24576                   ['conv3_block3_0_relu[0][0]']                                     \n",
            "                                                                                                                                                                                                        \n",
            " conv3_block3_1_bn (BatchNormalization)                           (None, 32, 32, 128)                         512                     ['conv3_block3_1_conv[0][0]']                                     \n",
            "                                                                                                                                                                                                        \n",
            " conv3_block3_1_relu (Activation)                                 (None, 32, 32, 128)                         0                       ['conv3_block3_1_bn[0][0]']                                       \n",
            "                                                                                                                                                                                                        \n",
            " conv3_block3_2_conv (Conv2D)                                     (None, 32, 32, 32)                          36864                   ['conv3_block3_1_relu[0][0]']                                     \n",
            "                                                                                                                                                                                                        \n",
            " conv3_block3_concat (Concatenate)                                (None, 32, 32, 224)                         0                       ['conv3_block2_concat[0][0]',                                     \n",
            "                                                                                                                                       'conv3_block3_2_conv[0][0]']                                     \n",
            "                                                                                                                                                                                                        \n",
            " conv3_block4_0_bn (BatchNormalization)                           (None, 32, 32, 224)                         896                     ['conv3_block3_concat[0][0]']                                     \n",
            "                                                                                                                                                                                                        \n",
            " conv3_block4_0_relu (Activation)                                 (None, 32, 32, 224)                         0                       ['conv3_block4_0_bn[0][0]']                                       \n",
            "                                                                                                                                                                                                        \n",
            " conv3_block4_1_conv (Conv2D)                                     (None, 32, 32, 128)                         28672                   ['conv3_block4_0_relu[0][0]']                                     \n",
            "                                                                                                                                                                                                        \n",
            " conv3_block4_1_bn (BatchNormalization)                           (None, 32, 32, 128)                         512                     ['conv3_block4_1_conv[0][0]']                                     \n",
            "                                                                                                                                                                                                        \n",
            " conv3_block4_1_relu (Activation)                                 (None, 32, 32, 128)                         0                       ['conv3_block4_1_bn[0][0]']                                       \n",
            "                                                                                                                                                                                                        \n",
            " conv3_block4_2_conv (Conv2D)                                     (None, 32, 32, 32)                          36864                   ['conv3_block4_1_relu[0][0]']                                     \n",
            "                                                                                                                                                                                                        \n",
            " conv3_block4_concat (Concatenate)                                (None, 32, 32, 256)                         0                       ['conv3_block3_concat[0][0]',                                     \n",
            "                                                                                                                                       'conv3_block4_2_conv[0][0]']                                     \n",
            "                                                                                                                                                                                                        \n",
            " conv3_block5_0_bn (BatchNormalization)                           (None, 32, 32, 256)                         1024                    ['conv3_block4_concat[0][0]']                                     \n",
            "                                                                                                                                                                                                        \n",
            " conv3_block5_0_relu (Activation)                                 (None, 32, 32, 256)                         0                       ['conv3_block5_0_bn[0][0]']                                       \n",
            "                                                                                                                                                                                                        \n",
            " conv3_block5_1_conv (Conv2D)                                     (None, 32, 32, 128)                         32768                   ['conv3_block5_0_relu[0][0]']                                     \n",
            "                                                                                                                                                                                                        \n",
            " conv3_block5_1_bn (BatchNormalization)                           (None, 32, 32, 128)                         512                     ['conv3_block5_1_conv[0][0]']                                     \n",
            "                                                                                                                                                                                                        \n",
            " conv3_block5_1_relu (Activation)                                 (None, 32, 32, 128)                         0                       ['conv3_block5_1_bn[0][0]']                                       \n",
            "                                                                                                                                                                                                        \n",
            " conv3_block5_2_conv (Conv2D)                                     (None, 32, 32, 32)                          36864                   ['conv3_block5_1_relu[0][0]']                                     \n",
            "                                                                                                                                                                                                        \n",
            " conv3_block5_concat (Concatenate)                                (None, 32, 32, 288)                         0                       ['conv3_block4_concat[0][0]',                                     \n",
            "                                                                                                                                       'conv3_block5_2_conv[0][0]']                                     \n",
            "                                                                                                                                                                                                        \n",
            " conv3_block6_0_bn (BatchNormalization)                           (None, 32, 32, 288)                         1152                    ['conv3_block5_concat[0][0]']                                     \n",
            "                                                                                                                                                                                                        \n",
            " conv3_block6_0_relu (Activation)                                 (None, 32, 32, 288)                         0                       ['conv3_block6_0_bn[0][0]']                                       \n",
            "                                                                                                                                                                                                        \n",
            " conv3_block6_1_conv (Conv2D)                                     (None, 32, 32, 128)                         36864                   ['conv3_block6_0_relu[0][0]']                                     \n",
            "                                                                                                                                                                                                        \n",
            " conv3_block6_1_bn (BatchNormalization)                           (None, 32, 32, 128)                         512                     ['conv3_block6_1_conv[0][0]']                                     \n",
            "                                                                                                                                                                                                        \n",
            " conv3_block6_1_relu (Activation)                                 (None, 32, 32, 128)                         0                       ['conv3_block6_1_bn[0][0]']                                       \n",
            "                                                                                                                                                                                                        \n",
            " conv3_block6_2_conv (Conv2D)                                     (None, 32, 32, 32)                          36864                   ['conv3_block6_1_relu[0][0]']                                     \n",
            "                                                                                                                                                                                                        \n",
            " conv3_block6_concat (Concatenate)                                (None, 32, 32, 320)                         0                       ['conv3_block5_concat[0][0]',                                     \n",
            "                                                                                                                                       'conv3_block6_2_conv[0][0]']                                     \n",
            "                                                                                                                                                                                                        \n",
            " conv3_block7_0_bn (BatchNormalization)                           (None, 32, 32, 320)                         1280                    ['conv3_block6_concat[0][0]']                                     \n",
            "                                                                                                                                                                                                        \n",
            " conv3_block7_0_relu (Activation)                                 (None, 32, 32, 320)                         0                       ['conv3_block7_0_bn[0][0]']                                       \n",
            "                                                                                                                                                                                                        \n",
            " conv3_block7_1_conv (Conv2D)                                     (None, 32, 32, 128)                         40960                   ['conv3_block7_0_relu[0][0]']                                     \n",
            "                                                                                                                                                                                                        \n",
            " conv3_block7_1_bn (BatchNormalization)                           (None, 32, 32, 128)                         512                     ['conv3_block7_1_conv[0][0]']                                     \n",
            "                                                                                                                                                                                                        \n",
            " conv3_block7_1_relu (Activation)                                 (None, 32, 32, 128)                         0                       ['conv3_block7_1_bn[0][0]']                                       \n",
            "                                                                                                                                                                                                        \n",
            " conv3_block7_2_conv (Conv2D)                                     (None, 32, 32, 32)                          36864                   ['conv3_block7_1_relu[0][0]']                                     \n",
            "                                                                                                                                                                                                        \n",
            " conv3_block7_concat (Concatenate)                                (None, 32, 32, 352)                         0                       ['conv3_block6_concat[0][0]',                                     \n",
            "                                                                                                                                       'conv3_block7_2_conv[0][0]']                                     \n",
            "                                                                                                                                                                                                        \n",
            " conv3_block8_0_bn (BatchNormalization)                           (None, 32, 32, 352)                         1408                    ['conv3_block7_concat[0][0]']                                     \n",
            "                                                                                                                                                                                                        \n",
            " conv3_block8_0_relu (Activation)                                 (None, 32, 32, 352)                         0                       ['conv3_block8_0_bn[0][0]']                                       \n",
            "                                                                                                                                                                                                        \n",
            " conv3_block8_1_conv (Conv2D)                                     (None, 32, 32, 128)                         45056                   ['conv3_block8_0_relu[0][0]']                                     \n",
            "                                                                                                                                                                                                        \n",
            " conv3_block8_1_bn (BatchNormalization)                           (None, 32, 32, 128)                         512                     ['conv3_block8_1_conv[0][0]']                                     \n",
            "                                                                                                                                                                                                        \n",
            " conv3_block8_1_relu (Activation)                                 (None, 32, 32, 128)                         0                       ['conv3_block8_1_bn[0][0]']                                       \n",
            "                                                                                                                                                                                                        \n",
            " conv3_block8_2_conv (Conv2D)                                     (None, 32, 32, 32)                          36864                   ['conv3_block8_1_relu[0][0]']                                     \n",
            "                                                                                                                                                                                                        \n",
            " conv3_block8_concat (Concatenate)                                (None, 32, 32, 384)                         0                       ['conv3_block7_concat[0][0]',                                     \n",
            "                                                                                                                                       'conv3_block8_2_conv[0][0]']                                     \n",
            "                                                                                                                                                                                                        \n",
            " conv3_block9_0_bn (BatchNormalization)                           (None, 32, 32, 384)                         1536                    ['conv3_block8_concat[0][0]']                                     \n",
            "                                                                                                                                                                                                        \n",
            " conv3_block9_0_relu (Activation)                                 (None, 32, 32, 384)                         0                       ['conv3_block9_0_bn[0][0]']                                       \n",
            "                                                                                                                                                                                                        \n",
            " conv3_block9_1_conv (Conv2D)                                     (None, 32, 32, 128)                         49152                   ['conv3_block9_0_relu[0][0]']                                     \n",
            "                                                                                                                                                                                                        \n",
            " conv3_block9_1_bn (BatchNormalization)                           (None, 32, 32, 128)                         512                     ['conv3_block9_1_conv[0][0]']                                     \n",
            "                                                                                                                                                                                                        \n",
            " conv3_block9_1_relu (Activation)                                 (None, 32, 32, 128)                         0                       ['conv3_block9_1_bn[0][0]']                                       \n",
            "                                                                                                                                                                                                        \n",
            " conv3_block9_2_conv (Conv2D)                                     (None, 32, 32, 32)                          36864                   ['conv3_block9_1_relu[0][0]']                                     \n",
            "                                                                                                                                                                                                        \n",
            " conv3_block9_concat (Concatenate)                                (None, 32, 32, 416)                         0                       ['conv3_block8_concat[0][0]',                                     \n",
            "                                                                                                                                       'conv3_block9_2_conv[0][0]']                                     \n",
            "                                                                                                                                                                                                        \n",
            " conv3_block10_0_bn (BatchNormalization)                          (None, 32, 32, 416)                         1664                    ['conv3_block9_concat[0][0]']                                     \n",
            "                                                                                                                                                                                                        \n",
            " conv3_block10_0_relu (Activation)                                (None, 32, 32, 416)                         0                       ['conv3_block10_0_bn[0][0]']                                      \n",
            "                                                                                                                                                                                                        \n",
            " conv3_block10_1_conv (Conv2D)                                    (None, 32, 32, 128)                         53248                   ['conv3_block10_0_relu[0][0]']                                    \n",
            "                                                                                                                                                                                                        \n",
            " conv3_block10_1_bn (BatchNormalization)                          (None, 32, 32, 128)                         512                     ['conv3_block10_1_conv[0][0]']                                    \n",
            "                                                                                                                                                                                                        \n",
            " conv3_block10_1_relu (Activation)                                (None, 32, 32, 128)                         0                       ['conv3_block10_1_bn[0][0]']                                      \n",
            "                                                                                                                                                                                                        \n",
            " conv3_block10_2_conv (Conv2D)                                    (None, 32, 32, 32)                          36864                   ['conv3_block10_1_relu[0][0]']                                    \n",
            "                                                                                                                                                                                                        \n",
            " conv3_block10_concat (Concatenate)                               (None, 32, 32, 448)                         0                       ['conv3_block9_concat[0][0]',                                     \n",
            "                                                                                                                                       'conv3_block10_2_conv[0][0]']                                    \n",
            "                                                                                                                                                                                                        \n",
            " conv3_block11_0_bn (BatchNormalization)                          (None, 32, 32, 448)                         1792                    ['conv3_block10_concat[0][0]']                                    \n",
            "                                                                                                                                                                                                        \n",
            " conv3_block11_0_relu (Activation)                                (None, 32, 32, 448)                         0                       ['conv3_block11_0_bn[0][0]']                                      \n",
            "                                                                                                                                                                                                        \n",
            " conv3_block11_1_conv (Conv2D)                                    (None, 32, 32, 128)                         57344                   ['conv3_block11_0_relu[0][0]']                                    \n",
            "                                                                                                                                                                                                        \n",
            " conv3_block11_1_bn (BatchNormalization)                          (None, 32, 32, 128)                         512                     ['conv3_block11_1_conv[0][0]']                                    \n",
            "                                                                                                                                                                                                        \n",
            " conv3_block11_1_relu (Activation)                                (None, 32, 32, 128)                         0                       ['conv3_block11_1_bn[0][0]']                                      \n",
            "                                                                                                                                                                                                        \n",
            " conv3_block11_2_conv (Conv2D)                                    (None, 32, 32, 32)                          36864                   ['conv3_block11_1_relu[0][0]']                                    \n",
            "                                                                                                                                                                                                        \n",
            " conv3_block11_concat (Concatenate)                               (None, 32, 32, 480)                         0                       ['conv3_block10_concat[0][0]',                                    \n",
            "                                                                                                                                       'conv3_block11_2_conv[0][0]']                                    \n",
            "                                                                                                                                                                                                        \n",
            " conv3_block12_0_bn (BatchNormalization)                          (None, 32, 32, 480)                         1920                    ['conv3_block11_concat[0][0]']                                    \n",
            "                                                                                                                                                                                                        \n",
            " conv3_block12_0_relu (Activation)                                (None, 32, 32, 480)                         0                       ['conv3_block12_0_bn[0][0]']                                      \n",
            "                                                                                                                                                                                                        \n",
            " conv3_block12_1_conv (Conv2D)                                    (None, 32, 32, 128)                         61440                   ['conv3_block12_0_relu[0][0]']                                    \n",
            "                                                                                                                                                                                                        \n",
            " conv3_block12_1_bn (BatchNormalization)                          (None, 32, 32, 128)                         512                     ['conv3_block12_1_conv[0][0]']                                    \n",
            "                                                                                                                                                                                                        \n",
            " conv3_block12_1_relu (Activation)                                (None, 32, 32, 128)                         0                       ['conv3_block12_1_bn[0][0]']                                      \n",
            "                                                                                                                                                                                                        \n",
            " conv3_block12_2_conv (Conv2D)                                    (None, 32, 32, 32)                          36864                   ['conv3_block12_1_relu[0][0]']                                    \n",
            "                                                                                                                                                                                                        \n",
            " conv3_block12_concat (Concatenate)                               (None, 32, 32, 512)                         0                       ['conv3_block11_concat[0][0]',                                    \n",
            "                                                                                                                                       'conv3_block12_2_conv[0][0]']                                    \n",
            "                                                                                                                                                                                                        \n",
            " pool3_bn (BatchNormalization)                                    (None, 32, 32, 512)                         2048                    ['conv3_block12_concat[0][0]']                                    \n",
            "                                                                                                                                                                                                        \n",
            " pool3_relu (Activation)                                          (None, 32, 32, 512)                         0                       ['pool3_bn[0][0]']                                                \n",
            "                                                                                                                                                                                                        \n",
            " pool3_conv (Conv2D)                                              (None, 32, 32, 256)                         131072                  ['pool3_relu[0][0]']                                              \n",
            "                                                                                                                                                                                                        \n",
            " pool3_pool (AveragePooling2D)                                    (None, 16, 16, 256)                         0                       ['pool3_conv[0][0]']                                              \n",
            "                                                                                                                                                                                                        \n",
            " conv4_block1_0_bn (BatchNormalization)                           (None, 16, 16, 256)                         1024                    ['pool3_pool[0][0]']                                              \n",
            "                                                                                                                                                                                                        \n",
            " conv4_block1_0_relu (Activation)                                 (None, 16, 16, 256)                         0                       ['conv4_block1_0_bn[0][0]']                                       \n",
            "                                                                                                                                                                                                        \n",
            " conv4_block1_1_conv (Conv2D)                                     (None, 16, 16, 128)                         32768                   ['conv4_block1_0_relu[0][0]']                                     \n",
            "                                                                                                                                                                                                        \n",
            " conv4_block1_1_bn (BatchNormalization)                           (None, 16, 16, 128)                         512                     ['conv4_block1_1_conv[0][0]']                                     \n",
            "                                                                                                                                                                                                        \n",
            " conv4_block1_1_relu (Activation)                                 (None, 16, 16, 128)                         0                       ['conv4_block1_1_bn[0][0]']                                       \n",
            "                                                                                                                                                                                                        \n",
            " conv4_block1_2_conv (Conv2D)                                     (None, 16, 16, 32)                          36864                   ['conv4_block1_1_relu[0][0]']                                     \n",
            "                                                                                                                                                                                                        \n",
            " conv4_block1_concat (Concatenate)                                (None, 16, 16, 288)                         0                       ['pool3_pool[0][0]',                                              \n",
            "                                                                                                                                       'conv4_block1_2_conv[0][0]']                                     \n",
            "                                                                                                                                                                                                        \n",
            " conv4_block2_0_bn (BatchNormalization)                           (None, 16, 16, 288)                         1152                    ['conv4_block1_concat[0][0]']                                     \n",
            "                                                                                                                                                                                                        \n",
            " conv4_block2_0_relu (Activation)                                 (None, 16, 16, 288)                         0                       ['conv4_block2_0_bn[0][0]']                                       \n",
            "                                                                                                                                                                                                        \n",
            " conv4_block2_1_conv (Conv2D)                                     (None, 16, 16, 128)                         36864                   ['conv4_block2_0_relu[0][0]']                                     \n",
            "                                                                                                                                                                                                        \n",
            " conv4_block2_1_bn (BatchNormalization)                           (None, 16, 16, 128)                         512                     ['conv4_block2_1_conv[0][0]']                                     \n",
            "                                                                                                                                                                                                        \n",
            " conv4_block2_1_relu (Activation)                                 (None, 16, 16, 128)                         0                       ['conv4_block2_1_bn[0][0]']                                       \n",
            "                                                                                                                                                                                                        \n",
            " conv4_block2_2_conv (Conv2D)                                     (None, 16, 16, 32)                          36864                   ['conv4_block2_1_relu[0][0]']                                     \n",
            "                                                                                                                                                                                                        \n",
            " conv4_block2_concat (Concatenate)                                (None, 16, 16, 320)                         0                       ['conv4_block1_concat[0][0]',                                     \n",
            "                                                                                                                                       'conv4_block2_2_conv[0][0]']                                     \n",
            "                                                                                                                                                                                                        \n",
            " conv4_block3_0_bn (BatchNormalization)                           (None, 16, 16, 320)                         1280                    ['conv4_block2_concat[0][0]']                                     \n",
            "                                                                                                                                                                                                        \n",
            " conv4_block3_0_relu (Activation)                                 (None, 16, 16, 320)                         0                       ['conv4_block3_0_bn[0][0]']                                       \n",
            "                                                                                                                                                                                                        \n",
            " conv4_block3_1_conv (Conv2D)                                     (None, 16, 16, 128)                         40960                   ['conv4_block3_0_relu[0][0]']                                     \n",
            "                                                                                                                                                                                                        \n",
            " conv4_block3_1_bn (BatchNormalization)                           (None, 16, 16, 128)                         512                     ['conv4_block3_1_conv[0][0]']                                     \n",
            "                                                                                                                                                                                                        \n",
            " conv4_block3_1_relu (Activation)                                 (None, 16, 16, 128)                         0                       ['conv4_block3_1_bn[0][0]']                                       \n",
            "                                                                                                                                                                                                        \n",
            " conv4_block3_2_conv (Conv2D)                                     (None, 16, 16, 32)                          36864                   ['conv4_block3_1_relu[0][0]']                                     \n",
            "                                                                                                                                                                                                        \n",
            " conv4_block3_concat (Concatenate)                                (None, 16, 16, 352)                         0                       ['conv4_block2_concat[0][0]',                                     \n",
            "                                                                                                                                       'conv4_block3_2_conv[0][0]']                                     \n",
            "                                                                                                                                                                                                        \n",
            " conv4_block4_0_bn (BatchNormalization)                           (None, 16, 16, 352)                         1408                    ['conv4_block3_concat[0][0]']                                     \n",
            "                                                                                                                                                                                                        \n",
            " conv4_block4_0_relu (Activation)                                 (None, 16, 16, 352)                         0                       ['conv4_block4_0_bn[0][0]']                                       \n",
            "                                                                                                                                                                                                        \n",
            " conv4_block4_1_conv (Conv2D)                                     (None, 16, 16, 128)                         45056                   ['conv4_block4_0_relu[0][0]']                                     \n",
            "                                                                                                                                                                                                        \n",
            " conv4_block4_1_bn (BatchNormalization)                           (None, 16, 16, 128)                         512                     ['conv4_block4_1_conv[0][0]']                                     \n",
            "                                                                                                                                                                                                        \n",
            " conv4_block4_1_relu (Activation)                                 (None, 16, 16, 128)                         0                       ['conv4_block4_1_bn[0][0]']                                       \n",
            "                                                                                                                                                                                                        \n",
            " conv4_block4_2_conv (Conv2D)                                     (None, 16, 16, 32)                          36864                   ['conv4_block4_1_relu[0][0]']                                     \n",
            "                                                                                                                                                                                                        \n",
            " conv4_block4_concat (Concatenate)                                (None, 16, 16, 384)                         0                       ['conv4_block3_concat[0][0]',                                     \n",
            "                                                                                                                                       'conv4_block4_2_conv[0][0]']                                     \n",
            "                                                                                                                                                                                                        \n",
            " conv4_block5_0_bn (BatchNormalization)                           (None, 16, 16, 384)                         1536                    ['conv4_block4_concat[0][0]']                                     \n",
            "                                                                                                                                                                                                        \n",
            " conv4_block5_0_relu (Activation)                                 (None, 16, 16, 384)                         0                       ['conv4_block5_0_bn[0][0]']                                       \n",
            "                                                                                                                                                                                                        \n",
            " conv4_block5_1_conv (Conv2D)                                     (None, 16, 16, 128)                         49152                   ['conv4_block5_0_relu[0][0]']                                     \n",
            "                                                                                                                                                                                                        \n",
            " conv4_block5_1_bn (BatchNormalization)                           (None, 16, 16, 128)                         512                     ['conv4_block5_1_conv[0][0]']                                     \n",
            "                                                                                                                                                                                                        \n",
            " conv4_block5_1_relu (Activation)                                 (None, 16, 16, 128)                         0                       ['conv4_block5_1_bn[0][0]']                                       \n",
            "                                                                                                                                                                                                        \n",
            " conv4_block5_2_conv (Conv2D)                                     (None, 16, 16, 32)                          36864                   ['conv4_block5_1_relu[0][0]']                                     \n",
            "                                                                                                                                                                                                        \n",
            " conv4_block5_concat (Concatenate)                                (None, 16, 16, 416)                         0                       ['conv4_block4_concat[0][0]',                                     \n",
            "                                                                                                                                       'conv4_block5_2_conv[0][0]']                                     \n",
            "                                                                                                                                                                                                        \n",
            " conv4_block6_0_bn (BatchNormalization)                           (None, 16, 16, 416)                         1664                    ['conv4_block5_concat[0][0]']                                     \n",
            "                                                                                                                                                                                                        \n",
            " conv4_block6_0_relu (Activation)                                 (None, 16, 16, 416)                         0                       ['conv4_block6_0_bn[0][0]']                                       \n",
            "                                                                                                                                                                                                        \n",
            " conv4_block6_1_conv (Conv2D)                                     (None, 16, 16, 128)                         53248                   ['conv4_block6_0_relu[0][0]']                                     \n",
            "                                                                                                                                                                                                        \n",
            " conv4_block6_1_bn (BatchNormalization)                           (None, 16, 16, 128)                         512                     ['conv4_block6_1_conv[0][0]']                                     \n",
            "                                                                                                                                                                                                        \n",
            " conv4_block6_1_relu (Activation)                                 (None, 16, 16, 128)                         0                       ['conv4_block6_1_bn[0][0]']                                       \n",
            "                                                                                                                                                                                                        \n",
            " conv4_block6_2_conv (Conv2D)                                     (None, 16, 16, 32)                          36864                   ['conv4_block6_1_relu[0][0]']                                     \n",
            "                                                                                                                                                                                                        \n",
            " conv4_block6_concat (Concatenate)                                (None, 16, 16, 448)                         0                       ['conv4_block5_concat[0][0]',                                     \n",
            "                                                                                                                                       'conv4_block6_2_conv[0][0]']                                     \n",
            "                                                                                                                                                                                                        \n",
            " conv4_block7_0_bn (BatchNormalization)                           (None, 16, 16, 448)                         1792                    ['conv4_block6_concat[0][0]']                                     \n",
            "                                                                                                                                                                                                        \n",
            " conv4_block7_0_relu (Activation)                                 (None, 16, 16, 448)                         0                       ['conv4_block7_0_bn[0][0]']                                       \n",
            "                                                                                                                                                                                                        \n",
            " conv4_block7_1_conv (Conv2D)                                     (None, 16, 16, 128)                         57344                   ['conv4_block7_0_relu[0][0]']                                     \n",
            "                                                                                                                                                                                                        \n",
            " conv4_block7_1_bn (BatchNormalization)                           (None, 16, 16, 128)                         512                     ['conv4_block7_1_conv[0][0]']                                     \n",
            "                                                                                                                                                                                                        \n",
            " conv4_block7_1_relu (Activation)                                 (None, 16, 16, 128)                         0                       ['conv4_block7_1_bn[0][0]']                                       \n",
            "                                                                                                                                                                                                        \n",
            " conv4_block7_2_conv (Conv2D)                                     (None, 16, 16, 32)                          36864                   ['conv4_block7_1_relu[0][0]']                                     \n",
            "                                                                                                                                                                                                        \n",
            " conv4_block7_concat (Concatenate)                                (None, 16, 16, 480)                         0                       ['conv4_block6_concat[0][0]',                                     \n",
            "                                                                                                                                       'conv4_block7_2_conv[0][0]']                                     \n",
            "                                                                                                                                                                                                        \n",
            " conv4_block8_0_bn (BatchNormalization)                           (None, 16, 16, 480)                         1920                    ['conv4_block7_concat[0][0]']                                     \n",
            "                                                                                                                                                                                                        \n",
            " conv4_block8_0_relu (Activation)                                 (None, 16, 16, 480)                         0                       ['conv4_block8_0_bn[0][0]']                                       \n",
            "                                                                                                                                                                                                        \n",
            " conv4_block8_1_conv (Conv2D)                                     (None, 16, 16, 128)                         61440                   ['conv4_block8_0_relu[0][0]']                                     \n",
            "                                                                                                                                                                                                        \n",
            " conv4_block8_1_bn (BatchNormalization)                           (None, 16, 16, 128)                         512                     ['conv4_block8_1_conv[0][0]']                                     \n",
            "                                                                                                                                                                                                        \n",
            " conv4_block8_1_relu (Activation)                                 (None, 16, 16, 128)                         0                       ['conv4_block8_1_bn[0][0]']                                       \n",
            "                                                                                                                                                                                                        \n",
            " conv4_block8_2_conv (Conv2D)                                     (None, 16, 16, 32)                          36864                   ['conv4_block8_1_relu[0][0]']                                     \n",
            "                                                                                                                                                                                                        \n",
            " conv4_block8_concat (Concatenate)                                (None, 16, 16, 512)                         0                       ['conv4_block7_concat[0][0]',                                     \n",
            "                                                                                                                                       'conv4_block8_2_conv[0][0]']                                     \n",
            "                                                                                                                                                                                                        \n",
            " conv4_block9_0_bn (BatchNormalization)                           (None, 16, 16, 512)                         2048                    ['conv4_block8_concat[0][0]']                                     \n",
            "                                                                                                                                                                                                        \n",
            " conv4_block9_0_relu (Activation)                                 (None, 16, 16, 512)                         0                       ['conv4_block9_0_bn[0][0]']                                       \n",
            "                                                                                                                                                                                                        \n",
            " conv4_block9_1_conv (Conv2D)                                     (None, 16, 16, 128)                         65536                   ['conv4_block9_0_relu[0][0]']                                     \n",
            "                                                                                                                                                                                                        \n",
            " conv4_block9_1_bn (BatchNormalization)                           (None, 16, 16, 128)                         512                     ['conv4_block9_1_conv[0][0]']                                     \n",
            "                                                                                                                                                                                                        \n",
            " conv4_block9_1_relu (Activation)                                 (None, 16, 16, 128)                         0                       ['conv4_block9_1_bn[0][0]']                                       \n",
            "                                                                                                                                                                                                        \n",
            " conv4_block9_2_conv (Conv2D)                                     (None, 16, 16, 32)                          36864                   ['conv4_block9_1_relu[0][0]']                                     \n",
            "                                                                                                                                                                                                        \n",
            " conv4_block9_concat (Concatenate)                                (None, 16, 16, 544)                         0                       ['conv4_block8_concat[0][0]',                                     \n",
            "                                                                                                                                       'conv4_block9_2_conv[0][0]']                                     \n",
            "                                                                                                                                                                                                        \n",
            " conv4_block10_0_bn (BatchNormalization)                          (None, 16, 16, 544)                         2176                    ['conv4_block9_concat[0][0]']                                     \n",
            "                                                                                                                                                                                                        \n",
            " conv4_block10_0_relu (Activation)                                (None, 16, 16, 544)                         0                       ['conv4_block10_0_bn[0][0]']                                      \n",
            "                                                                                                                                                                                                        \n",
            " conv4_block10_1_conv (Conv2D)                                    (None, 16, 16, 128)                         69632                   ['conv4_block10_0_relu[0][0]']                                    \n",
            "                                                                                                                                                                                                        \n",
            " conv4_block10_1_bn (BatchNormalization)                          (None, 16, 16, 128)                         512                     ['conv4_block10_1_conv[0][0]']                                    \n",
            "                                                                                                                                                                                                        \n",
            " conv4_block10_1_relu (Activation)                                (None, 16, 16, 128)                         0                       ['conv4_block10_1_bn[0][0]']                                      \n",
            "                                                                                                                                                                                                        \n",
            " conv4_block10_2_conv (Conv2D)                                    (None, 16, 16, 32)                          36864                   ['conv4_block10_1_relu[0][0]']                                    \n",
            "                                                                                                                                                                                                        \n",
            " conv4_block10_concat (Concatenate)                               (None, 16, 16, 576)                         0                       ['conv4_block9_concat[0][0]',                                     \n",
            "                                                                                                                                       'conv4_block10_2_conv[0][0]']                                    \n",
            "                                                                                                                                                                                                        \n",
            " conv4_block11_0_bn (BatchNormalization)                          (None, 16, 16, 576)                         2304                    ['conv4_block10_concat[0][0]']                                    \n",
            "                                                                                                                                                                                                        \n",
            " conv4_block11_0_relu (Activation)                                (None, 16, 16, 576)                         0                       ['conv4_block11_0_bn[0][0]']                                      \n",
            "                                                                                                                                                                                                        \n",
            " conv4_block11_1_conv (Conv2D)                                    (None, 16, 16, 128)                         73728                   ['conv4_block11_0_relu[0][0]']                                    \n",
            "                                                                                                                                                                                                        \n",
            " conv4_block11_1_bn (BatchNormalization)                          (None, 16, 16, 128)                         512                     ['conv4_block11_1_conv[0][0]']                                    \n",
            "                                                                                                                                                                                                        \n",
            " conv4_block11_1_relu (Activation)                                (None, 16, 16, 128)                         0                       ['conv4_block11_1_bn[0][0]']                                      \n",
            "                                                                                                                                                                                                        \n",
            " conv4_block11_2_conv (Conv2D)                                    (None, 16, 16, 32)                          36864                   ['conv4_block11_1_relu[0][0]']                                    \n",
            "                                                                                                                                                                                                        \n",
            " conv4_block11_concat (Concatenate)                               (None, 16, 16, 608)                         0                       ['conv4_block10_concat[0][0]',                                    \n",
            "                                                                                                                                       'conv4_block11_2_conv[0][0]']                                    \n",
            "                                                                                                                                                                                                        \n",
            " conv4_block12_0_bn (BatchNormalization)                          (None, 16, 16, 608)                         2432                    ['conv4_block11_concat[0][0]']                                    \n",
            "                                                                                                                                                                                                        \n",
            " conv4_block12_0_relu (Activation)                                (None, 16, 16, 608)                         0                       ['conv4_block12_0_bn[0][0]']                                      \n",
            "                                                                                                                                                                                                        \n",
            " conv4_block12_1_conv (Conv2D)                                    (None, 16, 16, 128)                         77824                   ['conv4_block12_0_relu[0][0]']                                    \n",
            "                                                                                                                                                                                                        \n",
            " conv4_block12_1_bn (BatchNormalization)                          (None, 16, 16, 128)                         512                     ['conv4_block12_1_conv[0][0]']                                    \n",
            "                                                                                                                                                                                                        \n",
            " conv4_block12_1_relu (Activation)                                (None, 16, 16, 128)                         0                       ['conv4_block12_1_bn[0][0]']                                      \n",
            "                                                                                                                                                                                                        \n",
            " conv4_block12_2_conv (Conv2D)                                    (None, 16, 16, 32)                          36864                   ['conv4_block12_1_relu[0][0]']                                    \n",
            "                                                                                                                                                                                                        \n",
            " conv4_block12_concat (Concatenate)                               (None, 16, 16, 640)                         0                       ['conv4_block11_concat[0][0]',                                    \n",
            "                                                                                                                                       'conv4_block12_2_conv[0][0]']                                    \n",
            "                                                                                                                                                                                                        \n",
            " conv4_block13_0_bn (BatchNormalization)                          (None, 16, 16, 640)                         2560                    ['conv4_block12_concat[0][0]']                                    \n",
            "                                                                                                                                                                                                        \n",
            " conv4_block13_0_relu (Activation)                                (None, 16, 16, 640)                         0                       ['conv4_block13_0_bn[0][0]']                                      \n",
            "                                                                                                                                                                                                        \n",
            " conv4_block13_1_conv (Conv2D)                                    (None, 16, 16, 128)                         81920                   ['conv4_block13_0_relu[0][0]']                                    \n",
            "                                                                                                                                                                                                        \n",
            " conv4_block13_1_bn (BatchNormalization)                          (None, 16, 16, 128)                         512                     ['conv4_block13_1_conv[0][0]']                                    \n",
            "                                                                                                                                                                                                        \n",
            " conv4_block13_1_relu (Activation)                                (None, 16, 16, 128)                         0                       ['conv4_block13_1_bn[0][0]']                                      \n",
            "                                                                                                                                                                                                        \n",
            " conv4_block13_2_conv (Conv2D)                                    (None, 16, 16, 32)                          36864                   ['conv4_block13_1_relu[0][0]']                                    \n",
            "                                                                                                                                                                                                        \n",
            " conv4_block13_concat (Concatenate)                               (None, 16, 16, 672)                         0                       ['conv4_block12_concat[0][0]',                                    \n",
            "                                                                                                                                       'conv4_block13_2_conv[0][0]']                                    \n",
            "                                                                                                                                                                                                        \n",
            " conv4_block14_0_bn (BatchNormalization)                          (None, 16, 16, 672)                         2688                    ['conv4_block13_concat[0][0]']                                    \n",
            "                                                                                                                                                                                                        \n",
            " conv4_block14_0_relu (Activation)                                (None, 16, 16, 672)                         0                       ['conv4_block14_0_bn[0][0]']                                      \n",
            "                                                                                                                                                                                                        \n",
            " conv4_block14_1_conv (Conv2D)                                    (None, 16, 16, 128)                         86016                   ['conv4_block14_0_relu[0][0]']                                    \n",
            "                                                                                                                                                                                                        \n",
            " conv4_block14_1_bn (BatchNormalization)                          (None, 16, 16, 128)                         512                     ['conv4_block14_1_conv[0][0]']                                    \n",
            "                                                                                                                                                                                                        \n",
            " conv4_block14_1_relu (Activation)                                (None, 16, 16, 128)                         0                       ['conv4_block14_1_bn[0][0]']                                      \n",
            "                                                                                                                                                                                                        \n",
            " conv4_block14_2_conv (Conv2D)                                    (None, 16, 16, 32)                          36864                   ['conv4_block14_1_relu[0][0]']                                    \n",
            "                                                                                                                                                                                                        \n",
            " conv4_block14_concat (Concatenate)                               (None, 16, 16, 704)                         0                       ['conv4_block13_concat[0][0]',                                    \n",
            "                                                                                                                                       'conv4_block14_2_conv[0][0]']                                    \n",
            "                                                                                                                                                                                                        \n",
            " conv4_block15_0_bn (BatchNormalization)                          (None, 16, 16, 704)                         2816                    ['conv4_block14_concat[0][0]']                                    \n",
            "                                                                                                                                                                                                        \n",
            " conv4_block15_0_relu (Activation)                                (None, 16, 16, 704)                         0                       ['conv4_block15_0_bn[0][0]']                                      \n",
            "                                                                                                                                                                                                        \n",
            " conv4_block15_1_conv (Conv2D)                                    (None, 16, 16, 128)                         90112                   ['conv4_block15_0_relu[0][0]']                                    \n",
            "                                                                                                                                                                                                        \n",
            " conv4_block15_1_bn (BatchNormalization)                          (None, 16, 16, 128)                         512                     ['conv4_block15_1_conv[0][0]']                                    \n",
            "                                                                                                                                                                                                        \n",
            " conv4_block15_1_relu (Activation)                                (None, 16, 16, 128)                         0                       ['conv4_block15_1_bn[0][0]']                                      \n",
            "                                                                                                                                                                                                        \n",
            " conv4_block15_2_conv (Conv2D)                                    (None, 16, 16, 32)                          36864                   ['conv4_block15_1_relu[0][0]']                                    \n",
            "                                                                                                                                                                                                        \n",
            " conv4_block15_concat (Concatenate)                               (None, 16, 16, 736)                         0                       ['conv4_block14_concat[0][0]',                                    \n",
            "                                                                                                                                       'conv4_block15_2_conv[0][0]']                                    \n",
            "                                                                                                                                                                                                        \n",
            " conv4_block16_0_bn (BatchNormalization)                          (None, 16, 16, 736)                         2944                    ['conv4_block15_concat[0][0]']                                    \n",
            "                                                                                                                                                                                                        \n",
            " conv4_block16_0_relu (Activation)                                (None, 16, 16, 736)                         0                       ['conv4_block16_0_bn[0][0]']                                      \n",
            "                                                                                                                                                                                                        \n",
            " conv4_block16_1_conv (Conv2D)                                    (None, 16, 16, 128)                         94208                   ['conv4_block16_0_relu[0][0]']                                    \n",
            "                                                                                                                                                                                                        \n",
            " conv4_block16_1_bn (BatchNormalization)                          (None, 16, 16, 128)                         512                     ['conv4_block16_1_conv[0][0]']                                    \n",
            "                                                                                                                                                                                                        \n",
            " conv4_block16_1_relu (Activation)                                (None, 16, 16, 128)                         0                       ['conv4_block16_1_bn[0][0]']                                      \n",
            "                                                                                                                                                                                                        \n",
            " conv4_block16_2_conv (Conv2D)                                    (None, 16, 16, 32)                          36864                   ['conv4_block16_1_relu[0][0]']                                    \n",
            "                                                                                                                                                                                                        \n",
            " conv4_block16_concat (Concatenate)                               (None, 16, 16, 768)                         0                       ['conv4_block15_concat[0][0]',                                    \n",
            "                                                                                                                                       'conv4_block16_2_conv[0][0]']                                    \n",
            "                                                                                                                                                                                                        \n",
            " conv4_block17_0_bn (BatchNormalization)                          (None, 16, 16, 768)                         3072                    ['conv4_block16_concat[0][0]']                                    \n",
            "                                                                                                                                                                                                        \n",
            " conv4_block17_0_relu (Activation)                                (None, 16, 16, 768)                         0                       ['conv4_block17_0_bn[0][0]']                                      \n",
            "                                                                                                                                                                                                        \n",
            " conv4_block17_1_conv (Conv2D)                                    (None, 16, 16, 128)                         98304                   ['conv4_block17_0_relu[0][0]']                                    \n",
            "                                                                                                                                                                                                        \n",
            " conv4_block17_1_bn (BatchNormalization)                          (None, 16, 16, 128)                         512                     ['conv4_block17_1_conv[0][0]']                                    \n",
            "                                                                                                                                                                                                        \n",
            " conv4_block17_1_relu (Activation)                                (None, 16, 16, 128)                         0                       ['conv4_block17_1_bn[0][0]']                                      \n",
            "                                                                                                                                                                                                        \n",
            " conv4_block17_2_conv (Conv2D)                                    (None, 16, 16, 32)                          36864                   ['conv4_block17_1_relu[0][0]']                                    \n",
            "                                                                                                                                                                                                        \n",
            " conv4_block17_concat (Concatenate)                               (None, 16, 16, 800)                         0                       ['conv4_block16_concat[0][0]',                                    \n",
            "                                                                                                                                       'conv4_block17_2_conv[0][0]']                                    \n",
            "                                                                                                                                                                                                        \n",
            " conv4_block18_0_bn (BatchNormalization)                          (None, 16, 16, 800)                         3200                    ['conv4_block17_concat[0][0]']                                    \n",
            "                                                                                                                                                                                                        \n",
            " conv4_block18_0_relu (Activation)                                (None, 16, 16, 800)                         0                       ['conv4_block18_0_bn[0][0]']                                      \n",
            "                                                                                                                                                                                                        \n",
            " conv4_block18_1_conv (Conv2D)                                    (None, 16, 16, 128)                         102400                  ['conv4_block18_0_relu[0][0]']                                    \n",
            "                                                                                                                                                                                                        \n",
            " conv4_block18_1_bn (BatchNormalization)                          (None, 16, 16, 128)                         512                     ['conv4_block18_1_conv[0][0]']                                    \n",
            "                                                                                                                                                                                                        \n",
            " conv4_block18_1_relu (Activation)                                (None, 16, 16, 128)                         0                       ['conv4_block18_1_bn[0][0]']                                      \n",
            "                                                                                                                                                                                                        \n",
            " conv4_block18_2_conv (Conv2D)                                    (None, 16, 16, 32)                          36864                   ['conv4_block18_1_relu[0][0]']                                    \n",
            "                                                                                                                                                                                                        \n",
            " conv4_block18_concat (Concatenate)                               (None, 16, 16, 832)                         0                       ['conv4_block17_concat[0][0]',                                    \n",
            "                                                                                                                                       'conv4_block18_2_conv[0][0]']                                    \n",
            "                                                                                                                                                                                                        \n",
            " conv4_block19_0_bn (BatchNormalization)                          (None, 16, 16, 832)                         3328                    ['conv4_block18_concat[0][0]']                                    \n",
            "                                                                                                                                                                                                        \n",
            " conv4_block19_0_relu (Activation)                                (None, 16, 16, 832)                         0                       ['conv4_block19_0_bn[0][0]']                                      \n",
            "                                                                                                                                                                                                        \n",
            " conv4_block19_1_conv (Conv2D)                                    (None, 16, 16, 128)                         106496                  ['conv4_block19_0_relu[0][0]']                                    \n",
            "                                                                                                                                                                                                        \n",
            " conv4_block19_1_bn (BatchNormalization)                          (None, 16, 16, 128)                         512                     ['conv4_block19_1_conv[0][0]']                                    \n",
            "                                                                                                                                                                                                        \n",
            " conv4_block19_1_relu (Activation)                                (None, 16, 16, 128)                         0                       ['conv4_block19_1_bn[0][0]']                                      \n",
            "                                                                                                                                                                                                        \n",
            " conv4_block19_2_conv (Conv2D)                                    (None, 16, 16, 32)                          36864                   ['conv4_block19_1_relu[0][0]']                                    \n",
            "                                                                                                                                                                                                        \n",
            " conv4_block19_concat (Concatenate)                               (None, 16, 16, 864)                         0                       ['conv4_block18_concat[0][0]',                                    \n",
            "                                                                                                                                       'conv4_block19_2_conv[0][0]']                                    \n",
            "                                                                                                                                                                                                        \n",
            " conv4_block20_0_bn (BatchNormalization)                          (None, 16, 16, 864)                         3456                    ['conv4_block19_concat[0][0]']                                    \n",
            "                                                                                                                                                                                                        \n",
            " conv4_block20_0_relu (Activation)                                (None, 16, 16, 864)                         0                       ['conv4_block20_0_bn[0][0]']                                      \n",
            "                                                                                                                                                                                                        \n",
            " conv4_block20_1_conv (Conv2D)                                    (None, 16, 16, 128)                         110592                  ['conv4_block20_0_relu[0][0]']                                    \n",
            "                                                                                                                                                                                                        \n",
            " conv4_block20_1_bn (BatchNormalization)                          (None, 16, 16, 128)                         512                     ['conv4_block20_1_conv[0][0]']                                    \n",
            "                                                                                                                                                                                                        \n",
            " conv4_block20_1_relu (Activation)                                (None, 16, 16, 128)                         0                       ['conv4_block20_1_bn[0][0]']                                      \n",
            "                                                                                                                                                                                                        \n",
            " conv4_block20_2_conv (Conv2D)                                    (None, 16, 16, 32)                          36864                   ['conv4_block20_1_relu[0][0]']                                    \n",
            "                                                                                                                                                                                                        \n",
            " conv4_block20_concat (Concatenate)                               (None, 16, 16, 896)                         0                       ['conv4_block19_concat[0][0]',                                    \n",
            "                                                                                                                                       'conv4_block20_2_conv[0][0]']                                    \n",
            "                                                                                                                                                                                                        \n",
            " conv4_block21_0_bn (BatchNormalization)                          (None, 16, 16, 896)                         3584                    ['conv4_block20_concat[0][0]']                                    \n",
            "                                                                                                                                                                                                        \n",
            " conv4_block21_0_relu (Activation)                                (None, 16, 16, 896)                         0                       ['conv4_block21_0_bn[0][0]']                                      \n",
            "                                                                                                                                                                                                        \n",
            " conv4_block21_1_conv (Conv2D)                                    (None, 16, 16, 128)                         114688                  ['conv4_block21_0_relu[0][0]']                                    \n",
            "                                                                                                                                                                                                        \n",
            " conv4_block21_1_bn (BatchNormalization)                          (None, 16, 16, 128)                         512                     ['conv4_block21_1_conv[0][0]']                                    \n",
            "                                                                                                                                                                                                        \n",
            " conv4_block21_1_relu (Activation)                                (None, 16, 16, 128)                         0                       ['conv4_block21_1_bn[0][0]']                                      \n",
            "                                                                                                                                                                                                        \n",
            " conv4_block21_2_conv (Conv2D)                                    (None, 16, 16, 32)                          36864                   ['conv4_block21_1_relu[0][0]']                                    \n",
            "                                                                                                                                                                                                        \n",
            " conv4_block21_concat (Concatenate)                               (None, 16, 16, 928)                         0                       ['conv4_block20_concat[0][0]',                                    \n",
            "                                                                                                                                       'conv4_block21_2_conv[0][0]']                                    \n",
            "                                                                                                                                                                                                        \n",
            " conv4_block22_0_bn (BatchNormalization)                          (None, 16, 16, 928)                         3712                    ['conv4_block21_concat[0][0]']                                    \n",
            "                                                                                                                                                                                                        \n",
            " conv4_block22_0_relu (Activation)                                (None, 16, 16, 928)                         0                       ['conv4_block22_0_bn[0][0]']                                      \n",
            "                                                                                                                                                                                                        \n",
            " conv4_block22_1_conv (Conv2D)                                    (None, 16, 16, 128)                         118784                  ['conv4_block22_0_relu[0][0]']                                    \n",
            "                                                                                                                                                                                                        \n",
            " conv4_block22_1_bn (BatchNormalization)                          (None, 16, 16, 128)                         512                     ['conv4_block22_1_conv[0][0]']                                    \n",
            "                                                                                                                                                                                                        \n",
            " conv4_block22_1_relu (Activation)                                (None, 16, 16, 128)                         0                       ['conv4_block22_1_bn[0][0]']                                      \n",
            "                                                                                                                                                                                                        \n",
            " conv4_block22_2_conv (Conv2D)                                    (None, 16, 16, 32)                          36864                   ['conv4_block22_1_relu[0][0]']                                    \n",
            "                                                                                                                                                                                                        \n",
            " conv4_block22_concat (Concatenate)                               (None, 16, 16, 960)                         0                       ['conv4_block21_concat[0][0]',                                    \n",
            "                                                                                                                                       'conv4_block22_2_conv[0][0]']                                    \n",
            "                                                                                                                                                                                                        \n",
            " conv4_block23_0_bn (BatchNormalization)                          (None, 16, 16, 960)                         3840                    ['conv4_block22_concat[0][0]']                                    \n",
            "                                                                                                                                                                                                        \n",
            " conv4_block23_0_relu (Activation)                                (None, 16, 16, 960)                         0                       ['conv4_block23_0_bn[0][0]']                                      \n",
            "                                                                                                                                                                                                        \n",
            " conv4_block23_1_conv (Conv2D)                                    (None, 16, 16, 128)                         122880                  ['conv4_block23_0_relu[0][0]']                                    \n",
            "                                                                                                                                                                                                        \n",
            " conv4_block23_1_bn (BatchNormalization)                          (None, 16, 16, 128)                         512                     ['conv4_block23_1_conv[0][0]']                                    \n",
            "                                                                                                                                                                                                        \n",
            " conv4_block23_1_relu (Activation)                                (None, 16, 16, 128)                         0                       ['conv4_block23_1_bn[0][0]']                                      \n",
            "                                                                                                                                                                                                        \n",
            " conv4_block23_2_conv (Conv2D)                                    (None, 16, 16, 32)                          36864                   ['conv4_block23_1_relu[0][0]']                                    \n",
            "                                                                                                                                                                                                        \n",
            " conv4_block23_concat (Concatenate)                               (None, 16, 16, 992)                         0                       ['conv4_block22_concat[0][0]',                                    \n",
            "                                                                                                                                       'conv4_block23_2_conv[0][0]']                                    \n",
            "                                                                                                                                                                                                        \n",
            " conv4_block24_0_bn (BatchNormalization)                          (None, 16, 16, 992)                         3968                    ['conv4_block23_concat[0][0]']                                    \n",
            "                                                                                                                                                                                                        \n",
            " conv4_block24_0_relu (Activation)                                (None, 16, 16, 992)                         0                       ['conv4_block24_0_bn[0][0]']                                      \n",
            "                                                                                                                                                                                                        \n",
            " conv4_block24_1_conv (Conv2D)                                    (None, 16, 16, 128)                         126976                  ['conv4_block24_0_relu[0][0]']                                    \n",
            "                                                                                                                                                                                                        \n",
            " conv4_block24_1_bn (BatchNormalization)                          (None, 16, 16, 128)                         512                     ['conv4_block24_1_conv[0][0]']                                    \n",
            "                                                                                                                                                                                                        \n",
            " conv4_block24_1_relu (Activation)                                (None, 16, 16, 128)                         0                       ['conv4_block24_1_bn[0][0]']                                      \n",
            "                                                                                                                                                                                                        \n",
            " conv4_block24_2_conv (Conv2D)                                    (None, 16, 16, 32)                          36864                   ['conv4_block24_1_relu[0][0]']                                    \n",
            "                                                                                                                                                                                                        \n",
            " conv4_block24_concat (Concatenate)                               (None, 16, 16, 1024)                        0                       ['conv4_block23_concat[0][0]',                                    \n",
            "                                                                                                                                       'conv4_block24_2_conv[0][0]']                                    \n",
            "                                                                                                                                                                                                        \n",
            " pool4_bn (BatchNormalization)                                    (None, 16, 16, 1024)                        4096                    ['conv4_block24_concat[0][0]']                                    \n",
            "                                                                                                                                                                                                        \n",
            " pool4_relu (Activation)                                          (None, 16, 16, 1024)                        0                       ['pool4_bn[0][0]']                                                \n",
            "                                                                                                                                                                                                        \n",
            " pool4_conv (Conv2D)                                              (None, 16, 16, 512)                         524288                  ['pool4_relu[0][0]']                                              \n",
            "                                                                                                                                                                                                        \n",
            " pool4_pool (AveragePooling2D)                                    (None, 8, 8, 512)                           0                       ['pool4_conv[0][0]']                                              \n",
            "                                                                                                                                                                                                        \n",
            " conv5_block1_0_bn (BatchNormalization)                           (None, 8, 8, 512)                           2048                    ['pool4_pool[0][0]']                                              \n",
            "                                                                                                                                                                                                        \n",
            " conv5_block1_0_relu (Activation)                                 (None, 8, 8, 512)                           0                       ['conv5_block1_0_bn[0][0]']                                       \n",
            "                                                                                                                                                                                                        \n",
            " conv5_block1_1_conv (Conv2D)                                     (None, 8, 8, 128)                           65536                   ['conv5_block1_0_relu[0][0]']                                     \n",
            "                                                                                                                                                                                                        \n",
            " conv5_block1_1_bn (BatchNormalization)                           (None, 8, 8, 128)                           512                     ['conv5_block1_1_conv[0][0]']                                     \n",
            "                                                                                                                                                                                                        \n",
            " conv5_block1_1_relu (Activation)                                 (None, 8, 8, 128)                           0                       ['conv5_block1_1_bn[0][0]']                                       \n",
            "                                                                                                                                                                                                        \n",
            " conv5_block1_2_conv (Conv2D)                                     (None, 8, 8, 32)                            36864                   ['conv5_block1_1_relu[0][0]']                                     \n",
            "                                                                                                                                                                                                        \n",
            " conv5_block1_concat (Concatenate)                                (None, 8, 8, 544)                           0                       ['pool4_pool[0][0]',                                              \n",
            "                                                                                                                                       'conv5_block1_2_conv[0][0]']                                     \n",
            "                                                                                                                                                                                                        \n",
            " conv5_block2_0_bn (BatchNormalization)                           (None, 8, 8, 544)                           2176                    ['conv5_block1_concat[0][0]']                                     \n",
            "                                                                                                                                                                                                        \n",
            " conv5_block2_0_relu (Activation)                                 (None, 8, 8, 544)                           0                       ['conv5_block2_0_bn[0][0]']                                       \n",
            "                                                                                                                                                                                                        \n",
            " conv5_block2_1_conv (Conv2D)                                     (None, 8, 8, 128)                           69632                   ['conv5_block2_0_relu[0][0]']                                     \n",
            "                                                                                                                                                                                                        \n",
            " conv5_block2_1_bn (BatchNormalization)                           (None, 8, 8, 128)                           512                     ['conv5_block2_1_conv[0][0]']                                     \n",
            "                                                                                                                                                                                                        \n",
            " conv5_block2_1_relu (Activation)                                 (None, 8, 8, 128)                           0                       ['conv5_block2_1_bn[0][0]']                                       \n",
            "                                                                                                                                                                                                        \n",
            " conv5_block2_2_conv (Conv2D)                                     (None, 8, 8, 32)                            36864                   ['conv5_block2_1_relu[0][0]']                                     \n",
            "                                                                                                                                                                                                        \n",
            " conv5_block2_concat (Concatenate)                                (None, 8, 8, 576)                           0                       ['conv5_block1_concat[0][0]',                                     \n",
            "                                                                                                                                       'conv5_block2_2_conv[0][0]']                                     \n",
            "                                                                                                                                                                                                        \n",
            " conv5_block3_0_bn (BatchNormalization)                           (None, 8, 8, 576)                           2304                    ['conv5_block2_concat[0][0]']                                     \n",
            "                                                                                                                                                                                                        \n",
            " conv5_block3_0_relu (Activation)                                 (None, 8, 8, 576)                           0                       ['conv5_block3_0_bn[0][0]']                                       \n",
            "                                                                                                                                                                                                        \n",
            " conv5_block3_1_conv (Conv2D)                                     (None, 8, 8, 128)                           73728                   ['conv5_block3_0_relu[0][0]']                                     \n",
            "                                                                                                                                                                                                        \n",
            " conv5_block3_1_bn (BatchNormalization)                           (None, 8, 8, 128)                           512                     ['conv5_block3_1_conv[0][0]']                                     \n",
            "                                                                                                                                                                                                        \n",
            " conv5_block3_1_relu (Activation)                                 (None, 8, 8, 128)                           0                       ['conv5_block3_1_bn[0][0]']                                       \n",
            "                                                                                                                                                                                                        \n",
            " conv5_block3_2_conv (Conv2D)                                     (None, 8, 8, 32)                            36864                   ['conv5_block3_1_relu[0][0]']                                     \n",
            "                                                                                                                                                                                                        \n",
            " conv5_block3_concat (Concatenate)                                (None, 8, 8, 608)                           0                       ['conv5_block2_concat[0][0]',                                     \n",
            "                                                                                                                                       'conv5_block3_2_conv[0][0]']                                     \n",
            "                                                                                                                                                                                                        \n",
            " conv5_block4_0_bn (BatchNormalization)                           (None, 8, 8, 608)                           2432                    ['conv5_block3_concat[0][0]']                                     \n",
            "                                                                                                                                                                                                        \n",
            " conv5_block4_0_relu (Activation)                                 (None, 8, 8, 608)                           0                       ['conv5_block4_0_bn[0][0]']                                       \n",
            "                                                                                                                                                                                                        \n",
            " conv5_block4_1_conv (Conv2D)                                     (None, 8, 8, 128)                           77824                   ['conv5_block4_0_relu[0][0]']                                     \n",
            "                                                                                                                                                                                                        \n",
            " conv5_block4_1_bn (BatchNormalization)                           (None, 8, 8, 128)                           512                     ['conv5_block4_1_conv[0][0]']                                     \n",
            "                                                                                                                                                                                                        \n",
            " conv5_block4_1_relu (Activation)                                 (None, 8, 8, 128)                           0                       ['conv5_block4_1_bn[0][0]']                                       \n",
            "                                                                                                                                                                                                        \n",
            " conv5_block4_2_conv (Conv2D)                                     (None, 8, 8, 32)                            36864                   ['conv5_block4_1_relu[0][0]']                                     \n",
            "                                                                                                                                                                                                        \n",
            " conv5_block4_concat (Concatenate)                                (None, 8, 8, 640)                           0                       ['conv5_block3_concat[0][0]',                                     \n",
            "                                                                                                                                       'conv5_block4_2_conv[0][0]']                                     \n",
            "                                                                                                                                                                                                        \n",
            " conv5_block5_0_bn (BatchNormalization)                           (None, 8, 8, 640)                           2560                    ['conv5_block4_concat[0][0]']                                     \n",
            "                                                                                                                                                                                                        \n",
            " conv5_block5_0_relu (Activation)                                 (None, 8, 8, 640)                           0                       ['conv5_block5_0_bn[0][0]']                                       \n",
            "                                                                                                                                                                                                        \n",
            " conv5_block5_1_conv (Conv2D)                                     (None, 8, 8, 128)                           81920                   ['conv5_block5_0_relu[0][0]']                                     \n",
            "                                                                                                                                                                                                        \n",
            " conv5_block5_1_bn (BatchNormalization)                           (None, 8, 8, 128)                           512                     ['conv5_block5_1_conv[0][0]']                                     \n",
            "                                                                                                                                                                                                        \n",
            " conv5_block5_1_relu (Activation)                                 (None, 8, 8, 128)                           0                       ['conv5_block5_1_bn[0][0]']                                       \n",
            "                                                                                                                                                                                                        \n",
            " conv5_block5_2_conv (Conv2D)                                     (None, 8, 8, 32)                            36864                   ['conv5_block5_1_relu[0][0]']                                     \n",
            "                                                                                                                                                                                                        \n",
            " conv5_block5_concat (Concatenate)                                (None, 8, 8, 672)                           0                       ['conv5_block4_concat[0][0]',                                     \n",
            "                                                                                                                                       'conv5_block5_2_conv[0][0]']                                     \n",
            "                                                                                                                                                                                                        \n",
            " conv5_block6_0_bn (BatchNormalization)                           (None, 8, 8, 672)                           2688                    ['conv5_block5_concat[0][0]']                                     \n",
            "                                                                                                                                                                                                        \n",
            " conv5_block6_0_relu (Activation)                                 (None, 8, 8, 672)                           0                       ['conv5_block6_0_bn[0][0]']                                       \n",
            "                                                                                                                                                                                                        \n",
            " conv5_block6_1_conv (Conv2D)                                     (None, 8, 8, 128)                           86016                   ['conv5_block6_0_relu[0][0]']                                     \n",
            "                                                                                                                                                                                                        \n",
            " conv5_block6_1_bn (BatchNormalization)                           (None, 8, 8, 128)                           512                     ['conv5_block6_1_conv[0][0]']                                     \n",
            "                                                                                                                                                                                                        \n",
            " conv5_block6_1_relu (Activation)                                 (None, 8, 8, 128)                           0                       ['conv5_block6_1_bn[0][0]']                                       \n",
            "                                                                                                                                                                                                        \n",
            " conv5_block6_2_conv (Conv2D)                                     (None, 8, 8, 32)                            36864                   ['conv5_block6_1_relu[0][0]']                                     \n",
            "                                                                                                                                                                                                        \n",
            " conv5_block6_concat (Concatenate)                                (None, 8, 8, 704)                           0                       ['conv5_block5_concat[0][0]',                                     \n",
            "                                                                                                                                       'conv5_block6_2_conv[0][0]']                                     \n",
            "                                                                                                                                                                                                        \n",
            " conv5_block7_0_bn (BatchNormalization)                           (None, 8, 8, 704)                           2816                    ['conv5_block6_concat[0][0]']                                     \n",
            "                                                                                                                                                                                                        \n",
            " conv5_block7_0_relu (Activation)                                 (None, 8, 8, 704)                           0                       ['conv5_block7_0_bn[0][0]']                                       \n",
            "                                                                                                                                                                                                        \n",
            " conv5_block7_1_conv (Conv2D)                                     (None, 8, 8, 128)                           90112                   ['conv5_block7_0_relu[0][0]']                                     \n",
            "                                                                                                                                                                                                        \n",
            " conv5_block7_1_bn (BatchNormalization)                           (None, 8, 8, 128)                           512                     ['conv5_block7_1_conv[0][0]']                                     \n",
            "                                                                                                                                                                                                        \n",
            " conv5_block7_1_relu (Activation)                                 (None, 8, 8, 128)                           0                       ['conv5_block7_1_bn[0][0]']                                       \n",
            "                                                                                                                                                                                                        \n",
            " conv5_block7_2_conv (Conv2D)                                     (None, 8, 8, 32)                            36864                   ['conv5_block7_1_relu[0][0]']                                     \n",
            "                                                                                                                                                                                                        \n",
            " conv5_block7_concat (Concatenate)                                (None, 8, 8, 736)                           0                       ['conv5_block6_concat[0][0]',                                     \n",
            "                                                                                                                                       'conv5_block7_2_conv[0][0]']                                     \n",
            "                                                                                                                                                                                                        \n",
            " conv5_block8_0_bn (BatchNormalization)                           (None, 8, 8, 736)                           2944                    ['conv5_block7_concat[0][0]']                                     \n",
            "                                                                                                                                                                                                        \n",
            " conv5_block8_0_relu (Activation)                                 (None, 8, 8, 736)                           0                       ['conv5_block8_0_bn[0][0]']                                       \n",
            "                                                                                                                                                                                                        \n",
            " conv5_block8_1_conv (Conv2D)                                     (None, 8, 8, 128)                           94208                   ['conv5_block8_0_relu[0][0]']                                     \n",
            "                                                                                                                                                                                                        \n",
            " conv5_block8_1_bn (BatchNormalization)                           (None, 8, 8, 128)                           512                     ['conv5_block8_1_conv[0][0]']                                     \n",
            "                                                                                                                                                                                                        \n",
            " conv5_block8_1_relu (Activation)                                 (None, 8, 8, 128)                           0                       ['conv5_block8_1_bn[0][0]']                                       \n",
            "                                                                                                                                                                                                        \n",
            " conv5_block8_2_conv (Conv2D)                                     (None, 8, 8, 32)                            36864                   ['conv5_block8_1_relu[0][0]']                                     \n",
            "                                                                                                                                                                                                        \n",
            " conv5_block8_concat (Concatenate)                                (None, 8, 8, 768)                           0                       ['conv5_block7_concat[0][0]',                                     \n",
            "                                                                                                                                       'conv5_block8_2_conv[0][0]']                                     \n",
            "                                                                                                                                                                                                        \n",
            " conv5_block9_0_bn (BatchNormalization)                           (None, 8, 8, 768)                           3072                    ['conv5_block8_concat[0][0]']                                     \n",
            "                                                                                                                                                                                                        \n",
            " conv5_block9_0_relu (Activation)                                 (None, 8, 8, 768)                           0                       ['conv5_block9_0_bn[0][0]']                                       \n",
            "                                                                                                                                                                                                        \n",
            " conv5_block9_1_conv (Conv2D)                                     (None, 8, 8, 128)                           98304                   ['conv5_block9_0_relu[0][0]']                                     \n",
            "                                                                                                                                                                                                        \n",
            " conv5_block9_1_bn (BatchNormalization)                           (None, 8, 8, 128)                           512                     ['conv5_block9_1_conv[0][0]']                                     \n",
            "                                                                                                                                                                                                        \n",
            " conv5_block9_1_relu (Activation)                                 (None, 8, 8, 128)                           0                       ['conv5_block9_1_bn[0][0]']                                       \n",
            "                                                                                                                                                                                                        \n",
            " conv5_block9_2_conv (Conv2D)                                     (None, 8, 8, 32)                            36864                   ['conv5_block9_1_relu[0][0]']                                     \n",
            "                                                                                                                                                                                                        \n",
            " conv5_block9_concat (Concatenate)                                (None, 8, 8, 800)                           0                       ['conv5_block8_concat[0][0]',                                     \n",
            "                                                                                                                                       'conv5_block9_2_conv[0][0]']                                     \n",
            "                                                                                                                                                                                                        \n",
            " conv5_block10_0_bn (BatchNormalization)                          (None, 8, 8, 800)                           3200                    ['conv5_block9_concat[0][0]']                                     \n",
            "                                                                                                                                                                                                        \n",
            " conv5_block10_0_relu (Activation)                                (None, 8, 8, 800)                           0                       ['conv5_block10_0_bn[0][0]']                                      \n",
            "                                                                                                                                                                                                        \n",
            " conv5_block10_1_conv (Conv2D)                                    (None, 8, 8, 128)                           102400                  ['conv5_block10_0_relu[0][0]']                                    \n",
            "                                                                                                                                                                                                        \n",
            " conv5_block10_1_bn (BatchNormalization)                          (None, 8, 8, 128)                           512                     ['conv5_block10_1_conv[0][0]']                                    \n",
            "                                                                                                                                                                                                        \n",
            " conv5_block10_1_relu (Activation)                                (None, 8, 8, 128)                           0                       ['conv5_block10_1_bn[0][0]']                                      \n",
            "                                                                                                                                                                                                        \n",
            " conv5_block10_2_conv (Conv2D)                                    (None, 8, 8, 32)                            36864                   ['conv5_block10_1_relu[0][0]']                                    \n",
            "                                                                                                                                                                                                        \n",
            " conv5_block10_concat (Concatenate)                               (None, 8, 8, 832)                           0                       ['conv5_block9_concat[0][0]',                                     \n",
            "                                                                                                                                       'conv5_block10_2_conv[0][0]']                                    \n",
            "                                                                                                                                                                                                        \n",
            " conv5_block11_0_bn (BatchNormalization)                          (None, 8, 8, 832)                           3328                    ['conv5_block10_concat[0][0]']                                    \n",
            "                                                                                                                                                                                                        \n",
            " conv5_block11_0_relu (Activation)                                (None, 8, 8, 832)                           0                       ['conv5_block11_0_bn[0][0]']                                      \n",
            "                                                                                                                                                                                                        \n",
            " conv5_block11_1_conv (Conv2D)                                    (None, 8, 8, 128)                           106496                  ['conv5_block11_0_relu[0][0]']                                    \n",
            "                                                                                                                                                                                                        \n",
            " conv5_block11_1_bn (BatchNormalization)                          (None, 8, 8, 128)                           512                     ['conv5_block11_1_conv[0][0]']                                    \n",
            "                                                                                                                                                                                                        \n",
            " conv5_block11_1_relu (Activation)                                (None, 8, 8, 128)                           0                       ['conv5_block11_1_bn[0][0]']                                      \n",
            "                                                                                                                                                                                                        \n",
            " conv5_block11_2_conv (Conv2D)                                    (None, 8, 8, 32)                            36864                   ['conv5_block11_1_relu[0][0]']                                    \n",
            "                                                                                                                                                                                                        \n",
            " conv5_block11_concat (Concatenate)                               (None, 8, 8, 864)                           0                       ['conv5_block10_concat[0][0]',                                    \n",
            "                                                                                                                                       'conv5_block11_2_conv[0][0]']                                    \n",
            "                                                                                                                                                                                                        \n",
            " conv5_block12_0_bn (BatchNormalization)                          (None, 8, 8, 864)                           3456                    ['conv5_block11_concat[0][0]']                                    \n",
            "                                                                                                                                                                                                        \n",
            " conv5_block12_0_relu (Activation)                                (None, 8, 8, 864)                           0                       ['conv5_block12_0_bn[0][0]']                                      \n",
            "                                                                                                                                                                                                        \n",
            " conv5_block12_1_conv (Conv2D)                                    (None, 8, 8, 128)                           110592                  ['conv5_block12_0_relu[0][0]']                                    \n",
            "                                                                                                                                                                                                        \n",
            " conv5_block12_1_bn (BatchNormalization)                          (None, 8, 8, 128)                           512                     ['conv5_block12_1_conv[0][0]']                                    \n",
            "                                                                                                                                                                                                        \n",
            " conv5_block12_1_relu (Activation)                                (None, 8, 8, 128)                           0                       ['conv5_block12_1_bn[0][0]']                                      \n",
            "                                                                                                                                                                                                        \n",
            " conv5_block12_2_conv (Conv2D)                                    (None, 8, 8, 32)                            36864                   ['conv5_block12_1_relu[0][0]']                                    \n",
            "                                                                                                                                                                                                        \n",
            " conv5_block12_concat (Concatenate)                               (None, 8, 8, 896)                           0                       ['conv5_block11_concat[0][0]',                                    \n",
            "                                                                                                                                       'conv5_block12_2_conv[0][0]']                                    \n",
            "                                                                                                                                                                                                        \n",
            " conv5_block13_0_bn (BatchNormalization)                          (None, 8, 8, 896)                           3584                    ['conv5_block12_concat[0][0]']                                    \n",
            "                                                                                                                                                                                                        \n",
            " conv5_block13_0_relu (Activation)                                (None, 8, 8, 896)                           0                       ['conv5_block13_0_bn[0][0]']                                      \n",
            "                                                                                                                                                                                                        \n",
            " conv5_block13_1_conv (Conv2D)                                    (None, 8, 8, 128)                           114688                  ['conv5_block13_0_relu[0][0]']                                    \n",
            "                                                                                                                                                                                                        \n",
            " conv5_block13_1_bn (BatchNormalization)                          (None, 8, 8, 128)                           512                     ['conv5_block13_1_conv[0][0]']                                    \n",
            "                                                                                                                                                                                                        \n",
            " conv5_block13_1_relu (Activation)                                (None, 8, 8, 128)                           0                       ['conv5_block13_1_bn[0][0]']                                      \n",
            "                                                                                                                                                                                                        \n",
            " conv5_block13_2_conv (Conv2D)                                    (None, 8, 8, 32)                            36864                   ['conv5_block13_1_relu[0][0]']                                    \n",
            "                                                                                                                                                                                                        \n",
            " conv5_block13_concat (Concatenate)                               (None, 8, 8, 928)                           0                       ['conv5_block12_concat[0][0]',                                    \n",
            "                                                                                                                                       'conv5_block13_2_conv[0][0]']                                    \n",
            "                                                                                                                                                                                                        \n",
            " conv5_block14_0_bn (BatchNormalization)                          (None, 8, 8, 928)                           3712                    ['conv5_block13_concat[0][0]']                                    \n",
            "                                                                                                                                                                                                        \n",
            " conv5_block14_0_relu (Activation)                                (None, 8, 8, 928)                           0                       ['conv5_block14_0_bn[0][0]']                                      \n",
            "                                                                                                                                                                                                        \n",
            " conv5_block14_1_conv (Conv2D)                                    (None, 8, 8, 128)                           118784                  ['conv5_block14_0_relu[0][0]']                                    \n",
            "                                                                                                                                                                                                        \n",
            " conv5_block14_1_bn (BatchNormalization)                          (None, 8, 8, 128)                           512                     ['conv5_block14_1_conv[0][0]']                                    \n",
            "                                                                                                                                                                                                        \n",
            " conv5_block14_1_relu (Activation)                                (None, 8, 8, 128)                           0                       ['conv5_block14_1_bn[0][0]']                                      \n",
            "                                                                                                                                                                                                        \n",
            " conv5_block14_2_conv (Conv2D)                                    (None, 8, 8, 32)                            36864                   ['conv5_block14_1_relu[0][0]']                                    \n",
            "                                                                                                                                                                                                        \n",
            " conv5_block14_concat (Concatenate)                               (None, 8, 8, 960)                           0                       ['conv5_block13_concat[0][0]',                                    \n",
            "                                                                                                                                       'conv5_block14_2_conv[0][0]']                                    \n",
            "                                                                                                                                                                                                        \n",
            " conv5_block15_0_bn (BatchNormalization)                          (None, 8, 8, 960)                           3840                    ['conv5_block14_concat[0][0]']                                    \n",
            "                                                                                                                                                                                                        \n",
            " conv5_block15_0_relu (Activation)                                (None, 8, 8, 960)                           0                       ['conv5_block15_0_bn[0][0]']                                      \n",
            "                                                                                                                                                                                                        \n",
            " conv5_block15_1_conv (Conv2D)                                    (None, 8, 8, 128)                           122880                  ['conv5_block15_0_relu[0][0]']                                    \n",
            "                                                                                                                                                                                                        \n",
            " conv5_block15_1_bn (BatchNormalization)                          (None, 8, 8, 128)                           512                     ['conv5_block15_1_conv[0][0]']                                    \n",
            "                                                                                                                                                                                                        \n",
            " conv5_block15_1_relu (Activation)                                (None, 8, 8, 128)                           0                       ['conv5_block15_1_bn[0][0]']                                      \n",
            "                                                                                                                                                                                                        \n",
            " conv5_block15_2_conv (Conv2D)                                    (None, 8, 8, 32)                            36864                   ['conv5_block15_1_relu[0][0]']                                    \n",
            "                                                                                                                                                                                                        \n",
            " conv5_block15_concat (Concatenate)                               (None, 8, 8, 992)                           0                       ['conv5_block14_concat[0][0]',                                    \n",
            "                                                                                                                                       'conv5_block15_2_conv[0][0]']                                    \n",
            "                                                                                                                                                                                                        \n",
            " conv5_block16_0_bn (BatchNormalization)                          (None, 8, 8, 992)                           3968                    ['conv5_block15_concat[0][0]']                                    \n",
            "                                                                                                                                                                                                        \n",
            " conv5_block16_0_relu (Activation)                                (None, 8, 8, 992)                           0                       ['conv5_block16_0_bn[0][0]']                                      \n",
            "                                                                                                                                                                                                        \n",
            " conv5_block16_1_conv (Conv2D)                                    (None, 8, 8, 128)                           126976                  ['conv5_block16_0_relu[0][0]']                                    \n",
            "                                                                                                                                                                                                        \n",
            " conv5_block16_1_bn (BatchNormalization)                          (None, 8, 8, 128)                           512                     ['conv5_block16_1_conv[0][0]']                                    \n",
            "                                                                                                                                                                                                        \n",
            " conv5_block16_1_relu (Activation)                                (None, 8, 8, 128)                           0                       ['conv5_block16_1_bn[0][0]']                                      \n",
            "                                                                                                                                                                                                        \n",
            " conv5_block16_2_conv (Conv2D)                                    (None, 8, 8, 32)                            36864                   ['conv5_block16_1_relu[0][0]']                                    \n",
            "                                                                                                                                                                                                        \n",
            " conv5_block16_concat (Concatenate)                               (None, 8, 8, 1024)                          0                       ['conv5_block15_concat[0][0]',                                    \n",
            "                                                                                                                                       'conv5_block16_2_conv[0][0]']                                    \n",
            "                                                                                                                                                                                                        \n",
            " bn (BatchNormalization)                                          (None, 8, 8, 1024)                          4096                    ['conv5_block16_concat[0][0]']                                    \n",
            "                                                                                                                                                                                                        \n",
            " global_average_pooling2d (GlobalAveragePooling2D)                (None, 1024)                                0                       ['bn[0][0]']                                                      \n",
            "                                                                                                                                                                                                        \n",
            " dense (Dense)                                                    (None, 1024)                                1049600                 ['global_average_pooling2d[0][0]']                                \n",
            "                                                                                                                                                                                                        \n",
            " batch_normalization (BatchNormalization)                         (None, 1024)                                4096                    ['dense[0][0]']                                                   \n",
            "                                                                                                                                                                                                        \n",
            " dropout (Dropout)                                                (None, 1024)                                0                       ['batch_normalization[0][0]']                                     \n",
            "                                                                                                                                                                                                        \n",
            " dense_1 (Dense)                                                  (None, 512)                                 524800                  ['dropout[0][0]']                                                 \n",
            "                                                                                                                                                                                                        \n",
            " batch_normalization_1 (BatchNormalization)                       (None, 512)                                 2048                    ['dense_1[0][0]']                                                 \n",
            "                                                                                                                                                                                                        \n",
            " dropout_1 (Dropout)                                              (None, 512)                                 0                       ['batch_normalization_1[0][0]']                                   \n",
            "                                                                                                                                                                                                        \n",
            " dense_2 (Dense)                                                  (None, 64)                                  32832                   ['dropout_1[0][0]']                                               \n",
            "                                                                                                                                                                                                        \n",
            " dense_3 (Dense)                                                  (None, 1)                                   65                      ['dense_2[0][0]']                                                 \n",
            "                                                                                                                                                                                                        \n",
            "========================================================================================================================================================================================================\n",
            "Total params: 8,650,945\n",
            "Trainable params: 8,564,225\n",
            "Non-trainable params: 86,720\n",
            "________________________________________________________________________________________________________________________________________________________________________________________________________\n"
          ]
        }
      ]
    },
    {
      "cell_type": "code",
      "source": [
        "def find_target_layer(self):\n",
        "\t\t# attempt to find the final convolutional layer in the network\n",
        "\t\t# by looping over the layers of the network in reverse order\n",
        "\t\tfor layer in reversed(self.final_new_model.layers):\n",
        "\t\t\t# check to see if the layer has a 4D output\n",
        "\t\t\tif len(layer.output_shape) == 4:\n",
        "\t\t\t\treturn layer.name\n",
        "\t\t# otherwise, we could not find a 4D layer so the GradCAM\n",
        "\t\t# algorithm cannot be applied\n",
        "\t\traise ValueError(\"Could not find 4D layer. Cannot apply GradCAM.\")"
      ],
      "metadata": {
        "id": "zQe7D_LrOURo"
      },
      "execution_count": null,
      "outputs": []
    },
    {
      "cell_type": "code",
      "source": [
        "final_new_model.inputs, final_new_model.outputs"
      ],
      "metadata": {
        "colab": {
          "base_uri": "https://localhost:8080/"
        },
        "id": "XcSbIGetGITh",
        "outputId": "a6ab2ede-cde7-42d9-acca-9b4cbef50149"
      },
      "execution_count": null,
      "outputs": [
        {
          "output_type": "execute_result",
          "data": {
            "text/plain": [
              "([<KerasTensor: shape=(None, 256, 256, 3) dtype=float32 (created by layer 'input_1')>],\n",
              " [<KerasTensor: shape=(None, 1) dtype=float32 (created by layer 'dense_3')>])"
            ]
          },
          "metadata": {},
          "execution_count": 39
        }
      ]
    },
    {
      "cell_type": "code",
      "source": [
        "#Count of the total records in train:\n",
        "trainPath.shape[0]"
      ],
      "metadata": {
        "colab": {
          "base_uri": "https://localhost:8080/"
        },
        "id": "R6qMAibIGN7D",
        "outputId": "07c4cdbc-f913-4192-881c-fbe73ec0a6cc"
      },
      "execution_count": null,
      "outputs": [
        {
          "output_type": "execute_result",
          "data": {
            "text/plain": [
              "10842"
            ]
          },
          "metadata": {},
          "execution_count": 40
        }
      ]
    },
    {
      "cell_type": "code",
      "source": [
        "BATCH_SIZE = 16\n",
        "#total number of datapooints that should be passed through the network in individual epochs. This is used when we are generating data through augmentations\n",
        "weighted_steps_per_epoch = trainPath.shape[0] // BATCH_SIZE\n",
        "\n",
        "#Callback for saving the weights\n",
        "checkpoint = tf.keras.callbacks.ModelCheckpoint(\n",
        "    '/content/drive/MyDrive/Deep Learning Project/Navesha Palmer/Code/Final_new.h5', save_best_only=True, monitor='val_auc', mode='max',restore_best_weights=True)\n",
        "\n",
        "#Callback for the ReduceLROnPlateau\n",
        "lr_reducer = tf.keras.callbacks.ReduceLROnPlateau(\n",
        "    monitor=\"val_auc\", patience=3, min_lr=1e-6, mode='max')\n",
        "\n",
        "#Callback to stop training if the metric value doesnt change for 6 epochs\n",
        "early_stop = tf.keras.callbacks.EarlyStopping(\n",
        "    monitor='val_auc', min_delta=0.0001, patience=6, mode='max',restore_best_weights=True)"
      ],
      "metadata": {
        "id": "RFmvKutWGTNm",
        "colab": {
          "base_uri": "https://localhost:8080/",
          "height": 235
        },
        "outputId": "3a772bee-06b2-4069-ad24-7387c550707c"
      },
      "execution_count": null,
      "outputs": [
        {
          "output_type": "error",
          "ename": "NameError",
          "evalue": "ignored",
          "traceback": [
            "\u001b[0;31m---------------------------------------------------------------------------\u001b[0m",
            "\u001b[0;31mNameError\u001b[0m                                 Traceback (most recent call last)",
            "\u001b[0;32m<ipython-input-19-f3ef395966cc>\u001b[0m in \u001b[0;36m<module>\u001b[0;34m()\u001b[0m\n\u001b[1;32m      1\u001b[0m \u001b[0mBATCH_SIZE\u001b[0m \u001b[0;34m=\u001b[0m \u001b[0;36m16\u001b[0m\u001b[0;34m\u001b[0m\u001b[0;34m\u001b[0m\u001b[0m\n\u001b[1;32m      2\u001b[0m \u001b[0;31m#total number of datapooints that should be passed through the network in individual epochs. This is used when we are generating data through augmentations\u001b[0m\u001b[0;34m\u001b[0m\u001b[0;34m\u001b[0m\u001b[0;34m\u001b[0m\u001b[0m\n\u001b[0;32m----> 3\u001b[0;31m \u001b[0mweighted_steps_per_epoch\u001b[0m \u001b[0;34m=\u001b[0m \u001b[0mtrainPath\u001b[0m\u001b[0;34m.\u001b[0m\u001b[0mshape\u001b[0m\u001b[0;34m[\u001b[0m\u001b[0;36m0\u001b[0m\u001b[0;34m]\u001b[0m \u001b[0;34m//\u001b[0m \u001b[0mBATCH_SIZE\u001b[0m\u001b[0;34m\u001b[0m\u001b[0;34m\u001b[0m\u001b[0m\n\u001b[0m\u001b[1;32m      4\u001b[0m \u001b[0;34m\u001b[0m\u001b[0m\n\u001b[1;32m      5\u001b[0m \u001b[0;31m#Callback for saving the weights\u001b[0m\u001b[0;34m\u001b[0m\u001b[0;34m\u001b[0m\u001b[0;34m\u001b[0m\u001b[0m\n",
            "\u001b[0;31mNameError\u001b[0m: name 'trainPath' is not defined"
          ]
        }
      ]
    },
    {
      "cell_type": "code",
      "source": [
        "METRICS = [\n",
        "      tf.keras.metrics.TruePositives(name='tp'),\n",
        "      tf.keras.metrics.FalsePositives(name='fp'),\n",
        "      tf.keras.metrics.TrueNegatives(name='tn'),\n",
        "      tf.keras.metrics.FalseNegatives(name='fn'),\n",
        "      tf.keras.metrics.BinaryAccuracy(name='accuracy'),\n",
        "      tf.keras.metrics.Precision(name='precision'),\n",
        "      tf.keras.metrics.Recall(name='recall'),\n",
        "      tf.keras.metrics.AUC(name='auc'),\n",
        "]\n",
        "\n",
        "#Adam optimizer\n",
        "optim = tf.keras.optimizers.Adam(0.0001)"
      ],
      "metadata": {
        "id": "kGeQvdHyGdXm"
      },
      "execution_count": null,
      "outputs": []
    },
    {
      "cell_type": "code",
      "source": [
        "#Compile the model:\n",
        "final_new_model.compile(optimizer=optim,loss='binary_crossentropy',metrics=[METRICS])"
      ],
      "metadata": {
        "id": "5JnOZGT7GgFT"
      },
      "execution_count": null,
      "outputs": []
    },
    {
      "cell_type": "code",
      "source": [
        "dtrain,dvalid"
      ],
      "metadata": {
        "colab": {
          "base_uri": "https://localhost:8080/"
        },
        "id": "be85cHgDGhSZ",
        "outputId": "31c31fa2-f902-4f02-d850-db1fc0c5fb97"
      },
      "execution_count": null,
      "outputs": [
        {
          "output_type": "execute_result",
          "data": {
            "text/plain": [
              "(<PrefetchDataset element_spec=(TensorSpec(shape=(None, 256, 256, 3), dtype=tf.float32, name=None), TensorSpec(shape=(None,), dtype=tf.int64, name=None))>,\n",
              " <PrefetchDataset element_spec=(TensorSpec(shape=(None, 256, 256, 3), dtype=tf.float32, name=None), TensorSpec(shape=(None,), dtype=tf.int64, name=None))>)"
            ]
          },
          "metadata": {},
          "execution_count": 44
        }
      ]
    },
    {
      "cell_type": "code",
      "source": [
        "r = final_new_model.fit(\n",
        "    dtrain,\n",
        "    epochs=50, # training for smaller epochs at a time because kernel is getting disconnected very easily.\n",
        "    verbose=1,\n",
        "    steps_per_epoch=weighted_steps_per_epoch,\n",
        "    callbacks=[checkpoint, lr_reducer,early_stop],\n",
        "    validation_data=dvalid,\n",
        "\n",
        "    #Giving the class weights here:\n",
        "    class_weight=class_weight)"
      ],
      "metadata": {
        "colab": {
          "base_uri": "https://localhost:8080/"
        },
        "id": "6j2GDzx4Goyi",
        "outputId": "90a97b0d-54a7-4309-8975-5a489cc08627"
      },
      "execution_count": null,
      "outputs": [
        {
          "output_type": "stream",
          "name": "stdout",
          "text": [
            "Epoch 1/50\n",
            "677/677 [==============================] - 82s 99ms/step - loss: 0.1597 - tp: 2013.0000 - fp: 1978.0000 - tn: 6453.0000 - fn: 388.0000 - accuracy: 0.7816 - precision: 0.5044 - recall: 0.8384 - auc: 0.8780 - val_loss: 0.3021 - val_tp: 225.0000 - val_fp: 126.0000 - val_tn: 817.0000 - val_fn: 48.0000 - val_accuracy: 0.8569 - val_precision: 0.6410 - val_recall: 0.8242 - val_auc: 0.9288 - lr: 1.0000e-04\n",
            "Epoch 2/50\n",
            "677/677 [==============================] - 57s 84ms/step - loss: 0.1358 - tp: 2084.0000 - fp: 1626.0000 - tn: 6810.0000 - fn: 312.0000 - accuracy: 0.8211 - precision: 0.5617 - recall: 0.8698 - auc: 0.9056 - val_loss: 0.2863 - val_tp: 222.0000 - val_fp: 112.0000 - val_tn: 831.0000 - val_fn: 51.0000 - val_accuracy: 0.8660 - val_precision: 0.6647 - val_recall: 0.8132 - val_auc: 0.9317 - lr: 1.0000e-04\n",
            "Epoch 3/50\n",
            "677/677 [==============================] - 56s 83ms/step - loss: 0.1257 - tp: 2095.0000 - fp: 1533.0000 - tn: 6916.0000 - fn: 288.0000 - accuracy: 0.8319 - precision: 0.5775 - recall: 0.8791 - auc: 0.9157 - val_loss: 0.2756 - val_tp: 225.0000 - val_fp: 121.0000 - val_tn: 822.0000 - val_fn: 48.0000 - val_accuracy: 0.8610 - val_precision: 0.6503 - val_recall: 0.8242 - val_auc: 0.9374 - lr: 1.0000e-04\n",
            "Epoch 4/50\n",
            "677/677 [==============================] - 56s 83ms/step - loss: 0.1145 - tp: 2166.0000 - fp: 1425.0000 - tn: 6996.0000 - fn: 245.0000 - accuracy: 0.8458 - precision: 0.6032 - recall: 0.8984 - auc: 0.9287 - val_loss: 0.2810 - val_tp: 252.0000 - val_fp: 132.0000 - val_tn: 811.0000 - val_fn: 21.0000 - val_accuracy: 0.8742 - val_precision: 0.6562 - val_recall: 0.9231 - val_auc: 0.9541 - lr: 1.0000e-04\n",
            "Epoch 5/50\n",
            "677/677 [==============================] - 57s 84ms/step - loss: 0.1088 - tp: 2177.0000 - fp: 1339.0000 - tn: 7082.0000 - fn: 234.0000 - accuracy: 0.8548 - precision: 0.6192 - recall: 0.9029 - auc: 0.9355 - val_loss: 0.2277 - val_tp: 240.0000 - val_fp: 97.0000 - val_tn: 846.0000 - val_fn: 33.0000 - val_accuracy: 0.8931 - val_precision: 0.7122 - val_recall: 0.8791 - val_auc: 0.9577 - lr: 1.0000e-04\n",
            "Epoch 6/50\n",
            "677/677 [==============================] - 57s 83ms/step - loss: 0.0973 - tp: 2221.0000 - fp: 1240.0000 - tn: 7196.0000 - fn: 175.0000 - accuracy: 0.8694 - precision: 0.6417 - recall: 0.9270 - auc: 0.9465 - val_loss: 0.2131 - val_tp: 249.0000 - val_fp: 96.0000 - val_tn: 847.0000 - val_fn: 24.0000 - val_accuracy: 0.9013 - val_precision: 0.7217 - val_recall: 0.9121 - val_auc: 0.9658 - lr: 1.0000e-04\n",
            "Epoch 7/50\n",
            "677/677 [==============================] - 57s 84ms/step - loss: 0.0877 - tp: 2242.0000 - fp: 1124.0000 - tn: 7310.0000 - fn: 156.0000 - accuracy: 0.8818 - precision: 0.6661 - recall: 0.9349 - auc: 0.9553 - val_loss: 0.1880 - val_tp: 238.0000 - val_fp: 64.0000 - val_tn: 879.0000 - val_fn: 35.0000 - val_accuracy: 0.9186 - val_precision: 0.7881 - val_recall: 0.8718 - val_auc: 0.9682 - lr: 1.0000e-04\n",
            "Epoch 8/50\n",
            "677/677 [==============================] - 57s 84ms/step - loss: 0.0801 - tp: 2247.0000 - fp: 1032.0000 - tn: 7403.0000 - fn: 150.0000 - accuracy: 0.8909 - precision: 0.6853 - recall: 0.9374 - auc: 0.9616 - val_loss: 0.2194 - val_tp: 268.0000 - val_fp: 117.0000 - val_tn: 826.0000 - val_fn: 5.0000 - val_accuracy: 0.8997 - val_precision: 0.6961 - val_recall: 0.9817 - val_auc: 0.9794 - lr: 1.0000e-04\n",
            "Epoch 9/50\n",
            "677/677 [==============================] - 57s 84ms/step - loss: 0.0712 - tp: 2301.0000 - fp: 906.0000 - tn: 7507.0000 - fn: 118.0000 - accuracy: 0.9055 - precision: 0.7175 - recall: 0.9512 - auc: 0.9689 - val_loss: 0.1495 - val_tp: 251.0000 - val_fp: 57.0000 - val_tn: 886.0000 - val_fn: 22.0000 - val_accuracy: 0.9350 - val_precision: 0.8149 - val_recall: 0.9194 - val_auc: 0.9797 - lr: 1.0000e-04\n",
            "Epoch 10/50\n",
            "677/677 [==============================] - 57s 84ms/step - loss: 0.0623 - tp: 2296.0000 - fp: 815.0000 - tn: 7635.0000 - fn: 86.0000 - accuracy: 0.9168 - precision: 0.7380 - recall: 0.9639 - auc: 0.9739 - val_loss: 0.1185 - val_tp: 266.0000 - val_fp: 49.0000 - val_tn: 894.0000 - val_fn: 7.0000 - val_accuracy: 0.9539 - val_precision: 0.8444 - val_recall: 0.9744 - val_auc: 0.9864 - lr: 1.0000e-04\n",
            "Epoch 11/50\n",
            "677/677 [==============================] - 57s 84ms/step - loss: 0.0572 - tp: 2316.0000 - fp: 704.0000 - tn: 7721.0000 - fn: 91.0000 - accuracy: 0.9266 - precision: 0.7669 - recall: 0.9622 - auc: 0.9779 - val_loss: 0.1474 - val_tp: 273.0000 - val_fp: 71.0000 - val_tn: 872.0000 - val_fn: 0.0000e+00 - val_accuracy: 0.9416 - val_precision: 0.7936 - val_recall: 1.0000 - val_auc: 0.9897 - lr: 1.0000e-04\n",
            "Epoch 12/50\n",
            "677/677 [==============================] - 57s 84ms/step - loss: 0.0479 - tp: 2319.0000 - fp: 619.0000 - tn: 7826.0000 - fn: 68.0000 - accuracy: 0.9366 - precision: 0.7893 - recall: 0.9715 - auc: 0.9845 - val_loss: 0.0929 - val_tp: 263.0000 - val_fp: 31.0000 - val_tn: 912.0000 - val_fn: 10.0000 - val_accuracy: 0.9663 - val_precision: 0.8946 - val_recall: 0.9634 - val_auc: 0.9899 - lr: 1.0000e-04\n",
            "Epoch 13/50\n",
            "677/677 [==============================] - 57s 84ms/step - loss: 0.0412 - tp: 2342.0000 - fp: 504.0000 - tn: 7928.0000 - fn: 58.0000 - accuracy: 0.9481 - precision: 0.8229 - recall: 0.9758 - auc: 0.9879 - val_loss: 0.0896 - val_tp: 269.0000 - val_fp: 37.0000 - val_tn: 906.0000 - val_fn: 4.0000 - val_accuracy: 0.9663 - val_precision: 0.8791 - val_recall: 0.9853 - val_auc: 0.9921 - lr: 1.0000e-04\n",
            "Epoch 14/50\n",
            "677/677 [==============================] - 56s 83ms/step - loss: 0.0381 - tp: 2347.0000 - fp: 455.0000 - tn: 7974.0000 - fn: 56.0000 - accuracy: 0.9528 - precision: 0.8376 - recall: 0.9767 - auc: 0.9897 - val_loss: 0.0743 - val_tp: 272.0000 - val_fp: 36.0000 - val_tn: 907.0000 - val_fn: 1.0000 - val_accuracy: 0.9696 - val_precision: 0.8831 - val_recall: 0.9963 - val_auc: 0.9959 - lr: 1.0000e-04\n",
            "Epoch 15/50\n",
            "677/677 [==============================] - 53s 79ms/step - loss: 0.0328 - tp: 2373.0000 - fp: 394.0000 - tn: 8017.0000 - fn: 48.0000 - accuracy: 0.9592 - precision: 0.8576 - recall: 0.9802 - auc: 0.9924 - val_loss: 0.1055 - val_tp: 241.0000 - val_fp: 20.0000 - val_tn: 923.0000 - val_fn: 32.0000 - val_accuracy: 0.9572 - val_precision: 0.9234 - val_recall: 0.8828 - val_auc: 0.9920 - lr: 1.0000e-04\n",
            "Epoch 16/50\n",
            "677/677 [==============================] - 53s 78ms/step - loss: 0.0294 - tp: 2345.0000 - fp: 373.0000 - tn: 8073.0000 - fn: 41.0000 - accuracy: 0.9618 - precision: 0.8628 - recall: 0.9828 - auc: 0.9939 - val_loss: 0.1305 - val_tp: 273.0000 - val_fp: 53.0000 - val_tn: 890.0000 - val_fn: 0.0000e+00 - val_accuracy: 0.9564 - val_precision: 0.8374 - val_recall: 1.0000 - val_auc: 0.9923 - lr: 1.0000e-04\n",
            "Epoch 17/50\n",
            "677/677 [==============================] - 56s 83ms/step - loss: 0.0239 - tp: 2366.0000 - fp: 280.0000 - tn: 8153.0000 - fn: 33.0000 - accuracy: 0.9711 - precision: 0.8942 - recall: 0.9862 - auc: 0.9957 - val_loss: 0.0724 - val_tp: 272.0000 - val_fp: 29.0000 - val_tn: 914.0000 - val_fn: 1.0000 - val_accuracy: 0.9753 - val_precision: 0.9037 - val_recall: 0.9963 - val_auc: 0.9967 - lr: 1.0000e-04\n",
            "Epoch 18/50\n",
            "677/677 [==============================] - 53s 79ms/step - loss: 0.0208 - tp: 2350.0000 - fp: 217.0000 - tn: 8223.0000 - fn: 42.0000 - accuracy: 0.9761 - precision: 0.9155 - recall: 0.9824 - auc: 0.9964 - val_loss: 0.2602 - val_tp: 273.0000 - val_fp: 100.0000 - val_tn: 843.0000 - val_fn: 0.0000e+00 - val_accuracy: 0.9178 - val_precision: 0.7319 - val_recall: 1.0000 - val_auc: 0.9899 - lr: 1.0000e-04\n",
            "Epoch 19/50\n",
            "677/677 [==============================] - 56s 83ms/step - loss: 0.0209 - tp: 2386.0000 - fp: 232.0000 - tn: 8181.0000 - fn: 33.0000 - accuracy: 0.9755 - precision: 0.9114 - recall: 0.9864 - auc: 0.9965 - val_loss: 0.0457 - val_tp: 273.0000 - val_fp: 22.0000 - val_tn: 921.0000 - val_fn: 0.0000e+00 - val_accuracy: 0.9819 - val_precision: 0.9254 - val_recall: 1.0000 - val_auc: 0.9991 - lr: 1.0000e-04\n",
            "Epoch 20/50\n",
            "677/677 [==============================] - 57s 84ms/step - loss: 0.0171 - tp: 2343.0000 - fp: 170.0000 - tn: 8289.0000 - fn: 30.0000 - accuracy: 0.9815 - precision: 0.9324 - recall: 0.9874 - auc: 0.9976 - val_loss: 0.0225 - val_tp: 272.0000 - val_fp: 7.0000 - val_tn: 936.0000 - val_fn: 1.0000 - val_accuracy: 0.9934 - val_precision: 0.9749 - val_recall: 0.9963 - val_auc: 0.9992 - lr: 1.0000e-04\n",
            "Epoch 21/50\n",
            "677/677 [==============================] - 53s 79ms/step - loss: 0.0151 - tp: 2381.0000 - fp: 152.0000 - tn: 8270.0000 - fn: 29.0000 - accuracy: 0.9833 - precision: 0.9400 - recall: 0.9880 - auc: 0.9981 - val_loss: 0.1084 - val_tp: 273.0000 - val_fp: 47.0000 - val_tn: 896.0000 - val_fn: 0.0000e+00 - val_accuracy: 0.9613 - val_precision: 0.8531 - val_recall: 1.0000 - val_auc: 0.9985 - lr: 1.0000e-04\n",
            "Epoch 22/50\n",
            "677/677 [==============================] - 56s 83ms/step - loss: 0.0134 - tp: 2376.0000 - fp: 150.0000 - tn: 8283.0000 - fn: 23.0000 - accuracy: 0.9840 - precision: 0.9406 - recall: 0.9904 - auc: 0.9984 - val_loss: 0.0341 - val_tp: 273.0000 - val_fp: 15.0000 - val_tn: 928.0000 - val_fn: 0.0000e+00 - val_accuracy: 0.9877 - val_precision: 0.9479 - val_recall: 1.0000 - val_auc: 0.9999 - lr: 1.0000e-04\n",
            "Epoch 23/50\n",
            "677/677 [==============================] - 53s 79ms/step - loss: 0.0137 - tp: 2366.0000 - fp: 135.0000 - tn: 8305.0000 - fn: 26.0000 - accuracy: 0.9851 - precision: 0.9460 - recall: 0.9891 - auc: 0.9985 - val_loss: 0.0154 - val_tp: 272.0000 - val_fp: 5.0000 - val_tn: 938.0000 - val_fn: 1.0000 - val_accuracy: 0.9951 - val_precision: 0.9819 - val_recall: 0.9963 - val_auc: 0.9999 - lr: 1.0000e-04\n",
            "Epoch 24/50\n",
            "677/677 [==============================] - 53s 79ms/step - loss: 0.0118 - tp: 2380.0000 - fp: 113.0000 - tn: 8312.0000 - fn: 27.0000 - accuracy: 0.9871 - precision: 0.9547 - recall: 0.9888 - auc: 0.9986 - val_loss: 0.0165 - val_tp: 273.0000 - val_fp: 7.0000 - val_tn: 936.0000 - val_fn: 0.0000e+00 - val_accuracy: 0.9942 - val_precision: 0.9750 - val_recall: 1.0000 - val_auc: 0.9999 - lr: 1.0000e-04\n",
            "Epoch 25/50\n",
            "677/677 [==============================] - 56s 83ms/step - loss: 0.0093 - tp: 2395.0000 - fp: 92.0000 - tn: 8332.0000 - fn: 13.0000 - accuracy: 0.9903 - precision: 0.9630 - recall: 0.9946 - auc: 0.9990 - val_loss: 0.0207 - val_tp: 273.0000 - val_fp: 8.0000 - val_tn: 935.0000 - val_fn: 0.0000e+00 - val_accuracy: 0.9934 - val_precision: 0.9715 - val_recall: 1.0000 - val_auc: 1.0000 - lr: 1.0000e-04\n",
            "Epoch 26/50\n",
            "677/677 [==============================] - 56s 83ms/step - loss: 0.0063 - tp: 2380.0000 - fp: 60.0000 - tn: 8380.0000 - fn: 12.0000 - accuracy: 0.9934 - precision: 0.9754 - recall: 0.9950 - auc: 0.9994 - val_loss: 0.0061 - val_tp: 273.0000 - val_fp: 2.0000 - val_tn: 941.0000 - val_fn: 0.0000e+00 - val_accuracy: 0.9984 - val_precision: 0.9927 - val_recall: 1.0000 - val_auc: 1.0000 - lr: 1.0000e-05\n",
            "Epoch 27/50\n",
            "677/677 [==============================] - 53s 78ms/step - loss: 0.0062 - tp: 2399.0000 - fp: 55.0000 - tn: 8366.0000 - fn: 12.0000 - accuracy: 0.9938 - precision: 0.9776 - recall: 0.9950 - auc: 0.9994 - val_loss: 0.0052 - val_tp: 273.0000 - val_fp: 2.0000 - val_tn: 941.0000 - val_fn: 0.0000e+00 - val_accuracy: 0.9984 - val_precision: 0.9927 - val_recall: 1.0000 - val_auc: 1.0000 - lr: 1.0000e-05\n",
            "Epoch 28/50\n",
            "677/677 [==============================] - 53s 78ms/step - loss: 0.0049 - tp: 2377.0000 - fp: 41.0000 - tn: 8403.0000 - fn: 11.0000 - accuracy: 0.9952 - precision: 0.9830 - recall: 0.9954 - auc: 0.9998 - val_loss: 0.0041 - val_tp: 273.0000 - val_fp: 2.0000 - val_tn: 941.0000 - val_fn: 0.0000e+00 - val_accuracy: 0.9984 - val_precision: 0.9927 - val_recall: 1.0000 - val_auc: 1.0000 - lr: 1.0000e-05\n"
          ]
        }
      ]
    },
    {
      "cell_type": "code",
      "source": [
        "from tensorflow.keras.models import load_model\n",
        "\n",
        "# Save model\n",
        "#final_new_model.save('/content/drive/MyDrive/Deep Learning Project/Navesha Palmer/Code/FinalNet.h5')\n",
        "Savedmodel=load_model('/content/drive/MyDrive/Deep Learning Project/Navesha Palmer/Code/FinalNet.h5')"
      ],
      "metadata": {
        "id": "TOGrqSeNrtAb"
      },
      "execution_count": null,
      "outputs": []
    },
    {
      "cell_type": "code",
      "source": [
        "# Save r.history for future use\n",
        "#np.save('/content/drive/MyDrive/Deep Learning Project/Navesha Palmer/Code/FinalNet.npy',r.history)\n",
        "\n",
        "# loading\n",
        "r=np.load('/content/drive/MyDrive/Deep Learning Project/Navesha Palmer/Code/FinalNet.npy',allow_pickle='TRUE').item()"
      ],
      "metadata": {
        "id": "NK5dUYIrGswY"
      },
      "execution_count": null,
      "outputs": []
    },
    {
      "cell_type": "code",
      "source": [
        "# Extracting information from model triaining history\n",
        "\n",
        "acc = r['accuracy']\n",
        "loss = r['loss']\n",
        "precision = r['precision']\n",
        "recall = r['recall']\n",
        "auc = r['auc']\n",
        "\n",
        "val_acc = r['val_accuracy']\n",
        "val_loss = r['val_loss']\n",
        "val_precision = r['val_precision']\n",
        "val_recall = r['val_recall']\n",
        "val_auc = r['val_auc']"
      ],
      "metadata": {
        "id": "VOQ98zYJqznQ"
      },
      "execution_count": null,
      "outputs": []
    },
    {
      "cell_type": "code",
      "source": [
        "\n",
        "#Plotting the Precision:\n",
        "#plt.subplot(3, 2, 4)\n",
        "plt.plot(precision, label='Training Precision')\n",
        "plt.plot(val_precision, label='Validation Precision')\n",
        "plt.legend(loc='lower right')\n",
        "plt.ylabel('Precision')\n",
        "plt.ylim([0,1.1])\n",
        "plt.title('Training and Validation Precision')\n",
        "plt.xlabel('Epoch')\n",
        "\n",
        "#Plotting the Recall:\n",
        "plt.subplot(3, 2, 5)\n",
        "plt.plot(recall, label='Training Recall')\n",
        "plt.plot(val_recall, label='Validation Recall')\n",
        "plt.legend(loc='lower right')\n",
        "plt.ylabel('Recall')\n",
        "plt.ylim([min(plt.ylim()),1])\n",
        "plt.title('Training and Validation Recall')\n",
        "plt.xlabel('Epoch')\n",
        "\n",
        "#Plotting the AUC:\n",
        "plt.subplot(3, 2, 3)\n",
        "plt.plot(auc, label='Training AUC')\n",
        "plt.plot(val_auc, label='Validation AUC')\n",
        "plt.legend(loc='lower right')\n",
        "plt.ylabel('AUC')\n",
        "plt.ylim([min(plt.ylim()),1])\n",
        "plt.title('Training and Validation AUC')\n",
        "plt.xlabel('Epoch')\n",
        "\n"
      ],
      "metadata": {
        "id": "k2qXBxbcLRnX"
      },
      "execution_count": null,
      "outputs": []
    },
    {
      "cell_type": "code",
      "source": [
        "#Plotting the metrics:\n",
        "\n",
        "plt.figure(figsize=(15, 15))\n",
        "\n",
        "#Plotting the Accuracy:\n",
        "plt.subplot(3, 2, 1)\n",
        "plt.plot(acc, label='Training Accuracy')\n",
        "plt.plot(val_acc, label='Validation Accuracy')\n",
        "plt.legend(loc='lower right')\n",
        "plt.ylabel('Accuracy')\n",
        "plt.ylim([min(plt.ylim()),1])\n",
        "plt.xlabel('Epoch')\n",
        "plt.title('Training and Validation Accuracy')\n",
        "\n",
        "#Plotting the Loss:\n",
        "plt.subplot(3, 2, 2)\n",
        "plt.plot(loss, label='Training Loss')\n",
        "plt.plot(val_loss, label='Validation Loss')\n",
        "plt.legend(loc='upper right')\n",
        "plt.ylabel('Cross Entropy')\n",
        "plt.ylim([0,1])\n",
        "plt.title('Training and Validation Loss')\n",
        "plt.xlabel('Epoch')\n",
        "\n",
        "\n",
        "\n",
        "\n",
        "#Showing all the graphs:\n",
        "plt.show()"
      ],
      "metadata": {
        "id": "cg7D5SgRq0oQ",
        "colab": {
          "base_uri": "https://localhost:8080/",
          "height": 318
        },
        "outputId": "3b25ba70-a153-4128-b145-8e52de10f571"
      },
      "execution_count": null,
      "outputs": [
        {
          "output_type": "display_data",
          "data": {
            "text/plain": [
              "<Figure size 1080x1080 with 2 Axes>"
            ],
            "image/png": "[encoded data removed]"
          },
          "metadata": {
            "needs_background": "light"
          }
        }
      ]
    },
    {
      "cell_type": "code",
      "source": [
        "valid_baseline_results = Savedmodel.evaluate(dvalid,batch_size=16, verbose=0)\n",
        "\n",
        "val_accuracy = round((valid_baseline_results[5]),5)\n",
        "val_precision = round((valid_baseline_results[6]),5)\n",
        "val_recall = round((valid_baseline_results[7]),5)\n",
        "val_loss = round((valid_baseline_results[0]),5)\n",
        "val_auc = round((valid_baseline_results[8]),5)\n",
        "\n",
        "print('METRIC VALUES FOR VALID DATASET : \\n')\n",
        "print('ACCURACY : ', val_accuracy)\n",
        "print('PRECISION : ', val_precision)\n",
        "print('RECALL : ', val_recall)\n",
        "print('LOSS : ', val_loss)\n",
        "print('AUC : ', val_auc)\n"
      ],
      "metadata": {
        "colab": {
          "base_uri": "https://localhost:8080/"
        },
        "id": "m69XFfABe-_l",
        "outputId": "462a785d-52ca-4358-820e-f3840aa9319a"
      },
      "execution_count": null,
      "outputs": [
        {
          "output_type": "stream",
          "name": "stdout",
          "text": [
            "METRIC VALUES FOR VALID DATASET : \n",
            "\n",
            "ACCURACY :  0.85892\n",
            "PRECISION :  0.64392\n",
            "RECALL :  0.81273\n",
            "LOSS :  0.66365\n",
            "AUC :  0.9057\n"
          ]
        }
      ]
    },
    {
      "cell_type": "code",
      "source": [
        "test_decoder = build_decoder(with_labels=False, target_size=(256, 256))\n",
        "\n",
        "train_features = build_dataset(\n",
        "    trainPath, bsize=BATCH_SIZE, repeat=False,\n",
        "    shuffle=False, augment=False, cache=False,\n",
        "    decode_fn=test_decoder\n",
        ")\n",
        "\n",
        "valid_features = build_dataset(\n",
        "    validPath, bsize=BATCH_SIZE, repeat=False,\n",
        "    shuffle=False, augment=False, cache=False,\n",
        "    decode_fn=test_decoder\n",
        ")"
      ],
      "metadata": {
        "id": "9zeH8Q-dlMV6"
      },
      "execution_count": null,
      "outputs": []
    },
    {
      "cell_type": "code",
      "source": [
        "train_features, valid_features"
      ],
      "metadata": {
        "colab": {
          "base_uri": "https://localhost:8080/"
        },
        "id": "glZLLx23lOGn",
        "outputId": "05763c2f-9eae-4a08-b677-b05ef38ca6db"
      },
      "execution_count": null,
      "outputs": [
        {
          "output_type": "execute_result",
          "data": {
            "text/plain": [
              "(<PrefetchDataset element_spec=TensorSpec(shape=(None, 256, 256, 3), dtype=tf.float32, name=None)>,\n",
              " <PrefetchDataset element_spec=TensorSpec(shape=(None, 256, 256, 3), dtype=tf.float32, name=None)>)"
            ]
          },
          "metadata": {},
          "execution_count": 66
        }
      ]
    },
    {
      "cell_type": "code",
      "source": [
        "valid_predictions_baseline = Savedmodel.predict(valid_features, batch_size=16)"
      ],
      "metadata": {
        "id": "F1Z7xikRlT-_"
      },
      "execution_count": null,
      "outputs": []
    },
    {
      "cell_type": "code",
      "source": [
        "def plot_roc(name, labels, predictions):\n",
        "  fp, tp, _ = sklearn.metrics.roc_curve(labels, predictions)\n",
        "  auc = round(metrics.auc(fp, tp),3)\n",
        "\n",
        "  plt.figure(figsize=(8, 8))\n",
        "  plt.plot(100*fp, 100*tp, label=name+\" = \" +str(auc), linewidth=2)\n",
        "  plt.xlabel('False positives [%]')\n",
        "  plt.ylabel('True positives [%]')\n",
        "  plt.grid(True)\n",
        "  plt.title(\"ROC Curve\")\n",
        "  ax = plt.gca()\n",
        "  ax.set_aspect('equal')\n",
        "\n",
        "#Plotting the ROC Curve on CV Dataset:\n",
        "plot_roc(\"CV Baseline\", validLabels, valid_predictions_baseline)\n",
        "plt.legend(loc='lower right')"
      ],
      "metadata": {
        "colab": {
          "base_uri": "https://localhost:8080/",
          "height": 530
        },
        "id": "vuCplSnHfhR8",
        "outputId": "41cf2938-dc00-4ec3-aa91-abe5c850a144"
      },
      "execution_count": null,
      "outputs": [
        {
          "output_type": "execute_result",
          "data": {
            "text/plain": [
              "<matplotlib.legend.Legend at 0x7f1310167690>"
            ]
          },
          "metadata": {},
          "execution_count": 68
        },
        {
          "output_type": "display_data",
          "data": {
            "text/plain": [
              "<Figure size 576x576 with 1 Axes>"
            ],
            "image/png": "[encoded data removed]"
          },
          "metadata": {
            "needs_background": "light"
          }
        }
      ]
    },
    {
      "cell_type": "code",
      "source": [
        "def plot_cm(labels, predictions, p=0.5):\n",
        "  cm = confusion_matrix(labels, predictions > p)\n",
        "  plt.figure(figsize=(5,5))\n",
        "  sns.heatmap(cm, annot=True, fmt=\"d\")\n",
        "  plt.title('Confusion matrix {:.1f}'.format(p))\n",
        "  plt.ylabel('Actual label')\n",
        "  plt.xlabel('Predicted label')\n",
        "\n",
        "  tn = cm[0][0]\n",
        "  fn = cm[1][0]\n",
        "  fp = cm[0][1]\n",
        "  tp = cm[1][1]\n",
        "\n",
        "  sensitivity = round((tp/(tp+fn)),3)\n",
        "  specificity = round((tn/(tn+fp)),3)\n",
        "  accuracy = round(((tp + tn)/(tp+tn+fp+fn)),3)\n",
        "  PPV = round((tp/(tp + fp)),3)\n",
        "  NPV = round((tn/(tn + fn)),3)\n",
        "  print('Total Records Detected : ', labels.shape[0])\n",
        "  print('Total Pneumothorax Cases : ', np.sum(cm[1]))\n",
        "  print(\"=====================================\")\n",
        "  print('True Negatives : ', tn)\n",
        "  print('False Positives : ', fp)\n",
        "  print('False Negatives : ', fn)\n",
        "  print('True Positives : ', tp)\n",
        "  print(\"=====================================\")\n",
        "  print('Accuracy : ', accuracy)\n",
        "  print('PPV : ', PPV)\n",
        "  print('NPV : ', NPV)\n",
        "  print('Sensitivity : ', sensitivity)\n",
        "  print('Specificity : ', specificity)\n",
        "  print(\"=====================================\")\n",
        "\n",
        "  return tn,fn,fp,tp,sensitivity,specificity,accuracy,PPV,NPV"
      ],
      "metadata": {
        "id": "mCeR0ou_fudg"
      },
      "execution_count": null,
      "outputs": []
    },
    {
      "cell_type": "code",
      "source": [
        "tn,fn,fp,tp,sensitivity,specificity,accuracy,PPV,NPV = plot_cm(validLabels, valid_predictions_baseline)"
      ],
      "metadata": {
        "colab": {
          "base_uri": "https://localhost:8080/",
          "height": 350
        },
        "id": "KcYtnHMrfvzB",
        "outputId": "12ef8dd5-e7f6-490d-f0a1-b77be7f6aeab"
      },
      "execution_count": null,
      "outputs": [
        {
          "output_type": "display_data",
          "data": {
            "text/plain": [
              "<Figure size 360x360 with 2 Axes>"
            ],
            "image/png": "[encoded data removed]"
          },
          "metadata": {
            "needs_background": "light"
          }
        }
      ]
    },
    {
      "cell_type": "code",
      "source": [
        "train_loss, train_acc = model.evaluate(training_set, steps=16)\n",
        "dvalid,batch_size=16, verbose=0)\n",
        "print('Train Accuracy: %.3f, Test Accuracy: %.3f' % (train_acc, test_acc))\n",
        "print('Train Loss: %.3f, Test Loss: %.3f' % (train_loss, test_loss))"
      ],
      "metadata": {
        "id": "m8gOiRT4m2Ky"
      },
      "execution_count": null,
      "outputs": []
    },
    {
      "cell_type": "code",
      "source": [
        "test_df = pd.read_excel('/content/drive/MyDrive/Deep Learning Project/Navesha Palmer/Data/Files/Human detection.xlsx')\n",
        "test_df.head()"
      ],
      "metadata": {
        "id": "S6UKtwdXq8YR",
        "colab": {
          "base_uri": "https://localhost:8080/",
          "height": 206
        },
        "outputId": "d8dd1e36-66ec-4fc1-afe5-655217c8c592"
      },
      "execution_count": null,
      "outputs": [
        {
          "output_type": "execute_result",
          "data": {
            "text/plain": [
              "   Label   Age Sex line/tubes Ground truth QC result Physician 1 Physician 2  \\\n",
              "0  DX001  68.0   M          N          NEG       NEG    Positive    Negative   \n",
              "1  DX002  62.0   M          N          NEG       NEG    Positive    Negative   \n",
              "2  DX003  67.0   F          Y          POS       POS    Positive    Negative   \n",
              "3  DX004  68.0   M          N          NEG       NEG    Negative    Negative   \n",
              "4  DX005  51.0   M          Y          NEG       NEG    Negative    Negative   \n",
              "\n",
              "    Size  \n",
              "0    NaN  \n",
              "1    NaN  \n",
              "2  Large  \n",
              "3    NaN  \n",
              "4    NaN  "
            ],
            "text/html": [
              "\n",
              "  <div id=\"df-ef93d49b-604b-41f4-855a-f34175806761\">\n",
              "    <div class=\"colab-df-container\">\n",
              "      <div>\n",
              "<style scoped>\n",
              "    .dataframe tbody tr th:only-of-type {\n",
              "        vertical-align: middle;\n",
              "    }\n",
              "\n",
              "    .dataframe tbody tr th {\n",
              "        vertical-align: top;\n",
              "    }\n",
              "\n",
              "    .dataframe thead th {\n",
              "        text-align: right;\n",
              "    }\n",
              "</style>\n",
              "<table border=\"1\" class=\"dataframe\">\n",
              "  <thead>\n",
              "    <tr style=\"text-align: right;\">\n",
              "      <th></th>\n",
              "      <th>Label</th>\n",
              "      <th>Age</th>\n",
              "      <th>Sex</th>\n",
              "      <th>line/tubes</th>\n",
              "      <th>Ground truth</th>\n",
              "      <th>QC result</th>\n",
              "      <th>Physician 1</th>\n",
              "      <th>Physician 2</th>\n",
              "      <th>Size</th>\n",
              "    </tr>\n",
              "  </thead>\n",
              "  <tbody>\n",
              "    <tr>\n",
              "      <th>0</th>\n",
              "      <td>DX001</td>\n",
              "      <td>68.0</td>\n",
              "      <td>M</td>\n",
              "      <td>N</td>\n",
              "      <td>NEG</td>\n",
              "      <td>NEG</td>\n",
              "      <td>Positive</td>\n",
              "      <td>Negative</td>\n",
              "      <td>NaN</td>\n",
              "    </tr>\n",
              "    <tr>\n",
              "      <th>1</th>\n",
              "      <td>DX002</td>\n",
              "      <td>62.0</td>\n",
              "      <td>M</td>\n",
              "      <td>N</td>\n",
              "      <td>NEG</td>\n",
              "      <td>NEG</td>\n",
              "      <td>Positive</td>\n",
              "      <td>Negative</td>\n",
              "      <td>NaN</td>\n",
              "    </tr>\n",
              "    <tr>\n",
              "      <th>2</th>\n",
              "      <td>DX003</td>\n",
              "      <td>67.0</td>\n",
              "      <td>F</td>\n",
              "      <td>Y</td>\n",
              "      <td>POS</td>\n",
              "      <td>POS</td>\n",
              "      <td>Positive</td>\n",
              "      <td>Negative</td>\n",
              "      <td>Large</td>\n",
              "    </tr>\n",
              "    <tr>\n",
              "      <th>3</th>\n",
              "      <td>DX004</td>\n",
              "      <td>68.0</td>\n",
              "      <td>M</td>\n",
              "      <td>N</td>\n",
              "      <td>NEG</td>\n",
              "      <td>NEG</td>\n",
              "      <td>Negative</td>\n",
              "      <td>Negative</td>\n",
              "      <td>NaN</td>\n",
              "    </tr>\n",
              "    <tr>\n",
              "      <th>4</th>\n",
              "      <td>DX005</td>\n",
              "      <td>51.0</td>\n",
              "      <td>M</td>\n",
              "      <td>Y</td>\n",
              "      <td>NEG</td>\n",
              "      <td>NEG</td>\n",
              "      <td>Negative</td>\n",
              "      <td>Negative</td>\n",
              "      <td>NaN</td>\n",
              "    </tr>\n",
              "  </tbody>\n",
              "</table>\n",
              "</div>\n",
              "      <button class=\"colab-df-convert\" onclick=\"convertToInteractive('df-ef93d49b-604b-41f4-855a-f34175806761')\"\n",
              "              title=\"Convert this dataframe to an interactive table.\"\n",
              "              style=\"display:none;\">\n",
              "        \n",
              "  <svg xmlns=\"http://www.w3.org/2000/svg\" height=\"24px\"viewBox=\"0 0 24 24\"\n",
              "       width=\"24px\">\n",
              "    <path d=\"M0 0h24v24H0V0z\" fill=\"none\"/>\n",
              "    <path d=\"M18.56 5.44l.94 2.06.94-2.06 2.06-.94-2.06-.94-.94-2.06-.94 2.06-2.06.94zm-11 1L8.5 8.5l.94-2.06 2.06-.94-2.06-.94L8.5 2.5l-.94 2.06-2.06.94zm10 10l.94 2.06.94-2.06 2.06-.94-2.06-.94-.94-2.06-.94 2.06-2.06.94z\"/><path d=\"M17.41 7.96l-1.37-1.37c-.4-.4-.92-.59-1.43-.59-.52 0-1.04.2-1.43.59L10.3 9.45l-7.72 7.72c-.78.78-.78 2.05 0 2.83L4 21.41c.39.39.9.59 1.41.59.51 0 1.02-.2 1.41-.59l7.78-7.78 2.81-2.81c.8-.78.8-2.07 0-2.86zM5.41 20L4 18.59l7.72-7.72 1.47 1.35L5.41 20z\"/>\n",
              "  </svg>\n",
              "      </button>\n",
              "      \n",
              "  <style>\n",
              "    .colab-df-container {\n",
              "      display:flex;\n",
              "      flex-wrap:wrap;\n",
              "      gap: 12px;\n",
              "    }\n",
              "\n",
              "    .colab-df-convert {\n",
              "      background-color: #E8F0FE;\n",
              "      border: none;\n",
              "      border-radius: 50%;\n",
              "      cursor: pointer;\n",
              "      display: none;\n",
              "      fill: #1967D2;\n",
              "      height: 32px;\n",
              "      padding: 0 0 0 0;\n",
              "      width: 32px;\n",
              "    }\n",
              "\n",
              "    .colab-df-convert:hover {\n",
              "      background-color: #E2EBFA;\n",
              "      box-shadow: 0px 1px 2px rgba(60, 64, 67, 0.3), 0px 1px 3px 1px rgba(60, 64, 67, 0.15);\n",
              "      fill: #174EA6;\n",
              "    }\n",
              "\n",
              "    [theme=dark] .colab-df-convert {\n",
              "      background-color: #3B4455;\n",
              "      fill: #D2E3FC;\n",
              "    }\n",
              "\n",
              "    [theme=dark] .colab-df-convert:hover {\n",
              "      background-color: #434B5C;\n",
              "      box-shadow: 0px 1px 3px 1px rgba(0, 0, 0, 0.15);\n",
              "      filter: drop-shadow(0px 1px 2px rgba(0, 0, 0, 0.3));\n",
              "      fill: #FFFFFF;\n",
              "    }\n",
              "  </style>\n",
              "\n",
              "      <script>\n",
              "        const buttonEl =\n",
              "          document.querySelector('#df-ef93d49b-604b-41f4-855a-f34175806761 button.colab-df-convert');\n",
              "        buttonEl.style.display =\n",
              "          google.colab.kernel.accessAllowed ? 'block' : 'none';\n",
              "\n",
              "        async function convertToInteractive(key) {\n",
              "          const element = document.querySelector('#df-ef93d49b-604b-41f4-855a-f34175806761');\n",
              "          const dataTable =\n",
              "            await google.colab.kernel.invokeFunction('convertToInteractive',\n",
              "                                                     [key], {});\n",
              "          if (!dataTable) return;\n",
              "\n",
              "          const docLinkHtml = 'Like what you see? Visit the ' +\n",
              "            '<a target=\"_blank\" href=https://colab.research.google.com/notebooks/data_table.ipynb>data table notebook</a>'\n",
              "            + ' to learn more about interactive tables.';\n",
              "          element.innerHTML = '';\n",
              "          dataTable['output_type'] = 'display_data';\n",
              "          await google.colab.output.renderOutput(dataTable, element);\n",
              "          const docLink = document.createElement('div');\n",
              "          docLink.innerHTML = docLinkHtml;\n",
              "          element.appendChild(docLink);\n",
              "        }\n",
              "      </script>\n",
              "    </div>\n",
              "  </div>\n",
              "  "
            ]
          },
          "metadata": {},
          "execution_count": 7
        }
      ]
    },
    {
      "cell_type": "code",
      "source": [
        "test_df['ImagePath_jpg'] = '/content/drive/MyDrive/Deep Learning Project/Navesha Palmer/Data/Test/'+ test_df['Label']+'.jpg'"
      ],
      "metadata": {
        "id": "UMWx8_k1gw71"
      },
      "execution_count": null,
      "outputs": []
    },
    {
      "cell_type": "code",
      "source": [
        "imagePath_test = test_df['ImagePath_jpg']"
      ],
      "metadata": {
        "id": "2nuyZLstIZiC"
      },
      "execution_count": null,
      "outputs": []
    },
    {
      "cell_type": "code",
      "source": [
        "imagePath_test"
      ],
      "metadata": {
        "id": "m2ZGrjhhIyvG",
        "colab": {
          "base_uri": "https://localhost:8080/"
        },
        "outputId": "efb02372-2228-466c-d4c1-fea2aa1f52b8"
      },
      "execution_count": null,
      "outputs": [
        {
          "output_type": "execute_result",
          "data": {
            "text/plain": [
              "0      /content/drive/MyDrive/Deep Learning Project/N...\n",
              "1      /content/drive/MyDrive/Deep Learning Project/N...\n",
              "2      /content/drive/MyDrive/Deep Learning Project/N...\n",
              "3      /content/drive/MyDrive/Deep Learning Project/N...\n",
              "4      /content/drive/MyDrive/Deep Learning Project/N...\n",
              "                             ...                        \n",
              "295    /content/drive/MyDrive/Deep Learning Project/N...\n",
              "296    /content/drive/MyDrive/Deep Learning Project/N...\n",
              "297    /content/drive/MyDrive/Deep Learning Project/N...\n",
              "298    /content/drive/MyDrive/Deep Learning Project/N...\n",
              "299    /content/drive/MyDrive/Deep Learning Project/N...\n",
              "Name: ImagePath_jpg, Length: 300, dtype: object"
            ]
          },
          "metadata": {},
          "execution_count": 11
        }
      ]
    },
    {
      "cell_type": "code",
      "source": [
        "test_df['AI Model Prediction Probability'] = Savedmodel.predict(dtest,batch_size=16, verbose=0)"
      ],
      "metadata": {
        "id": "udv8X4l8Eg2Q"
      },
      "execution_count": null,
      "outputs": []
    },
    {
      "cell_type": "code",
      "source": [
        "test_df['AI Model Prediction'] = test_df['AI Model Prediction Probability'].apply(lambda x : 'NEG' if x < 0.5 else 'POS')"
      ],
      "metadata": {
        "id": "uvrtpyIhGu1y"
      },
      "execution_count": null,
      "outputs": []
    },
    {
      "cell_type": "code",
      "source": [
        "test_df.head()"
      ],
      "metadata": {
        "colab": {
          "base_uri": "https://localhost:8080/",
          "height": 215
        },
        "id": "ydICR9u1Gmm7",
        "outputId": "d2b29313-e671-46ff-e433-76aac378dedc"
      },
      "execution_count": null,
      "outputs": [
        {
          "output_type": "execute_result",
          "data": {
            "text/plain": [
              "   Label   Age Sex line/tubes Ground truth QC result Physician 1 Physician 2  \\\n",
              "0  DX001  68.0   M          N          NEG       NEG    Positive    Negative   \n",
              "1  DX002  62.0   M          N          NEG       NEG    Positive    Negative   \n",
              "2  DX003  67.0   F          Y          POS       POS    Positive    Negative   \n",
              "3  DX004  68.0   M          N          NEG       NEG    Negative    Negative   \n",
              "4  DX005  51.0   M          Y          NEG       NEG    Negative    Negative   \n",
              "\n",
              "    Size                                      ImagePath_jpg  \\\n",
              "0    NaN  /content/drive/MyDrive/Deep Learning Project/N...   \n",
              "1    NaN  /content/drive/MyDrive/Deep Learning Project/N...   \n",
              "2  Large  /content/drive/MyDrive/Deep Learning Project/N...   \n",
              "3    NaN  /content/drive/MyDrive/Deep Learning Project/N...   \n",
              "4    NaN  /content/drive/MyDrive/Deep Learning Project/N...   \n",
              "\n",
              "   AI Model Prediction Probability AI Model Prediction  \n",
              "0                         0.960245                 POS  \n",
              "1                         0.000004                 NEG  \n",
              "2                         0.883043                 POS  \n",
              "3                         0.000381                 NEG  \n",
              "4                         0.000003                 NEG  "
            ],
            "text/html": [
              "\n",
              "  <div id=\"df-18fc31b4-5034-442a-9574-9a582d975009\">\n",
              "    <div class=\"colab-df-container\">\n",
              "      <div>\n",
              "<style scoped>\n",
              "    .dataframe tbody tr th:only-of-type {\n",
              "        vertical-align: middle;\n",
              "    }\n",
              "\n",
              "    .dataframe tbody tr th {\n",
              "        vertical-align: top;\n",
              "    }\n",
              "\n",
              "    .dataframe thead th {\n",
              "        text-align: right;\n",
              "    }\n",
              "</style>\n",
              "<table border=\"1\" class=\"dataframe\">\n",
              "  <thead>\n",
              "    <tr style=\"text-align: right;\">\n",
              "      <th></th>\n",
              "      <th>Label</th>\n",
              "      <th>Age</th>\n",
              "      <th>Sex</th>\n",
              "      <th>line/tubes</th>\n",
              "      <th>Ground truth</th>\n",
              "      <th>QC result</th>\n",
              "      <th>Physician 1</th>\n",
              "      <th>Physician 2</th>\n",
              "      <th>Size</th>\n",
              "      <th>ImagePath_jpg</th>\n",
              "      <th>AI Model Prediction Probability</th>\n",
              "      <th>AI Model Prediction</th>\n",
              "    </tr>\n",
              "  </thead>\n",
              "  <tbody>\n",
              "    <tr>\n",
              "      <th>0</th>\n",
              "      <td>DX001</td>\n",
              "      <td>68.0</td>\n",
              "      <td>M</td>\n",
              "      <td>N</td>\n",
              "      <td>NEG</td>\n",
              "      <td>NEG</td>\n",
              "      <td>Positive</td>\n",
              "      <td>Negative</td>\n",
              "      <td>NaN</td>\n",
              "      <td>/content/drive/MyDrive/Deep Learning Project/N...</td>\n",
              "      <td>0.960245</td>\n",
              "      <td>POS</td>\n",
              "    </tr>\n",
              "    <tr>\n",
              "      <th>1</th>\n",
              "      <td>DX002</td>\n",
              "      <td>62.0</td>\n",
              "      <td>M</td>\n",
              "      <td>N</td>\n",
              "      <td>NEG</td>\n",
              "      <td>NEG</td>\n",
              "      <td>Positive</td>\n",
              "      <td>Negative</td>\n",
              "      <td>NaN</td>\n",
              "      <td>/content/drive/MyDrive/Deep Learning Project/N...</td>\n",
              "      <td>0.000004</td>\n",
              "      <td>NEG</td>\n",
              "    </tr>\n",
              "    <tr>\n",
              "      <th>2</th>\n",
              "      <td>DX003</td>\n",
              "      <td>67.0</td>\n",
              "      <td>F</td>\n",
              "      <td>Y</td>\n",
              "      <td>POS</td>\n",
              "      <td>POS</td>\n",
              "      <td>Positive</td>\n",
              "      <td>Negative</td>\n",
              "      <td>Large</td>\n",
              "      <td>/content/drive/MyDrive/Deep Learning Project/N...</td>\n",
              "      <td>0.883043</td>\n",
              "      <td>POS</td>\n",
              "    </tr>\n",
              "    <tr>\n",
              "      <th>3</th>\n",
              "      <td>DX004</td>\n",
              "      <td>68.0</td>\n",
              "      <td>M</td>\n",
              "      <td>N</td>\n",
              "      <td>NEG</td>\n",
              "      <td>NEG</td>\n",
              "      <td>Negative</td>\n",
              "      <td>Negative</td>\n",
              "      <td>NaN</td>\n",
              "      <td>/content/drive/MyDrive/Deep Learning Project/N...</td>\n",
              "      <td>0.000381</td>\n",
              "      <td>NEG</td>\n",
              "    </tr>\n",
              "    <tr>\n",
              "      <th>4</th>\n",
              "      <td>DX005</td>\n",
              "      <td>51.0</td>\n",
              "      <td>M</td>\n",
              "      <td>Y</td>\n",
              "      <td>NEG</td>\n",
              "      <td>NEG</td>\n",
              "      <td>Negative</td>\n",
              "      <td>Negative</td>\n",
              "      <td>NaN</td>\n",
              "      <td>/content/drive/MyDrive/Deep Learning Project/N...</td>\n",
              "      <td>0.000003</td>\n",
              "      <td>NEG</td>\n",
              "    </tr>\n",
              "  </tbody>\n",
              "</table>\n",
              "</div>\n",
              "      <button class=\"colab-df-convert\" onclick=\"convertToInteractive('df-18fc31b4-5034-442a-9574-9a582d975009')\"\n",
              "              title=\"Convert this dataframe to an interactive table.\"\n",
              "              style=\"display:none;\">\n",
              "        \n",
              "  <svg xmlns=\"http://www.w3.org/2000/svg\" height=\"24px\"viewBox=\"0 0 24 24\"\n",
              "       width=\"24px\">\n",
              "    <path d=\"M0 0h24v24H0V0z\" fill=\"none\"/>\n",
              "    <path d=\"M18.56 5.44l.94 2.06.94-2.06 2.06-.94-2.06-.94-.94-2.06-.94 2.06-2.06.94zm-11 1L8.5 8.5l.94-2.06 2.06-.94-2.06-.94L8.5 2.5l-.94 2.06-2.06.94zm10 10l.94 2.06.94-2.06 2.06-.94-2.06-.94-.94-2.06-.94 2.06-2.06.94z\"/><path d=\"M17.41 7.96l-1.37-1.37c-.4-.4-.92-.59-1.43-.59-.52 0-1.04.2-1.43.59L10.3 9.45l-7.72 7.72c-.78.78-.78 2.05 0 2.83L4 21.41c.39.39.9.59 1.41.59.51 0 1.02-.2 1.41-.59l7.78-7.78 2.81-2.81c.8-.78.8-2.07 0-2.86zM5.41 20L4 18.59l7.72-7.72 1.47 1.35L5.41 20z\"/>\n",
              "  </svg>\n",
              "      </button>\n",
              "      \n",
              "  <style>\n",
              "    .colab-df-container {\n",
              "      display:flex;\n",
              "      flex-wrap:wrap;\n",
              "      gap: 12px;\n",
              "    }\n",
              "\n",
              "    .colab-df-convert {\n",
              "      background-color: #E8F0FE;\n",
              "      border: none;\n",
              "      border-radius: 50%;\n",
              "      cursor: pointer;\n",
              "      display: none;\n",
              "      fill: #1967D2;\n",
              "      height: 32px;\n",
              "      padding: 0 0 0 0;\n",
              "      width: 32px;\n",
              "    }\n",
              "\n",
              "    .colab-df-convert:hover {\n",
              "      background-color: #E2EBFA;\n",
              "      box-shadow: 0px 1px 2px rgba(60, 64, 67, 0.3), 0px 1px 3px 1px rgba(60, 64, 67, 0.15);\n",
              "      fill: #174EA6;\n",
              "    }\n",
              "\n",
              "    [theme=dark] .colab-df-convert {\n",
              "      background-color: #3B4455;\n",
              "      fill: #D2E3FC;\n",
              "    }\n",
              "\n",
              "    [theme=dark] .colab-df-convert:hover {\n",
              "      background-color: #434B5C;\n",
              "      box-shadow: 0px 1px 3px 1px rgba(0, 0, 0, 0.15);\n",
              "      filter: drop-shadow(0px 1px 2px rgba(0, 0, 0, 0.3));\n",
              "      fill: #FFFFFF;\n",
              "    }\n",
              "  </style>\n",
              "\n",
              "      <script>\n",
              "        const buttonEl =\n",
              "          document.querySelector('#df-18fc31b4-5034-442a-9574-9a582d975009 button.colab-df-convert');\n",
              "        buttonEl.style.display =\n",
              "          google.colab.kernel.accessAllowed ? 'block' : 'none';\n",
              "\n",
              "        async function convertToInteractive(key) {\n",
              "          const element = document.querySelector('#df-18fc31b4-5034-442a-9574-9a582d975009');\n",
              "          const dataTable =\n",
              "            await google.colab.kernel.invokeFunction('convertToInteractive',\n",
              "                                                     [key], {});\n",
              "          if (!dataTable) return;\n",
              "\n",
              "          const docLinkHtml = 'Like what you see? Visit the ' +\n",
              "            '<a target=\"_blank\" href=https://colab.research.google.com/notebooks/data_table.ipynb>data table notebook</a>'\n",
              "            + ' to learn more about interactive tables.';\n",
              "          element.innerHTML = '';\n",
              "          dataTable['output_type'] = 'display_data';\n",
              "          await google.colab.output.renderOutput(dataTable, element);\n",
              "          const docLink = document.createElement('div');\n",
              "          docLink.innerHTML = docLinkHtml;\n",
              "          element.appendChild(docLink);\n",
              "        }\n",
              "      </script>\n",
              "    </div>\n",
              "  </div>\n",
              "  "
            ]
          },
          "metadata": {},
          "execution_count": 59
        }
      ]
    },
    {
      "cell_type": "code",
      "source": [
        "Resutls = test_df.to_csv (r'/content/drive/MyDrive/Deep Learning Project/Navesha Palmer/Data/Files/Results.csv', index = None, header=True)"
      ],
      "metadata": {
        "id": "YCKZeftcJhau"
      },
      "execution_count": null,
      "outputs": []
    },
    {
      "cell_type": "code",
      "source": [],
      "metadata": {
        "id": "9iEROqrqg0Td"
      },
      "execution_count": null,
      "outputs": []
    },
    {
      "cell_type": "code",
      "source": [],
      "metadata": {
        "id": "Nm_p-G6hg0HF"
      },
      "execution_count": null,
      "outputs": []
    },
    {
      "cell_type": "code",
      "source": [
        "test_df['Target'] = test_df['Ground truth'].apply(lambda x : 1 if x == 'POS' else 0)\n",
        "test_df.head()"
      ],
      "metadata": {
        "colab": {
          "base_uri": "https://localhost:8080/",
          "height": 206
        },
        "id": "AYXVKpwTaF4j",
        "outputId": "29fd72af-39f4-4fa4-8a54-e36ad5d7e74b"
      },
      "execution_count": null,
      "outputs": [
        {
          "output_type": "execute_result",
          "data": {
            "text/plain": [
              "   Label   Age Sex line/tubes Ground truth QC result Physician 1 Physician 2  \\\n",
              "0  DX001  68.0   M          N          NEG       NEG    Positive    Negative   \n",
              "1  DX002  62.0   M          N          NEG       NEG    Positive    Negative   \n",
              "2  DX003  67.0   F          Y          POS       POS    Positive    Negative   \n",
              "3  DX004  68.0   M          N          NEG       NEG    Negative    Negative   \n",
              "4  DX005  51.0   M          Y          NEG       NEG    Negative    Negative   \n",
              "\n",
              "    Size                                      ImagePath_jpg  Target  \n",
              "0    NaN  /content/drive/MyDrive/Deep Learning Project/N...       0  \n",
              "1    NaN  /content/drive/MyDrive/Deep Learning Project/N...       0  \n",
              "2  Large  /content/drive/MyDrive/Deep Learning Project/N...       1  \n",
              "3    NaN  /content/drive/MyDrive/Deep Learning Project/N...       0  \n",
              "4    NaN  /content/drive/MyDrive/Deep Learning Project/N...       0  "
            ],
            "text/html": [
              "\n",
              "  <div id=\"df-6e6d5f90-1184-45e0-aa08-4bd5a1f47a71\">\n",
              "    <div class=\"colab-df-container\">\n",
              "      <div>\n",
              "<style scoped>\n",
              "    .dataframe tbody tr th:only-of-type {\n",
              "        vertical-align: middle;\n",
              "    }\n",
              "\n",
              "    .dataframe tbody tr th {\n",
              "        vertical-align: top;\n",
              "    }\n",
              "\n",
              "    .dataframe thead th {\n",
              "        text-align: right;\n",
              "    }\n",
              "</style>\n",
              "<table border=\"1\" class=\"dataframe\">\n",
              "  <thead>\n",
              "    <tr style=\"text-align: right;\">\n",
              "      <th></th>\n",
              "      <th>Label</th>\n",
              "      <th>Age</th>\n",
              "      <th>Sex</th>\n",
              "      <th>line/tubes</th>\n",
              "      <th>Ground truth</th>\n",
              "      <th>QC result</th>\n",
              "      <th>Physician 1</th>\n",
              "      <th>Physician 2</th>\n",
              "      <th>Size</th>\n",
              "      <th>ImagePath_jpg</th>\n",
              "      <th>Target</th>\n",
              "    </tr>\n",
              "  </thead>\n",
              "  <tbody>\n",
              "    <tr>\n",
              "      <th>0</th>\n",
              "      <td>DX001</td>\n",
              "      <td>68.0</td>\n",
              "      <td>M</td>\n",
              "      <td>N</td>\n",
              "      <td>NEG</td>\n",
              "      <td>NEG</td>\n",
              "      <td>Positive</td>\n",
              "      <td>Negative</td>\n",
              "      <td>NaN</td>\n",
              "      <td>/content/drive/MyDrive/Deep Learning Project/N...</td>\n",
              "      <td>0</td>\n",
              "    </tr>\n",
              "    <tr>\n",
              "      <th>1</th>\n",
              "      <td>DX002</td>\n",
              "      <td>62.0</td>\n",
              "      <td>M</td>\n",
              "      <td>N</td>\n",
              "      <td>NEG</td>\n",
              "      <td>NEG</td>\n",
              "      <td>Positive</td>\n",
              "      <td>Negative</td>\n",
              "      <td>NaN</td>\n",
              "      <td>/content/drive/MyDrive/Deep Learning Project/N...</td>\n",
              "      <td>0</td>\n",
              "    </tr>\n",
              "    <tr>\n",
              "      <th>2</th>\n",
              "      <td>DX003</td>\n",
              "      <td>67.0</td>\n",
              "      <td>F</td>\n",
              "      <td>Y</td>\n",
              "      <td>POS</td>\n",
              "      <td>POS</td>\n",
              "      <td>Positive</td>\n",
              "      <td>Negative</td>\n",
              "      <td>Large</td>\n",
              "      <td>/content/drive/MyDrive/Deep Learning Project/N...</td>\n",
              "      <td>1</td>\n",
              "    </tr>\n",
              "    <tr>\n",
              "      <th>3</th>\n",
              "      <td>DX004</td>\n",
              "      <td>68.0</td>\n",
              "      <td>M</td>\n",
              "      <td>N</td>\n",
              "      <td>NEG</td>\n",
              "      <td>NEG</td>\n",
              "      <td>Negative</td>\n",
              "      <td>Negative</td>\n",
              "      <td>NaN</td>\n",
              "      <td>/content/drive/MyDrive/Deep Learning Project/N...</td>\n",
              "      <td>0</td>\n",
              "    </tr>\n",
              "    <tr>\n",
              "      <th>4</th>\n",
              "      <td>DX005</td>\n",
              "      <td>51.0</td>\n",
              "      <td>M</td>\n",
              "      <td>Y</td>\n",
              "      <td>NEG</td>\n",
              "      <td>NEG</td>\n",
              "      <td>Negative</td>\n",
              "      <td>Negative</td>\n",
              "      <td>NaN</td>\n",
              "      <td>/content/drive/MyDrive/Deep Learning Project/N...</td>\n",
              "      <td>0</td>\n",
              "    </tr>\n",
              "  </tbody>\n",
              "</table>\n",
              "</div>\n",
              "      <button class=\"colab-df-convert\" onclick=\"convertToInteractive('df-6e6d5f90-1184-45e0-aa08-4bd5a1f47a71')\"\n",
              "              title=\"Convert this dataframe to an interactive table.\"\n",
              "              style=\"display:none;\">\n",
              "        \n",
              "  <svg xmlns=\"http://www.w3.org/2000/svg\" height=\"24px\"viewBox=\"0 0 24 24\"\n",
              "       width=\"24px\">\n",
              "    <path d=\"M0 0h24v24H0V0z\" fill=\"none\"/>\n",
              "    <path d=\"M18.56 5.44l.94 2.06.94-2.06 2.06-.94-2.06-.94-.94-2.06-.94 2.06-2.06.94zm-11 1L8.5 8.5l.94-2.06 2.06-.94-2.06-.94L8.5 2.5l-.94 2.06-2.06.94zm10 10l.94 2.06.94-2.06 2.06-.94-2.06-.94-.94-2.06-.94 2.06-2.06.94z\"/><path d=\"M17.41 7.96l-1.37-1.37c-.4-.4-.92-.59-1.43-.59-.52 0-1.04.2-1.43.59L10.3 9.45l-7.72 7.72c-.78.78-.78 2.05 0 2.83L4 21.41c.39.39.9.59 1.41.59.51 0 1.02-.2 1.41-.59l7.78-7.78 2.81-2.81c.8-.78.8-2.07 0-2.86zM5.41 20L4 18.59l7.72-7.72 1.47 1.35L5.41 20z\"/>\n",
              "  </svg>\n",
              "      </button>\n",
              "      \n",
              "  <style>\n",
              "    .colab-df-container {\n",
              "      display:flex;\n",
              "      flex-wrap:wrap;\n",
              "      gap: 12px;\n",
              "    }\n",
              "\n",
              "    .colab-df-convert {\n",
              "      background-color: #E8F0FE;\n",
              "      border: none;\n",
              "      border-radius: 50%;\n",
              "      cursor: pointer;\n",
              "      display: none;\n",
              "      fill: #1967D2;\n",
              "      height: 32px;\n",
              "      padding: 0 0 0 0;\n",
              "      width: 32px;\n",
              "    }\n",
              "\n",
              "    .colab-df-convert:hover {\n",
              "      background-color: #E2EBFA;\n",
              "      box-shadow: 0px 1px 2px rgba(60, 64, 67, 0.3), 0px 1px 3px 1px rgba(60, 64, 67, 0.15);\n",
              "      fill: #174EA6;\n",
              "    }\n",
              "\n",
              "    [theme=dark] .colab-df-convert {\n",
              "      background-color: #3B4455;\n",
              "      fill: #D2E3FC;\n",
              "    }\n",
              "\n",
              "    [theme=dark] .colab-df-convert:hover {\n",
              "      background-color: #434B5C;\n",
              "      box-shadow: 0px 1px 3px 1px rgba(0, 0, 0, 0.15);\n",
              "      filter: drop-shadow(0px 1px 2px rgba(0, 0, 0, 0.3));\n",
              "      fill: #FFFFFF;\n",
              "    }\n",
              "  </style>\n",
              "\n",
              "      <script>\n",
              "        const buttonEl =\n",
              "          document.querySelector('#df-6e6d5f90-1184-45e0-aa08-4bd5a1f47a71 button.colab-df-convert');\n",
              "        buttonEl.style.display =\n",
              "          google.colab.kernel.accessAllowed ? 'block' : 'none';\n",
              "\n",
              "        async function convertToInteractive(key) {\n",
              "          const element = document.querySelector('#df-6e6d5f90-1184-45e0-aa08-4bd5a1f47a71');\n",
              "          const dataTable =\n",
              "            await google.colab.kernel.invokeFunction('convertToInteractive',\n",
              "                                                     [key], {});\n",
              "          if (!dataTable) return;\n",
              "\n",
              "          const docLinkHtml = 'Like what you see? Visit the ' +\n",
              "            '<a target=\"_blank\" href=https://colab.research.google.com/notebooks/data_table.ipynb>data table notebook</a>'\n",
              "            + ' to learn more about interactive tables.';\n",
              "          element.innerHTML = '';\n",
              "          dataTable['output_type'] = 'display_data';\n",
              "          await google.colab.output.renderOutput(dataTable, element);\n",
              "          const docLink = document.createElement('div');\n",
              "          docLink.innerHTML = docLinkHtml;\n",
              "          element.appendChild(docLink);\n",
              "        }\n",
              "      </script>\n",
              "    </div>\n",
              "  </div>\n",
              "  "
            ]
          },
          "metadata": {},
          "execution_count": 47
        }
      ]
    },
    {
      "cell_type": "code",
      "source": [
        "Test_Labels = test_df['Target']"
      ],
      "metadata": {
        "id": "IEMj0sxLagMa"
      },
      "execution_count": null,
      "outputs": []
    },
    {
      "cell_type": "code",
      "source": [
        "Test_Labels.shape"
      ],
      "metadata": {
        "colab": {
          "base_uri": "https://localhost:8080/"
        },
        "id": "bnEUlHETaxjq",
        "outputId": "4c020777-490c-40a1-a3d7-90b46098e5a7"
      },
      "execution_count": null,
      "outputs": [
        {
          "output_type": "execute_result",
          "data": {
            "text/plain": [
              "(300,)"
            ]
          },
          "metadata": {},
          "execution_count": 49
        }
      ]
    },
    {
      "cell_type": "code",
      "source": [
        "test_decoder = build_decoder(with_labels=False, target_size=(256, 256))\n",
        "\n",
        "dtest = build_dataset(\n",
        "    imagePath_test, bsize=BATCH_SIZE, repeat=False,\n",
        "    shuffle=False, augment=False, cache=False,\n",
        "    decode_fn=test_decoder\n",
        ")"
      ],
      "metadata": {
        "id": "py8AfmiNJMTh"
      },
      "execution_count": null,
      "outputs": []
    },
    {
      "cell_type": "code",
      "source": [
        "test_Baseline_results = Savedmodel.predict(dtest,batch_size=16, verbose=0)"
      ],
      "metadata": {
        "id": "vaDtOAAZc5Ck"
      },
      "execution_count": null,
      "outputs": []
    },
    {
      "cell_type": "code",
      "source": [
        "def plot_roc(name, labels, predictions):\n",
        "  fp, tp, _ = sklearn.metrics.roc_curve(labels, predictions)\n",
        "  auc = round(metrics.auc(fp, tp),3)\n",
        "\n",
        "  plt.figure(figsize=(8, 8))\n",
        "  plt.plot(100*fp, 100*tp, label=name+\" = \" +str(auc), linewidth=2)\n",
        "  plt.xlabel('False positives [%]')\n",
        "  plt.ylabel('True positives [%]')\n",
        "  plt.grid(True)\n",
        "  plt.title(\"ROC Curve\")\n",
        "  ax = plt.gca()\n",
        "  ax.set_aspect('equal')\n",
        "\n",
        "#Plotting the ROC Curve on Test Dataset:\n",
        "plot_roc(\"Test Baseline\", Test_Labels, test_Baseline_results)\n",
        "plt.legend(loc='lower right')"
      ],
      "metadata": {
        "colab": {
          "base_uri": "https://localhost:8080/",
          "height": 530
        },
        "id": "KY20nbJFddmL",
        "outputId": "45c1089f-f078-47ae-fc63-8c7cded805ad"
      },
      "execution_count": null,
      "outputs": [
        {
          "output_type": "execute_result",
          "data": {
            "text/plain": [
              "<matplotlib.legend.Legend at 0x7f13100c9450>"
            ]
          },
          "metadata": {},
          "execution_count": 52
        },
        {
          "output_type": "display_data",
          "data": {
            "text/plain": [
              "<Figure size 576x576 with 1 Axes>"
            ],
            "image/png": "[encoded data removed]"
          },
          "metadata": {
            "needs_background": "light"
          }
        }
      ]
    },
    {
      "cell_type": "code",
      "source": [
        "def plot_cm(labels, predictions, p=0.5):\n",
        "  cm = confusion_matrix(labels, predictions > p)\n",
        "  plt.figure(figsize=(5,5))\n",
        "  sns.heatmap(cm, annot=True, fmt=\"d\")\n",
        "  plt.title('Confusion matrix {:.1f}'.format(p))\n",
        "  plt.ylabel('Actual label')\n",
        "  plt.xlabel('Predicted label')\n",
        "\n",
        "  tn = cm[0][0]\n",
        "  fn = cm[1][0]\n",
        "  fp = cm[0][1]\n",
        "  tp = cm[1][1]\n",
        "\n",
        "  #print('Total Records Detected : ', labels.shape[0])\n",
        "  #print('Total Pneumothorax Cases : ', np.sum(cm[1]))\n",
        "  return tn,fn,fp,tp,sensitivity,specificity,accuracy,PPV,NPV\n",
        "\n",
        "tn,fn,fp,tp,sensitivity,specificity,accuracy,PPV,NPV = plot_cm(Test_Labels, test_Baseline_results)"
      ],
      "metadata": {
        "colab": {
          "base_uri": "https://localhost:8080/",
          "height": 350
        },
        "id": "-cRtr3uOeGTN",
        "outputId": "84587c30-aad5-49d6-e87e-96d7aca0d00e"
      },
      "execution_count": null,
      "outputs": [
        {
          "output_type": "display_data",
          "data": {
            "text/plain": [
              "<Figure size 360x360 with 2 Axes>"
            ],
            "image/png": "[encoded data removed]"
          },
          "metadata": {
            "needs_background": "light"
          }
        }
      ]
    },
    {
      "cell_type": "code",
      "source": [
        "sensitivity = round((tp/(tp+fn)),3)\n",
        "specificity = round((tn/(tn+fp)),3)\n",
        "accuracy = round(((tp + tn)/(tp+tn+fp+fn)),3)\n",
        "PPV = round((tp/(tp + fp)),3)\n",
        "NPV = round((tn/(tn + fn)),3)\n",
        "print(\"=====================================\")\n",
        "print('True Negatives : ', tn)\n",
        "print('False Positives : ', fp)\n",
        "print('False Negatives : ', fn)\n",
        "print('True Positives : ', tp)\n",
        "print(\"=====================================\")\n",
        "print('Accuracy : ', accuracy)\n",
        "print('PPV : ', PPV)\n",
        "print('NPV : ', NPV)\n",
        "print('Sensitivity : ', sensitivity)\n",
        "print('Specificity : ', specificity)\n",
        "print(\"=====================================\")"
      ],
      "metadata": {
        "colab": {
          "base_uri": "https://localhost:8080/",
          "height": 252
        },
        "id": "YX5h5HUUC3tB",
        "outputId": "061b3f51-6b69-4312-f48c-ab8771b97cbc"
      },
      "execution_count": null,
      "outputs": [
        {
          "output_type": "stream",
          "name": "stdout",
          "text": [
            "Total Records Detected :  12047\n"
          ]
        },
        {
          "output_type": "error",
          "ename": "NameError",
          "evalue": "ignored",
          "traceback": [
            "\u001b[0;31m---------------------------------------------------------------------------\u001b[0m",
            "\u001b[0;31mNameError\u001b[0m                                 Traceback (most recent call last)",
            "\u001b[0;32m<ipython-input-59-625495fa472c>\u001b[0m in \u001b[0;36m<module>\u001b[0;34m()\u001b[0m\n\u001b[1;32m      5\u001b[0m \u001b[0mNPV\u001b[0m \u001b[0;34m=\u001b[0m \u001b[0mround\u001b[0m\u001b[0;34m(\u001b[0m\u001b[0;34m(\u001b[0m\u001b[0mtn\u001b[0m\u001b[0;34m/\u001b[0m\u001b[0;34m(\u001b[0m\u001b[0mtn\u001b[0m \u001b[0;34m+\u001b[0m \u001b[0mfn\u001b[0m\u001b[0;34m)\u001b[0m\u001b[0;34m)\u001b[0m\u001b[0;34m,\u001b[0m\u001b[0;36m3\u001b[0m\u001b[0;34m)\u001b[0m\u001b[0;34m\u001b[0m\u001b[0;34m\u001b[0m\u001b[0m\n\u001b[1;32m      6\u001b[0m \u001b[0mprint\u001b[0m\u001b[0;34m(\u001b[0m\u001b[0;34m'Total Records Detected : '\u001b[0m\u001b[0;34m,\u001b[0m \u001b[0mlabels\u001b[0m\u001b[0;34m.\u001b[0m\u001b[0mshape\u001b[0m\u001b[0;34m[\u001b[0m\u001b[0;36m0\u001b[0m\u001b[0;34m]\u001b[0m\u001b[0;34m)\u001b[0m\u001b[0;34m\u001b[0m\u001b[0;34m\u001b[0m\u001b[0m\n\u001b[0;32m----> 7\u001b[0;31m \u001b[0mprint\u001b[0m\u001b[0;34m(\u001b[0m\u001b[0;34m'Total Pneumothorax Cases : '\u001b[0m\u001b[0;34m,\u001b[0m \u001b[0mnp\u001b[0m\u001b[0;34m.\u001b[0m\u001b[0msum\u001b[0m\u001b[0;34m(\u001b[0m\u001b[0mcm\u001b[0m\u001b[0;34m[\u001b[0m\u001b[0;36m1\u001b[0m\u001b[0;34m]\u001b[0m\u001b[0;34m)\u001b[0m\u001b[0;34m)\u001b[0m\u001b[0;34m\u001b[0m\u001b[0;34m\u001b[0m\u001b[0m\n\u001b[0m\u001b[1;32m      8\u001b[0m \u001b[0mprint\u001b[0m\u001b[0;34m(\u001b[0m\u001b[0;34m\"=====================================\"\u001b[0m\u001b[0;34m)\u001b[0m\u001b[0;34m\u001b[0m\u001b[0;34m\u001b[0m\u001b[0m\n\u001b[1;32m      9\u001b[0m \u001b[0mprint\u001b[0m\u001b[0;34m(\u001b[0m\u001b[0;34m'True Negatives : '\u001b[0m\u001b[0;34m,\u001b[0m \u001b[0mtn\u001b[0m\u001b[0;34m)\u001b[0m\u001b[0;34m\u001b[0m\u001b[0;34m\u001b[0m\u001b[0m\n",
            "\u001b[0;31mNameError\u001b[0m: name 'cm' is not defined"
          ]
        }
      ]
    },
    {
      "cell_type": "code",
      "source": [
        "def plot_precision_recall_curve(name, labels, predictions):\n",
        "\n",
        "  class_precision, class_recall, _ = precision_recall_curve(labels, predictions)\n",
        "  average_precision = round((average_precision_score(labels, predictions)),3)\n",
        "\n",
        "  plt.figure(figsize=(8, 8))\n",
        "  plt.plot(100*class_recall, 100*class_precision, label=name +\" = \"+ str(average_precision), linewidth=2)\n",
        "  plt.xlabel('Recall [%]')\n",
        "  plt.ylabel('Precision [%]')\n",
        "  #plt.xlim([-0.5,20])\n",
        "  #plt.ylim([80,100.5])\n",
        "  plt.grid(True)\n",
        "  plt.legend()\n",
        "  plt.title(\"Precision-Recalll Curve\")\n",
        "  ax = plt.gca()\n",
        "  ax.set_aspect('equal')"
      ],
      "metadata": {
        "id": "lsTuXyfWeF7e"
      },
      "execution_count": null,
      "outputs": []
    },
    {
      "cell_type": "code",
      "source": [
        "plot_precision_recall_curve(\"CV Baseline\", Test_Labels, test_Baseline_results)"
      ],
      "metadata": {
        "colab": {
          "base_uri": "https://localhost:8080/",
          "height": 415
        },
        "id": "RA2JWAZJeFhV",
        "outputId": "bc167180-60e9-43db-f07b-7476ac7c4ffb"
      },
      "execution_count": null,
      "outputs": [
        {
          "output_type": "display_data",
          "data": {
            "text/plain": [
              "<Figure size 576x576 with 1 Axes>"
            ],
            "image/png": "[encoded data removed]"
          },
          "metadata": {
            "needs_background": "light"
          }
        }
      ]
    },
    {
      "cell_type": "markdown",
      "source": [
        "SAMPLE"
      ],
      "metadata": {
        "id": "dQ9-D9twZpgr"
      }
    },
    {
      "cell_type": "code",
      "source": [
        "! pip install pydicom"
      ],
      "metadata": {
        "id": "WswSvECGjbQo"
      },
      "execution_count": null,
      "outputs": []
    },
    {
      "cell_type": "code",
      "source": [
        "import pydicom as dicom\n",
        "import os\n",
        "import cv2\n",
        "\n",
        "os.chdir('/content/drive/MyDrive/Deep Learning Project/Navesha Palmer/Data')\n",
        "\n",
        "folder_path = '/content/drive/MyDrive/Deep Learning Project/Navesha Palmer/Data/CXR2'\n",
        "\n",
        "png1_folder_path = '/content/drive/MyDrive/Deep Learning Project/Navesha Palmer/Data/Png_CXR2'\n",
        "\n",
        "PNG = True\n",
        "\n",
        "if not os.path.exists(png1_folder_path):\n",
        "    os.mkdir(png1_folder_path)\n",
        "\n",
        "images_path = os.listdir(folder_path)\n",
        "for n, image in enumerate(images_path):\n",
        "    ds = dicom.dcmread(os.path.join(folder_path, image))\n",
        "    pixel_array_numpy = ds.pixel_array\n",
        "    if PNG == True:\n",
        "        image = image.replace('.dcm', '.png')\n",
        "    else:\n",
        "        image = image.replace('.dcm', '.jpg')\n",
        "    cv2.imwrite(os.path.join(png1_folder_path, image), pixel_array_numpy)\n",
        "    if n % 50 == 0:\n",
        "        print('{} image converted'.format(n))"
      ],
      "metadata": {
        "colab": {
          "base_uri": "https://localhost:8080/"
        },
        "id": "zFNrOrzMiXEu",
        "outputId": "e07e975f-a86f-4bec-9fd9-b909732d6aac"
      },
      "execution_count": null,
      "outputs": [
        {
          "output_type": "stream",
          "name": "stdout",
          "text": [
            "0 image converted\n"
          ]
        }
      ]
    },
    {
      "cell_type": "code",
      "source": [
        "sample_df = pd.read_excel('/content/drive/MyDrive/Deep Learning Project/Navesha Palmer/Data/Files/Sample Results.xlsx')"
      ],
      "metadata": {
        "id": "xzzm2SiwZm7D"
      },
      "execution_count": null,
      "outputs": []
    },
    {
      "cell_type": "code",
      "source": [
        "path = '/content/drive/MyDrive/Deep Learning Project/Navesha Palmer/Data/CXR2'"
      ],
      "metadata": {
        "id": "2rEGi7D9btpP"
      },
      "execution_count": null,
      "outputs": []
    },
    {
      "cell_type": "code",
      "source": [
        "file_name = []\n",
        "for file in os.listdir(path):\n",
        "  file_name.append(file)\n",
        "file_name[:5]"
      ],
      "metadata": {
        "id": "Ha0YTCzfcip3"
      },
      "execution_count": null,
      "outputs": []
    },
    {
      "cell_type": "code",
      "source": [
        "sample_df['Image_ID'] = file_name"
      ],
      "metadata": {
        "id": "5tr4s6bsdjEa"
      },
      "execution_count": null,
      "outputs": []
    },
    {
      "cell_type": "code",
      "source": [
        "Image_path = []\n",
        "for file in os.listdir(path):\n",
        "  file_path = path + '/' + file\n",
        "  Image_path.append(file_path)\n",
        "Image_path"
      ],
      "metadata": {
        "id": "H6gJnSLaeN_C"
      },
      "execution_count": null,
      "outputs": []
    },
    {
      "cell_type": "code",
      "source": [
        "sample_df['Image_Path'] = Image_path\n",
        "Image_path = sample_df['Image_Path']"
      ],
      "metadata": {
        "id": "7dFpfTY4feui"
      },
      "execution_count": null,
      "outputs": []
    },
    {
      "cell_type": "code",
      "source": [
        "BATCH_SIZE = 16\n",
        "test_decoder = build_decoder(with_labels=False, target_size=(256, 256))\n",
        "\n",
        "dtest = build_dataset(\n",
        "    Image_path , bsize=BATCH_SIZE, repeat=False,\n",
        "    shuffle=False, augment=False, cache=False,\n",
        "    decode_fn=test_decoder\n",
        ")"
      ],
      "metadata": {
        "id": "oYko7SzYf6Ah"
      },
      "execution_count": null,
      "outputs": []
    },
    {
      "cell_type": "code",
      "source": [
        "Savedmodel=load_model('/content/drive/MyDrive/Deep Learning Project/Navesha Palmer/Code/FinalNet.h5')"
      ],
      "metadata": {
        "id": "Y5Wuv-SmhmdE"
      },
      "execution_count": null,
      "outputs": []
    },
    {
      "cell_type": "code",
      "source": [
        "from tensorflow.keras.models import load_model\n",
        "\n",
        "Sample_results = Savedmodel.predict(dtest,batch_size=16, verbose=0)"
      ],
      "metadata": {
        "id": "t2n5dJq8hVgZ"
      },
      "execution_count": null,
      "outputs": []
    }
  ]
}