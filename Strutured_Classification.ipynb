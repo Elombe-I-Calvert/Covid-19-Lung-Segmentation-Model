{
  "nbformat": 4,
  "nbformat_minor": 0,
  "metadata": {
    "colab": {
      "provenance": []
    },
    "kernelspec": {
      "name": "python3",
      "display_name": "Python 3"
    },
    "language_info": {
      "name": "python"
    }
  },
  "cells": [
    {
      "cell_type": "code",
      "execution_count": null,
      "metadata": {
        "id": "bRM-2v1LpbiO"
      },
      "outputs": [],
      "source": [
        "from google.colab import drive\n",
        "drive.mount(\"/content/drive\")"
      ]
    },
    {
      "cell_type": "code",
      "source": [
        "import numpy as np\n",
        "import pandas as pd\n",
        "import os\n",
        "import cv2\n",
        "import matplotlib.pyplot as plt\n",
        "import pickle\n",
        "\n",
        "from collections import ChainMap\n",
        "from keras.utils.np_utils import to_categorical\n",
        "from keras.models import load_model\n",
        "from keras import Sequential\n",
        "from keras import optimizers\n",
        "from keras.layers import Conv2D,MaxPooling2D,Flatten,Softmax,Activation,Dense\n",
        "from keras.layers import Input, Dropout, Lambda, Dot, Dense\n",
        "from keras.models import Model\n",
        "from keras.regularizers import l2\n",
        "from keras.callbacks import Callback,ModelCheckpoint\n",
        "\n",
        "from sklearn.linear_model import LogisticRegressionCV\n",
        "from sklearn.model_selection import StratifiedKFold\n",
        "from sklearn.metrics import roc_auc_score\n",
        "from sklearn.metrics import roc_curve\n",
        "from sklearn.metrics import roc_curve,roc_auc_score,accuracy_score\n",
        "from tensorflow import keras\n",
        "import tensorflow as tf"
      ],
      "metadata": {
        "id": "O7LbzQwtfaxK"
      },
      "execution_count": null,
      "outputs": []
    },
    {
      "cell_type": "code",
      "source": [
        "def is_number(s):\n",
        "    try:\n",
        "        float(s)\n",
        "        return True\n",
        "    except ValueError:\n",
        "        pass\n",
        "    try:\n",
        "        import unicodedata\n",
        "        unicodedata.numeric(s)\n",
        "        return True\n",
        "    except (TypeError, ValueError):\n",
        "        pass\n",
        "    return False"
      ],
      "metadata": {
        "id": "nFTOQWAqvR6V"
      },
      "execution_count": null,
      "outputs": []
    },
    {
      "cell_type": "code",
      "source": [
        "def nom(file):\n",
        "    w = open('/content/drive/MyDrive/Deep Learning Project/Pilot Capstone/Diag_Normalized.txt', 'w', encoding='utf-8')\n",
        "    f = open(file, 'r')\n",
        "    list1 = f.readline().rstrip('\\r\\n').split('\\t')\n",
        "    w.write('\\t'.join(list1) + '\\n')\n",
        "    list2 = f.readline().rstrip('\\r\\n').split('\\t')\n",
        "    w.write('\\t'.join(list2) + '\\n')\n",
        "    list3 = f.readline().rstrip('\\r\\n').split('\\t')\n",
        "    w.write('\\t'.join(list3) + '\\n')\n",
        "    list3 = list3[1:]\n",
        "    dic={}\n",
        "    for l in f:\n",
        "        sp = l.rstrip('\\r\\n').split('\\t')\n",
        "        dic[sp[0]] = sp\n",
        "    for key in dic:\n",
        "        flist = []\n",
        "        sex = ['Male', 'Female']\n",
        "        for i, ft in enumerate(dic[key][1:]):\n",
        "            if i == 0:\n",
        "              flist.append(ft)\n",
        "            if i == 1:\n",
        "               flist.append(sex.index(ft))\n",
        "            if i == 2:\n",
        "                if is_number(ft):\n",
        "                  flist.append(float(ft) / 37.2)\n",
        "                else:\n",
        "                  flist.append(1)\n",
        "            if i == 3:\n",
        "                if ft in ['No underlying disease']:\n",
        "                  flist.append(0)\n",
        "                else:\n",
        "                  flist.append(1)\n",
        "            if i > 3:\n",
        "                if '-' in list3[i]:\n",
        "                    max = float(list3[i].split(' ')[0].split('-')[1])\n",
        "                    min = float(list3[i].split(' ')[0].split('-')[0])\n",
        "                elif '<' in list3[i]:\n",
        "                    max = float(list3[i].split(' ')[0].split('<')[1])\n",
        "                    min = 0\n",
        "                ft = ft.replace('>', '').replace('<', '')\n",
        "                if is_number(ft):\n",
        "                  flist.append((float(ft) - min) / (max - min))\n",
        "                else:\n",
        "                  flist.append(0.5)\n",
        "        w.write(key  + '\\t' + '\\t'.join(str(e) for e in flist) + '\\n')\n"
      ],
      "metadata": {
        "id": "-23nxRG8rorT"
      },
      "execution_count": null,
      "outputs": []
    },
    {
      "cell_type": "code",
      "source": [
        "files = \"/content/drive/MyDrive/Deep Learning Project/Pilot Capstone/prenorm_diag.txt\""
      ],
      "metadata": {
        "id": "D68yajq5qZXF"
      },
      "execution_count": null,
      "outputs": []
    },
    {
      "cell_type": "code",
      "source": [
        "nom(files)"
      ],
      "metadata": {
        "id": "90H_H_2mb0yi"
      },
      "execution_count": null,
      "outputs": []
    },
    {
      "cell_type": "code",
      "source": [
        "norm_diag_file = pd.read_csv(\"/content/drive/MyDrive/Deep Learning Project/Pilot Capstone/Diag_Normalized.txt\", delimiter = \"\\t\").drop([0,1]).reset_index(drop=True)"
      ],
      "metadata": {
        "id": "XSiuHLogsBgH"
      },
      "execution_count": null,
      "outputs": []
    },
    {
      "cell_type": "code",
      "source": [
        "norm_diag_file"
      ],
      "metadata": {
        "id": "rGxHcb1Fzj4-"
      },
      "execution_count": null,
      "outputs": []
    },
    {
      "cell_type": "code",
      "source": [
        "array = ['Patient 1', 'Patient 2', 'Patient 3', 'Patient 4', 'Patient 5', 'Patient 115', 'Patient 117', 'Patient 121', 'Patient 126']\n",
        "X_list = norm_diag_file.loc[norm_diag_file ['Patient'].isin(array)]"
      ],
      "metadata": {
        "id": "wzUv7vKayyRa"
      },
      "execution_count": null,
      "outputs": []
    },
    {
      "cell_type": "code",
      "source": [
        "X = norm_diag_file.iloc[:,1:]\n",
        "X"
      ],
      "metadata": {
        "id": "dGblBs4S8Dkd"
      },
      "execution_count": null,
      "outputs": []
    },
    {
      "cell_type": "code",
      "source": [
        "X = X.values.astype(float)\n"
      ],
      "metadata": {
        "id": "GADOax-ph35h"
      },
      "execution_count": null,
      "outputs": []
    },
    {
      "cell_type": "code",
      "source": [
        "X.shape"
      ],
      "metadata": {
        "colab": {
          "base_uri": "https://localhost:8080/"
        },
        "id": "BQSAQ7nCz-2n",
        "outputId": "656f5db5-190f-4636-d596-8b28fd109121"
      },
      "execution_count": null,
      "outputs": [
        {
          "output_type": "execute_result",
          "data": {
            "text/plain": [
              "(1521, 127)"
            ]
          },
          "metadata": {},
          "execution_count": 135
        }
      ]
    },
    {
      "cell_type": "markdown",
      "source": [
        "************************"
      ],
      "metadata": {
        "id": "otsRMHxMPovX"
      }
    },
    {
      "cell_type": "code",
      "source": [
        "dfy = pd.read_csv('/content/drive/MyDrive/Deep Learning Project/Pilot Capstone/ppcleancovid.csv')"
      ],
      "metadata": {
        "id": "o9C5lAa0vD7O"
      },
      "execution_count": null,
      "outputs": []
    },
    {
      "cell_type": "code",
      "source": [
        "dfy[\"SARS-CoV-2 nucleic acids\"].unique()"
      ],
      "metadata": {
        "id": "1meW4SdsLqJo"
      },
      "execution_count": null,
      "outputs": []
    },
    {
      "cell_type": "code",
      "source": [
        "y = list(dfy[\"SARS-CoV-2 nucleic acids\"])"
      ],
      "metadata": {
        "id": "D6Xn4P7BPFCK"
      },
      "execution_count": null,
      "outputs": []
    },
    {
      "cell_type": "code",
      "source": [
        "y_list = list()\n",
        "for i in y:\n",
        "  if i == \"Positive\":\n",
        "    i = 1\n",
        "    y_list.append(i)\n",
        "  else:\n",
        "    i = 0\n",
        "    y_list.append(i)\n",
        "y = y_list"
      ],
      "metadata": {
        "id": "5m3qiaB4P0jX"
      },
      "execution_count": null,
      "outputs": []
    },
    {
      "cell_type": "markdown",
      "source": [
        "array = ['Patient 1', 'Patient 2', 'Patient 3', 'Patient 4', 'Patient 5', 'Patient 115', 'Patient 117', 'Patient 121', 'Patient 126']\n",
        "dfy.loc[dfy['Patient'].isin(array)]\n",
        "y = [1, 1, 1, 1, 1, 0, 0, 0, 0]"
      ],
      "metadata": {
        "id": "eix_Zck7von1"
      }
    },
    {
      "cell_type": "code",
      "source": [
        "Skf=StratifiedKFold(n_splits=10,shuffle=True)"
      ],
      "metadata": {
        "id": "KYKTfKlkyFsZ"
      },
      "execution_count": null,
      "outputs": []
    },
    {
      "cell_type": "code",
      "source": [
        "for train, val in Skf.split(X, y):\n",
        "    print(\"TRAIN:\", train, \"TEST:\", val)"
      ],
      "metadata": {
        "id": "pc2A49GEyN-x"
      },
      "execution_count": null,
      "outputs": []
    },
    {
      "cell_type": "code",
      "source": [
        "X_train=X[train]\n",
        "X_val=X[val]\n",
        "\n",
        "y_train=to_categorical(np.array(y)[train])\n",
        "y_val=to_categorical(np.array(y)[val])"
      ],
      "metadata": {
        "id": "W0wMXeLJ0S8j"
      },
      "execution_count": null,
      "outputs": []
    },
    {
      "cell_type": "code",
      "source": [
        "def DNN_Simple(shape):\n",
        "    X_in = Input(shape=(shape,))\n",
        "    H2 = Dense(128, activation='relu', kernel_regularizer=l2(5e-4))(X_in)\n",
        "    H3 = Dropout(0.5)(H2)\n",
        "    H4 = Dense(64, activation='relu', kernel_regularizer=l2(5e-4))(H3)\n",
        "    H5 = Dropout(0.2)(H4)\n",
        "    H6 = Dense(64, activation='relu', kernel_regularizer=l2(5e-4))(H5)\n",
        "    H7 = Dropout(0.2)(H6)\n",
        "    H8 = Dense(48, activation='relu', kernel_regularizer=l2(5e-4))(H7)\n",
        "    H9 = Dropout(0.2)(H8)\n",
        "    H10 = Dense(16, activation='relu', kernel_regularizer=l2(5e-4))(H9)\n",
        "    H11 = Dropout(0.5)(H10)\n",
        "    Y = Dense(2, activation='sigmoid')(H11)\n",
        "    model = Model(inputs=X_in, outputs=Y)\n",
        "    model.compile(optimizer=tf.optimizers.Adam(decay=0.01),loss='binary_crossentropy'\n",
        "                  ,metrics=['accuracy'])\n",
        "    return model"
      ],
      "metadata": {
        "id": "5ZRSUqORfPK_"
      },
      "execution_count": null,
      "outputs": []
    },
    {
      "cell_type": "code",
      "source": [
        "shape  = X_train.shape[1]\n",
        "model  = DNN_Simple(shape)\n",
        "model.summary()"
      ],
      "metadata": {
        "id": "hTLaK3WHgAvH"
      },
      "execution_count": null,
      "outputs": []
    },
    {
      "cell_type": "code",
      "source": [
        "history = model.fit(X_train, y_train, epochs=2000, batch_size=64, class_weight = None, validation_data=(X_val, y_val), verbose=1)\n",
        ""
      ],
      "metadata": {
        "id": "LMByEmc11gyJ"
      },
      "execution_count": null,
      "outputs": []
    },
    {
      "cell_type": "code",
      "source": [
        "model.save('/content/drive/MyDrive/Deep Learning Project/Pilot Capstone/Created Models/CT Slice Prediction/struc_class_model.h5')\n",
        "np.save('/content/drive/MyDrive/Deep Learning Project/Pilot Capstone/Created Models/CT Slice Prediction/struc_class_history.npy',history.history)"
      ],
      "metadata": {
        "id": "sPAKqVLbVpAB"
      },
      "execution_count": null,
      "outputs": []
    },
    {
      "cell_type": "code",
      "source": [
        "model2 = load_model('/content/drive/MyDrive/Deep Learning Project/Pilot Capstone/Created Models/CT Slice Prediction/struc_class_model.h5')"
      ],
      "metadata": {
        "id": "JHuFaIuJV0Pi"
      },
      "execution_count": null,
      "outputs": []
    },
    {
      "cell_type": "markdown",
      "source": [
        "array = ['Patient 1', 'Patient 2', 'Patient 3', 'Patient 4', 'Patient 5', 'Patient 115', 'Patient 117', 'Patient 121', 'Patient 126']\n",
        "CF_X = norm_diag_file.loc[norm_diag_file ['Patient'].isin(array)]\n",
        "CF_X =CF_X.iloc[:,1:].values.astype(float)\n"
      ],
      "metadata": {
        "id": "1TRUJBrHb6di"
      }
    },
    {
      "cell_type": "markdown",
      "source": [
        "patient_list = norm_diag_file.loc[norm_diag_file ['Patient'].isin(array)]\n",
        "patient_list  = list(patient_list.iloc[:,0])"
      ],
      "metadata": {
        "id": "Pl8TVebTdM7a"
      }
    },
    {
      "cell_type": "markdown",
      "source": [
        "CF_y = model2.predict(CF_X)"
      ],
      "metadata": {
        "id": "Qwm-Vj6bcCma"
      }
    },
    {
      "cell_type": "code",
      "source": [
        "df_CT_Predit =pd.DataFrame({'Patient':patient_list,'0':CF_y[:,0],'1':CF_y[:,1]})\n",
        "df_CT_Predit.to_csv(r'/content/drive/MyDrive/Deep Learning Project/Pilot Capstone/Created Models/CT Slice Prediction/struc_class_Predict.csv',sep='\\t',index=None)"
      ],
      "metadata": {
        "id": "yNJSbc6Qc4Gk"
      },
      "execution_count": null,
      "outputs": []
    },
    {
      "cell_type": "code",
      "source": [
        "import pandas as pd\n",
        "\n",
        "df2 = pd.read_csv('/content/drive/MyDrive/Deep Learning Project/Pilot Capstone/Created Models/CT Slice Prediction/struc_class_Predict.csv')"
      ],
      "metadata": {
        "id": "NDcbNVePYX8d"
      },
      "execution_count": null,
      "outputs": []
    }
  ]
}