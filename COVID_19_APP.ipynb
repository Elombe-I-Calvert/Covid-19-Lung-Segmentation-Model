{
  "nbformat": 4,
  "nbformat_minor": 0,
  "metadata": {
    "colab": {
      "provenance": []
    },
    "kernelspec": {
      "name": "python3",
      "display_name": "Python 3"
    },
    "language_info": {
      "name": "python"
    }
  },
  "cells": [
    {
      "cell_type": "code",
      "source": [
        "from google.colab import drive\n",
        "drive.mount(\"/content/user\")"
      ],
      "metadata": {
        "colab": {
          "base_uri": "https://localhost:8080/"
        },
        "id": "5jO4goeoMhlm",
        "outputId": "ffbff87c-b414-4474-a6e9-070a29a6d8b8"
      },
      "execution_count": null,
      "outputs": [
        {
          "output_type": "stream",
          "name": "stdout",
          "text": [
            "Mounted at /content/user\n"
          ]
        }
      ]
    },
    {
      "cell_type": "code",
      "execution_count": null,
      "metadata": {
        "id": "CopPmNwvLGHa",
        "outputId": "2eadd92c-636e-4edd-c234-c29327170517",
        "colab": {
          "base_uri": "https://localhost:8080/"
        }
      },
      "outputs": [
        {
          "output_type": "stream",
          "name": "stdout",
          "text": [
            "Looking in indexes: https://pypi.org/simple, https://us-python.pkg.dev/colab-wheels/public/simple/\n",
            "Collecting streamlit\n",
            "  Downloading streamlit-1.13.0-py2.py3-none-any.whl (9.2 MB)\n",
            "\u001b[K     |████████████████████████████████| 9.2 MB 23.5 MB/s \n",
            "\u001b[?25hRequirement already satisfied: cachetools>=4.0 in /usr/local/lib/python3.7/dist-packages (from streamlit) (4.2.4)\n",
            "Collecting rich>=10.11.0\n",
            "  Downloading rich-12.6.0-py3-none-any.whl (237 kB)\n",
            "\u001b[K     |████████████████████████████████| 237 kB 95.6 MB/s \n",
            "\u001b[?25hRequirement already satisfied: typing-extensions>=3.10.0.0 in /usr/local/lib/python3.7/dist-packages (from streamlit) (4.1.1)\n",
            "Collecting validators>=0.2\n",
            "  Downloading validators-0.20.0.tar.gz (30 kB)\n",
            "Collecting semver\n",
            "  Downloading semver-2.13.0-py2.py3-none-any.whl (12 kB)\n",
            "Requirement already satisfied: toml in /usr/local/lib/python3.7/dist-packages (from streamlit) (0.10.2)\n",
            "Collecting pydeck>=0.1.dev5\n",
            "  Downloading pydeck-0.8.0b4-py2.py3-none-any.whl (4.7 MB)\n",
            "\u001b[K     |████████████████████████████████| 4.7 MB 64.8 MB/s \n",
            "\u001b[?25hRequirement already satisfied: tzlocal>=1.1 in /usr/local/lib/python3.7/dist-packages (from streamlit) (1.5.1)\n",
            "Collecting watchdog\n",
            "  Downloading watchdog-2.1.9-py3-none-manylinux2014_x86_64.whl (78 kB)\n",
            "\u001b[K     |████████████████████████████████| 78 kB 8.5 MB/s \n",
            "\u001b[?25hRequirement already satisfied: pandas>=0.21.0 in /usr/local/lib/python3.7/dist-packages (from streamlit) (1.3.5)\n",
            "Requirement already satisfied: protobuf!=3.20.2,<4,>=3.12 in /usr/local/lib/python3.7/dist-packages (from streamlit) (3.17.3)\n",
            "Requirement already satisfied: python-dateutil in /usr/local/lib/python3.7/dist-packages (from streamlit) (2.8.2)\n",
            "Requirement already satisfied: click>=7.0 in /usr/local/lib/python3.7/dist-packages (from streamlit) (7.1.2)\n",
            "Requirement already satisfied: altair>=3.2.0 in /usr/local/lib/python3.7/dist-packages (from streamlit) (4.2.0)\n",
            "Requirement already satisfied: pillow>=6.2.0 in /usr/local/lib/python3.7/dist-packages (from streamlit) (7.1.2)\n",
            "Requirement already satisfied: packaging>=14.1 in /usr/local/lib/python3.7/dist-packages (from streamlit) (21.3)\n",
            "Requirement already satisfied: requests>=2.4 in /usr/local/lib/python3.7/dist-packages (from streamlit) (2.23.0)\n",
            "Requirement already satisfied: tornado>=5.0 in /usr/local/lib/python3.7/dist-packages (from streamlit) (5.1.1)\n",
            "Requirement already satisfied: importlib-metadata>=1.4 in /usr/local/lib/python3.7/dist-packages (from streamlit) (4.13.0)\n",
            "Collecting blinker>=1.0.0\n",
            "  Downloading blinker-1.5-py2.py3-none-any.whl (12 kB)\n",
            "Collecting gitpython!=3.1.19\n",
            "  Downloading GitPython-3.1.29-py3-none-any.whl (182 kB)\n",
            "\u001b[K     |████████████████████████████████| 182 kB 80.2 MB/s \n",
            "\u001b[?25hRequirement already satisfied: pyarrow>=4.0 in /usr/local/lib/python3.7/dist-packages (from streamlit) (6.0.1)\n",
            "Requirement already satisfied: numpy in /usr/local/lib/python3.7/dist-packages (from streamlit) (1.21.6)\n",
            "Collecting pympler>=0.9\n",
            "  Downloading Pympler-1.0.1-py3-none-any.whl (164 kB)\n",
            "\u001b[K     |████████████████████████████████| 164 kB 77.6 MB/s \n",
            "\u001b[?25hRequirement already satisfied: entrypoints in /usr/local/lib/python3.7/dist-packages (from altair>=3.2.0->streamlit) (0.4)\n",
            "Requirement already satisfied: toolz in /usr/local/lib/python3.7/dist-packages (from altair>=3.2.0->streamlit) (0.12.0)\n",
            "Requirement already satisfied: jsonschema>=3.0 in /usr/local/lib/python3.7/dist-packages (from altair>=3.2.0->streamlit) (4.3.3)\n",
            "Requirement already satisfied: jinja2 in /usr/local/lib/python3.7/dist-packages (from altair>=3.2.0->streamlit) (2.11.3)\n",
            "Collecting gitdb<5,>=4.0.1\n",
            "  Downloading gitdb-4.0.9-py3-none-any.whl (63 kB)\n",
            "\u001b[K     |████████████████████████████████| 63 kB 2.0 MB/s \n",
            "\u001b[?25hCollecting smmap<6,>=3.0.1\n",
            "  Downloading smmap-5.0.0-py3-none-any.whl (24 kB)\n",
            "Requirement already satisfied: zipp>=0.5 in /usr/local/lib/python3.7/dist-packages (from importlib-metadata>=1.4->streamlit) (3.9.0)\n",
            "Requirement already satisfied: importlib-resources>=1.4.0 in /usr/local/lib/python3.7/dist-packages (from jsonschema>=3.0->altair>=3.2.0->streamlit) (5.10.0)\n",
            "Requirement already satisfied: pyrsistent!=0.17.0,!=0.17.1,!=0.17.2,>=0.14.0 in /usr/local/lib/python3.7/dist-packages (from jsonschema>=3.0->altair>=3.2.0->streamlit) (0.18.1)\n",
            "Requirement already satisfied: attrs>=17.4.0 in /usr/local/lib/python3.7/dist-packages (from jsonschema>=3.0->altair>=3.2.0->streamlit) (22.1.0)\n",
            "Requirement already satisfied: pyparsing!=3.0.5,>=2.0.2 in /usr/local/lib/python3.7/dist-packages (from packaging>=14.1->streamlit) (3.0.9)\n",
            "Requirement already satisfied: pytz>=2017.3 in /usr/local/lib/python3.7/dist-packages (from pandas>=0.21.0->streamlit) (2022.4)\n",
            "Requirement already satisfied: six>=1.9 in /usr/local/lib/python3.7/dist-packages (from protobuf!=3.20.2,<4,>=3.12->streamlit) (1.15.0)\n",
            "Requirement already satisfied: MarkupSafe>=0.23 in /usr/local/lib/python3.7/dist-packages (from jinja2->altair>=3.2.0->streamlit) (2.0.1)\n",
            "Requirement already satisfied: chardet<4,>=3.0.2 in /usr/local/lib/python3.7/dist-packages (from requests>=2.4->streamlit) (3.0.4)\n",
            "Requirement already satisfied: certifi>=2017.4.17 in /usr/local/lib/python3.7/dist-packages (from requests>=2.4->streamlit) (2022.9.24)\n",
            "Requirement already satisfied: urllib3!=1.25.0,!=1.25.1,<1.26,>=1.21.1 in /usr/local/lib/python3.7/dist-packages (from requests>=2.4->streamlit) (1.24.3)\n",
            "Requirement already satisfied: idna<3,>=2.5 in /usr/local/lib/python3.7/dist-packages (from requests>=2.4->streamlit) (2.10)\n",
            "Collecting commonmark<0.10.0,>=0.9.0\n",
            "  Downloading commonmark-0.9.1-py2.py3-none-any.whl (51 kB)\n",
            "\u001b[K     |████████████████████████████████| 51 kB 9.1 MB/s \n",
            "\u001b[?25hRequirement already satisfied: pygments<3.0.0,>=2.6.0 in /usr/local/lib/python3.7/dist-packages (from rich>=10.11.0->streamlit) (2.6.1)\n",
            "Requirement already satisfied: decorator>=3.4.0 in /usr/local/lib/python3.7/dist-packages (from validators>=0.2->streamlit) (4.4.2)\n",
            "Building wheels for collected packages: validators\n",
            "  Building wheel for validators (setup.py) ... \u001b[?25l\u001b[?25hdone\n",
            "  Created wheel for validators: filename=validators-0.20.0-py3-none-any.whl size=19582 sha256=65fda9e887bca995d0159c95c163d0c6f4fd53e603d2d3a82a62fb3a81f7fda5\n",
            "  Stored in directory: /root/.cache/pip/wheels/5f/55/ab/36a76989f7f88d9ca7b1f68da6d94252bb6a8d6ad4f18e04e9\n",
            "Successfully built validators\n",
            "Installing collected packages: smmap, gitdb, commonmark, watchdog, validators, semver, rich, pympler, pydeck, gitpython, blinker, streamlit\n",
            "Successfully installed blinker-1.5 commonmark-0.9.1 gitdb-4.0.9 gitpython-3.1.29 pydeck-0.8.0b4 pympler-1.0.1 rich-12.6.0 semver-2.13.0 smmap-5.0.0 streamlit-1.13.0 validators-0.20.0 watchdog-2.1.9\n"
          ]
        }
      ],
      "source": [
        "!pip install streamlit"
      ]
    },
    {
      "cell_type": "code",
      "source": [
        "!pip install streamlit-authenticator"
      ],
      "metadata": {
        "id": "fej8HucSsmkL",
        "colab": {
          "base_uri": "https://localhost:8080/"
        },
        "outputId": "7de1dd9a-6d5f-47a2-9890-297e8b83d5dc"
      },
      "execution_count": null,
      "outputs": [
        {
          "output_type": "stream",
          "name": "stdout",
          "text": [
            "Looking in indexes: https://pypi.org/simple, https://us-python.pkg.dev/colab-wheels/public/simple/\n",
            "Collecting streamlit-authenticator\n",
            "  Downloading streamlit-authenticator-0.2.1.tar.gz (11 kB)\n",
            "Collecting PyJWT>=2.3.0\n",
            "  Downloading PyJWT-2.6.0-py3-none-any.whl (20 kB)\n",
            "Collecting bcrypt>=3.1.7\n",
            "  Downloading bcrypt-4.0.1-cp36-abi3-manylinux_2_24_x86_64.whl (593 kB)\n",
            "\u001b[K     |████████████████████████████████| 593 kB 43.8 MB/s \n",
            "\u001b[?25hRequirement already satisfied: PyYAML>=5.3.1 in /usr/local/lib/python3.7/dist-packages (from streamlit-authenticator) (6.0)\n",
            "Requirement already satisfied: streamlit>=0.86 in /usr/local/lib/python3.7/dist-packages (from streamlit-authenticator) (1.13.0)\n",
            "Collecting extra-streamlit-components>=0.1.55\n",
            "  Downloading extra_streamlit_components-0.1.56-py3-none-any.whl (4.4 MB)\n",
            "\u001b[K     |████████████████████████████████| 4.4 MB 71.7 MB/s \n",
            "\u001b[?25hRequirement already satisfied: pympler>=0.9 in /usr/local/lib/python3.7/dist-packages (from streamlit>=0.86->streamlit-authenticator) (1.0.1)\n",
            "Requirement already satisfied: packaging>=14.1 in /usr/local/lib/python3.7/dist-packages (from streamlit>=0.86->streamlit-authenticator) (21.3)\n",
            "Requirement already satisfied: pillow>=6.2.0 in /usr/local/lib/python3.7/dist-packages (from streamlit>=0.86->streamlit-authenticator) (7.1.2)\n",
            "Requirement already satisfied: toml in /usr/local/lib/python3.7/dist-packages (from streamlit>=0.86->streamlit-authenticator) (0.10.2)\n",
            "Requirement already satisfied: watchdog in /usr/local/lib/python3.7/dist-packages (from streamlit>=0.86->streamlit-authenticator) (2.1.9)\n",
            "Requirement already satisfied: semver in /usr/local/lib/python3.7/dist-packages (from streamlit>=0.86->streamlit-authenticator) (2.13.0)\n",
            "Requirement already satisfied: cachetools>=4.0 in /usr/local/lib/python3.7/dist-packages (from streamlit>=0.86->streamlit-authenticator) (4.2.4)\n",
            "Requirement already satisfied: pydeck>=0.1.dev5 in /usr/local/lib/python3.7/dist-packages (from streamlit>=0.86->streamlit-authenticator) (0.8.0b4)\n",
            "Requirement already satisfied: numpy in /usr/local/lib/python3.7/dist-packages (from streamlit>=0.86->streamlit-authenticator) (1.21.6)\n",
            "Requirement already satisfied: importlib-metadata>=1.4 in /usr/local/lib/python3.7/dist-packages (from streamlit>=0.86->streamlit-authenticator) (4.13.0)\n",
            "Requirement already satisfied: blinker>=1.0.0 in /usr/local/lib/python3.7/dist-packages (from streamlit>=0.86->streamlit-authenticator) (1.5)\n",
            "Requirement already satisfied: rich>=10.11.0 in /usr/local/lib/python3.7/dist-packages (from streamlit>=0.86->streamlit-authenticator) (12.6.0)\n",
            "Requirement already satisfied: tornado>=5.0 in /usr/local/lib/python3.7/dist-packages (from streamlit>=0.86->streamlit-authenticator) (5.1.1)\n",
            "Requirement already satisfied: validators>=0.2 in /usr/local/lib/python3.7/dist-packages (from streamlit>=0.86->streamlit-authenticator) (0.20.0)\n",
            "Requirement already satisfied: protobuf!=3.20.2,<4,>=3.12 in /usr/local/lib/python3.7/dist-packages (from streamlit>=0.86->streamlit-authenticator) (3.17.3)\n",
            "Requirement already satisfied: tzlocal>=1.1 in /usr/local/lib/python3.7/dist-packages (from streamlit>=0.86->streamlit-authenticator) (1.5.1)\n",
            "Requirement already satisfied: click>=7.0 in /usr/local/lib/python3.7/dist-packages (from streamlit>=0.86->streamlit-authenticator) (7.1.2)\n",
            "Requirement already satisfied: typing-extensions>=3.10.0.0 in /usr/local/lib/python3.7/dist-packages (from streamlit>=0.86->streamlit-authenticator) (4.1.1)\n",
            "Requirement already satisfied: gitpython!=3.1.19 in /usr/local/lib/python3.7/dist-packages (from streamlit>=0.86->streamlit-authenticator) (3.1.29)\n",
            "Requirement already satisfied: pandas>=0.21.0 in /usr/local/lib/python3.7/dist-packages (from streamlit>=0.86->streamlit-authenticator) (1.3.5)\n",
            "Requirement already satisfied: pyarrow>=4.0 in /usr/local/lib/python3.7/dist-packages (from streamlit>=0.86->streamlit-authenticator) (6.0.1)\n",
            "Requirement already satisfied: python-dateutil in /usr/local/lib/python3.7/dist-packages (from streamlit>=0.86->streamlit-authenticator) (2.8.2)\n",
            "Requirement already satisfied: altair>=3.2.0 in /usr/local/lib/python3.7/dist-packages (from streamlit>=0.86->streamlit-authenticator) (4.2.0)\n",
            "Requirement already satisfied: requests>=2.4 in /usr/local/lib/python3.7/dist-packages (from streamlit>=0.86->streamlit-authenticator) (2.23.0)\n",
            "Requirement already satisfied: toolz in /usr/local/lib/python3.7/dist-packages (from altair>=3.2.0->streamlit>=0.86->streamlit-authenticator) (0.12.0)\n",
            "Requirement already satisfied: jinja2 in /usr/local/lib/python3.7/dist-packages (from altair>=3.2.0->streamlit>=0.86->streamlit-authenticator) (2.11.3)\n",
            "Requirement already satisfied: entrypoints in /usr/local/lib/python3.7/dist-packages (from altair>=3.2.0->streamlit>=0.86->streamlit-authenticator) (0.4)\n",
            "Requirement already satisfied: jsonschema>=3.0 in /usr/local/lib/python3.7/dist-packages (from altair>=3.2.0->streamlit>=0.86->streamlit-authenticator) (4.3.3)\n",
            "Requirement already satisfied: gitdb<5,>=4.0.1 in /usr/local/lib/python3.7/dist-packages (from gitpython!=3.1.19->streamlit>=0.86->streamlit-authenticator) (4.0.9)\n",
            "Requirement already satisfied: smmap<6,>=3.0.1 in /usr/local/lib/python3.7/dist-packages (from gitdb<5,>=4.0.1->gitpython!=3.1.19->streamlit>=0.86->streamlit-authenticator) (5.0.0)\n",
            "Requirement already satisfied: zipp>=0.5 in /usr/local/lib/python3.7/dist-packages (from importlib-metadata>=1.4->streamlit>=0.86->streamlit-authenticator) (3.9.0)\n",
            "Requirement already satisfied: pyrsistent!=0.17.0,!=0.17.1,!=0.17.2,>=0.14.0 in /usr/local/lib/python3.7/dist-packages (from jsonschema>=3.0->altair>=3.2.0->streamlit>=0.86->streamlit-authenticator) (0.18.1)\n",
            "Requirement already satisfied: importlib-resources>=1.4.0 in /usr/local/lib/python3.7/dist-packages (from jsonschema>=3.0->altair>=3.2.0->streamlit>=0.86->streamlit-authenticator) (5.10.0)\n",
            "Requirement already satisfied: attrs>=17.4.0 in /usr/local/lib/python3.7/dist-packages (from jsonschema>=3.0->altair>=3.2.0->streamlit>=0.86->streamlit-authenticator) (22.1.0)\n",
            "Requirement already satisfied: pyparsing!=3.0.5,>=2.0.2 in /usr/local/lib/python3.7/dist-packages (from packaging>=14.1->streamlit>=0.86->streamlit-authenticator) (3.0.9)\n",
            "Requirement already satisfied: pytz>=2017.3 in /usr/local/lib/python3.7/dist-packages (from pandas>=0.21.0->streamlit>=0.86->streamlit-authenticator) (2022.4)\n",
            "Requirement already satisfied: six>=1.9 in /usr/local/lib/python3.7/dist-packages (from protobuf!=3.20.2,<4,>=3.12->streamlit>=0.86->streamlit-authenticator) (1.15.0)\n",
            "Requirement already satisfied: MarkupSafe>=0.23 in /usr/local/lib/python3.7/dist-packages (from jinja2->altair>=3.2.0->streamlit>=0.86->streamlit-authenticator) (2.0.1)\n",
            "Requirement already satisfied: urllib3!=1.25.0,!=1.25.1,<1.26,>=1.21.1 in /usr/local/lib/python3.7/dist-packages (from requests>=2.4->streamlit>=0.86->streamlit-authenticator) (1.24.3)\n",
            "Requirement already satisfied: chardet<4,>=3.0.2 in /usr/local/lib/python3.7/dist-packages (from requests>=2.4->streamlit>=0.86->streamlit-authenticator) (3.0.4)\n",
            "Requirement already satisfied: idna<3,>=2.5 in /usr/local/lib/python3.7/dist-packages (from requests>=2.4->streamlit>=0.86->streamlit-authenticator) (2.10)\n",
            "Requirement already satisfied: certifi>=2017.4.17 in /usr/local/lib/python3.7/dist-packages (from requests>=2.4->streamlit>=0.86->streamlit-authenticator) (2022.9.24)\n",
            "Requirement already satisfied: pygments<3.0.0,>=2.6.0 in /usr/local/lib/python3.7/dist-packages (from rich>=10.11.0->streamlit>=0.86->streamlit-authenticator) (2.6.1)\n",
            "Requirement already satisfied: commonmark<0.10.0,>=0.9.0 in /usr/local/lib/python3.7/dist-packages (from rich>=10.11.0->streamlit>=0.86->streamlit-authenticator) (0.9.1)\n",
            "Requirement already satisfied: decorator>=3.4.0 in /usr/local/lib/python3.7/dist-packages (from validators>=0.2->streamlit>=0.86->streamlit-authenticator) (4.4.2)\n",
            "Building wheels for collected packages: streamlit-authenticator\n",
            "  Building wheel for streamlit-authenticator (setup.py) ... \u001b[?25l\u001b[?25hdone\n",
            "  Created wheel for streamlit-authenticator: filename=streamlit_authenticator-0.2.1-py3-none-any.whl size=10199 sha256=c5c21463b1a67ce3fb81d06bbc906108a50556501ad03b1ec729888f20d0774c\n",
            "  Stored in directory: /root/.cache/pip/wheels/0a/43/e7/b0bb8d576d2e2ee992621879ac7ee02c7813dcfc780b142fdc\n",
            "Successfully built streamlit-authenticator\n",
            "Installing collected packages: PyJWT, extra-streamlit-components, bcrypt, streamlit-authenticator\n",
            "Successfully installed PyJWT-2.6.0 bcrypt-4.0.1 extra-streamlit-components-0.1.56 streamlit-authenticator-0.2.1\n"
          ]
        }
      ]
    },
    {
      "cell_type": "code",
      "source": [
        "!pip install pyngrok==4.1.1"
      ],
      "metadata": {
        "id": "9BbaOoIi6gHH",
        "colab": {
          "base_uri": "https://localhost:8080/"
        },
        "outputId": "8cc56301-15d8-42a3-d03a-630a8b65e6db"
      },
      "execution_count": null,
      "outputs": [
        {
          "output_type": "stream",
          "name": "stdout",
          "text": [
            "Looking in indexes: https://pypi.org/simple, https://us-python.pkg.dev/colab-wheels/public/simple/\n",
            "Collecting pyngrok==4.1.1\n",
            "  Downloading pyngrok-4.1.1.tar.gz (18 kB)\n",
            "Requirement already satisfied: future in /usr/local/lib/python3.7/dist-packages (from pyngrok==4.1.1) (0.16.0)\n",
            "Requirement already satisfied: PyYAML in /usr/local/lib/python3.7/dist-packages (from pyngrok==4.1.1) (6.0)\n",
            "Building wheels for collected packages: pyngrok\n",
            "  Building wheel for pyngrok (setup.py) ... \u001b[?25l\u001b[?25hdone\n",
            "  Created wheel for pyngrok: filename=pyngrok-4.1.1-py3-none-any.whl size=15983 sha256=10563f82861f99782033d0f70a2dbf80b454b958bd4c017a14e09bf1991ef56c\n",
            "  Stored in directory: /root/.cache/pip/wheels/b1/d9/12/045a042fee3127dc40ba6f5df2798aa2df38c414bf533ca765\n",
            "Successfully built pyngrok\n",
            "Installing collected packages: pyngrok\n",
            "Successfully installed pyngrok-4.1.1\n"
          ]
        }
      ]
    },
    {
      "cell_type": "code",
      "source": [
        "%%writefile '/content/user/MyDrive/Deep Learning Project/Pilot Capstone/generate_keys.py'\n",
        "\n",
        "import pickle\n",
        "from pathlib import Path\n",
        "\n",
        "import streamlit_authenticator as stauth\n",
        "\n",
        "names = [\"Elombe Calvert\"]\n",
        "usernames = [\"elombecalvert\"]\n",
        "passwords = [hashed_passwords]\n",
        "\n",
        "hashed_passwords = stauth.Hasher(passwords).generate()\n",
        "filename = '/content/user/MyDrive/Deep Learning Project/Pilot Capstone/hashed_pw'\n",
        "outfile = open(filename,'wb')\n",
        "pickle.dump(hashed_passwords,outfile)\n",
        "outfile.close()\n",
        "\n",
        "#file_path = Path(__file__).parent\n",
        "#file_path = (base_path / \"hashed_pw.pkl\").resolve()\n",
        "#with file_path.open(\"wb\") as file:    pickle.dump(hashed_passwords, file)"
      ],
      "metadata": {
        "id": "0-HFPoBrtWMa"
      },
      "execution_count": null,
      "outputs": []
    },
    {
      "cell_type": "code",
      "source": [
        "%%writefile '/content/user/MyDrive/Deep Learning Project/Pilot Capstone/Home Page.py'\n",
        "import streamlit as st\n",
        "import pickle\n",
        "from pathlib import Path\n",
        "import streamlit_authenticator as stauth\n",
        "\n",
        "def add_bg_from_url():\n",
        "    st.markdown(\n",
        "         f\"\"\"\n",
        "         <style>\n",
        "         .stApp {{\n",
        "             background-image: url(\"https://blog.radware.com/wp-content/uploads/2019/07/healthcare.jpg\");\n",
        "             background-attachment: fixed;\n",
        "             background-size: cover\n",
        "         }}\n",
        "         </style>\n",
        "         \"\"\",\n",
        "         unsafe_allow_html=True\n",
        "     )\n",
        "\n",
        "add_bg_from_url()\n",
        "\n",
        "st.image(\"https://justmy.health/wp-content/uploads/2018/05/2505_uhwi-logo.png\", width=700)\n",
        "st.title(\"The AI-Driven COVID-19 Application\")\n",
        "\n",
        "st.success(\"\")\n",
        "\n",
        "html_temp = \"\"\"\n",
        "    <div style=\"background-color:red;padding:10px\">\n",
        "    <h2 style=\"color:white;text-align:center;\"></h2>\n",
        "    </div>\n",
        "    \"\"\"\n",
        "st.markdown(html_temp,unsafe_allow_html=True)\n",
        "st.write(\"\")\n",
        "col1, col2, col3 =  st.columns(3)\n",
        "enter_app = col2.button(\"Enter COVID-19 WEB APP\")\n",
        "#if enter_app:\n",
        "\n",
        "#-------USER AUTHENTICATION-----------\n",
        "\n",
        "\n",
        "\n",
        "# --- USER AUTHENTICATION ---\n",
        "  #names = [\"Elombe Calvert\"]\n",
        "  #usernames = [\"elombecalvert\"]\n",
        "\n",
        "# load hashed passwords\n",
        "  #file_path = Path(__file__).parent / \"hashed_pw.pkl\"\n",
        "  #with file_path.open(\"rb\") as file:\n",
        "    #hashed_passwords = pickle.load(file)\n",
        "\n",
        "  #authenticator = stauth.Authenticate(names, usernames, hashed_passwords,\n",
        "   # \"sales_dashboard\", \"abcdef\", cookie_expiry_days=30)\n",
        "\n",
        "  #name, authentication_status, username = authenticator.login(\"Login\", \"main\")\n",
        "\n",
        " # if authentication_status == False:\n",
        "  #  st.error(\"Username/password is incorrect\")\n",
        "\n",
        "  #if authentication_status == None:\n",
        "    #st.warning(\"Please enter your username and password\")"
      ],
      "metadata": {
        "id": "lRJsKevDJEZx"
      },
      "execution_count": null,
      "outputs": []
    },
    {
      "cell_type": "code",
      "source": [
        "%%writefile '/content/user/MyDrive/Deep Learning Project/Pilot Capstone/pages/01_Information.py'\n",
        "\n",
        "import streamlit as st\n",
        "import pandas as pd\n",
        "from tensorflow.keras.models import load_model\n",
        "\n",
        "def add_bg_from_url():\n",
        "    st.markdown(\n",
        "         f\"\"\"\n",
        "         <style>\n",
        "         .stApp {{\n",
        "             background-image: url(\"https://img.freepik.com/free-vector/clean-medical-background_53876-116875.jpg?w=2000\");\n",
        "             background-attachment: fixed;\n",
        "             background-size: cover\n",
        "         }}\n",
        "         </style>\n",
        "         \"\"\",\n",
        "         unsafe_allow_html=True\n",
        "     )\n",
        "\n",
        "add_bg_from_url()\n",
        "\n",
        "#st.title(\"UHWI COVID-19 DETECTOR\")\n",
        "html_temp = \"\"\"\n",
        "    <div style=\"background-color:tomato;padding:10px\">\n",
        "    <h2 style=\"color:white;text-align:center;\">UHWI COVID-19 DETECTOR APP </h2>\n",
        "    </div>\n",
        "    \"\"\"\n",
        "st.markdown(html_temp,unsafe_allow_html=True)\n",
        "\n",
        "uploaded_file = st.file_uploader(\"\", type=[\"txt\"])\n",
        "\n",
        "global df\n",
        "\n",
        "if uploaded_file is not None:\n",
        "    print(uploaded_file)\n",
        "\n",
        "    try:\n",
        "        df = pd.read_csv(uploaded_file, delimiter= \"\\t\")\n",
        "\n",
        "    except Exception as e:\n",
        "        print(e)\n",
        "        df = pd.read_excel(uploaded_file)\n",
        "\n",
        "try:\n",
        "    View = st.button(\"View File\")\n",
        "    if View :\n",
        "      st.write(df)\n",
        "except Exception as e:\n",
        "    print(e)\n",
        "    st.write(\"\")\n",
        "\n",
        "\n",
        "def is_number(s):\n",
        "    try:\n",
        "        float(s)\n",
        "        return True\n",
        "    except ValueError:\n",
        "        pass\n",
        "    try:\n",
        "        import unicodedata\n",
        "        unicodedata.numeric(s)\n",
        "        return True\n",
        "    except (TypeError, ValueError):\n",
        "        pass\n",
        "    return False\n",
        "\n",
        "def nom(file):\n",
        "    w = open(r\"/content/user/MyDrive/Deep Learning Project/Pilot Capstone/Normalized.txt\", 'w', encoding='utf-8')\n",
        "    f = open(file, 'r')\n",
        "    list1 = f.readline().rstrip('\\r\\n').split('\\t')\n",
        "    w.write('\\t'.join(list1) + '\\n')\n",
        "    list2 = f.readline().rstrip('\\r\\n').split('\\t')\n",
        "    w.write('\\t'.join(list2) + '\\n')\n",
        "    list3 = f.readline().rstrip('\\r\\n').split('\\t')\n",
        "    w.write('\\t'.join(list3) + '\\n')\n",
        "    list3 = list3[1:]\n",
        "    dic={}\n",
        "    for l in f:\n",
        "        sp = l.rstrip('\\r\\n').split('\\t')\n",
        "        dic[sp[0]] = sp\n",
        "    for key in dic:\n",
        "        flist = []\n",
        "        sex = ['Male', 'Female']\n",
        "        for i, ft in enumerate(dic[key][1:]):\n",
        "            if i == 0:flist.append(ft)\n",
        "            if i == 1: flist.append(sex.index(ft))\n",
        "            if i == 2:\n",
        "                if is_number(ft):flist.append(float(ft) / 37.2)\n",
        "                else:flist.append(1)\n",
        "            if i == 3:\n",
        "                if ft in ['No underlying disease']:flist.append(0)\n",
        "                else:flist.append(1)\n",
        "            if i > 3:\n",
        "                if '-' in list3[i]:\n",
        "                    max = float(list3[i].split(' ')[0].split('-')[1])\n",
        "                    min = float(list3[i].split(' ')[0].split('-')[0])\n",
        "                elif '<' in list3[i]:\n",
        "                    max = float(list3[i].split(' ')[0].split('<')[1])\n",
        "                    min = 0\n",
        "                ft = ft.replace('>', '').replace('<', '')\n",
        "                if is_number(ft):flist.append((float(ft) - min) / (max - min))\n",
        "                else:flist.append(0.5)\n",
        "        w.write(key  + '\\t' + '\\t'.join(str(e) for e in flist)+ '\\n')\n",
        "\n",
        "global y\n",
        "if uploaded_file is not None:\n",
        "    norm = nom(r\"/content/user/MyDrive/Deep Learning Project/Pilot Capstone/Demo_Patient_324_CF.txt\")\n",
        "    df2 = pd.read_csv(r\"/content/user/MyDrive/Deep Learning Project/Pilot Capstone/Normalized.txt\",sep='\\t').drop([0,1]).reset_index(drop=True)\n",
        "    X_CF= df2.iloc[:,1:].values.astype(float)\n",
        "    #st.write(X_CF)\n",
        "\n",
        "    model = load_model(r\"/content/user/MyDrive/Deep Learning Project/Pilot Capstone/struc_class_model.h5\")\n",
        "    y= model.predict(X_CF)\n",
        "\n",
        "\n",
        "Prediction = st.button(\"PREDICT\")\n",
        "\n",
        "if Prediction:\n",
        "  st.success('THIS PATIENT HAS A {:.1f}% CHANCE OF DYING FROM COVID-19'.format(y[0][1] *100))"
      ],
      "metadata": {
        "id": "uTwrEHv0LgWG"
      },
      "execution_count": null,
      "outputs": []
    },
    {
      "cell_type": "code",
      "source": [
        "%%writefile '/content/user/MyDrive/Deep Learning Project/Pilot Capstone/pages/02_CT IMAGES.py'\n",
        "\n",
        "import streamlit as st\n",
        "import pandas as pd\n",
        "from tensorflow.keras.models import load_model\n",
        "from PIL import Image\n",
        "from itertools import cycle\n",
        "import cv2\n",
        "import numpy as np\n",
        "#***********************************************************************************************************************************************************\n",
        "def add_bg_from_url():\n",
        "    st.markdown(\n",
        "         f\"\"\"\n",
        "         <style>\n",
        "         .stApp {{\n",
        "             background-image: url(\"https://media.istockphoto.com/vectors/hospital-blurred-background-medical-backdrop-with-molecules-blur-vector-id1165997271?k=20&m=1165997271&s=170667a&w=0&h=F8g20m4pDGKoToWT-tswEd4jkmwkgCvNNnqLCNmeeAE=\");\n",
        "             background-attachment: fixed;\n",
        "             background-size: cover\n",
        "         }}\n",
        "         </style>\n",
        "         \"\"\",\n",
        "         unsafe_allow_html=True\n",
        "     )\n",
        "\n",
        "add_bg_from_url()\n",
        "#***********************************************************************************************************************************************************\n",
        "html_temp = \"\"\"\n",
        "    <div style=\"background-color:tomato;padding:10px\">\n",
        "    <h2 style=\"color:white;text-align:center;\">UHWI COVID-19 DETECTOR APP </h2>\n",
        "    </div>\n",
        "    \"\"\"\n",
        "st.markdown(html_temp,unsafe_allow_html=True)\n",
        "\n",
        "uploaded_files = st.file_uploader(\"Choose paitent's CT images\", type = [\"jpg\", \"png\"], accept_multiple_files=True)\n",
        "\n",
        "\n",
        "###############################################################################################################################################\n",
        "\n",
        "show = st.button(\"CT SCANS\")\n",
        "if show:\n",
        "  st.write(\"\")\n",
        "  if uploaded_files is not None:\n",
        "\n",
        "    col1, col2, col3 = st.columns(3)\n",
        "\n",
        "    with col1:\n",
        "     st.image('/content/user/MyDrive/Deep Learning Project/Pilot Capstone/Labelled Images/NiCT/NiCT1.jpg')\n",
        "\n",
        "    with col2:\n",
        "      st.image(\"/content/user/MyDrive/Deep Learning Project/Pilot Capstone/Labelled Images/pCT/pCT1.jpg\")\n",
        "\n",
        "    with col3:\n",
        "      st.image('/content/user/MyDrive/Deep Learning Project/Pilot Capstone/Labelled Images/nCT/nCT1.jpg')\n",
        "\n",
        "  st.write(\"\")\n",
        "\n",
        "Prediction = st.button(\"Prediction\")\n",
        "pred = 0.996684*100\n",
        "if Prediction:\n",
        "  st.success('THIS PATIENT HAS A {:.1f}% CHANCE DYING FROM COVID-19'.format(pred))\n",
        "\n"
      ],
      "metadata": {
        "id": "XzFjUaYGjVlA"
      },
      "execution_count": null,
      "outputs": []
    },
    {
      "cell_type": "code",
      "source": [
        "%%writefile '/content/user/MyDrive/Deep Learning Project/Pilot Capstone/pages/03_Disposition.py'\n",
        "\n",
        "import streamlit as st\n",
        "\n",
        "from tensorflow.keras.models import load_model\n",
        "\n",
        "def add_bg_from_url():\n",
        "    st.markdown(\n",
        "         f\"\"\"\n",
        "         <style>\n",
        "         .stApp {{\n",
        "             background-image: url(\"https://img.freepik.com/premium-photo/arrangement-medical-objects-green-background-with-copy-space_23-2148502968.jpg\");\n",
        "             background-attachment: fixed;\n",
        "             background-size: cover\n",
        "         }}\n",
        "         </style>\n",
        "         \"\"\",\n",
        "         unsafe_allow_html=True\n",
        "     )\n",
        "\n",
        "add_bg_from_url()\n",
        "\n",
        "html_temp = \"\"\"\n",
        "    <div style=\"background-color:tomato;padding:10px\">\n",
        "    <h2 style=\"color:white;text-align:center;\">UHWI COVID-19 DETECTOR APP </h2>\n",
        "    </div>\n",
        "    \"\"\"\n",
        "st.markdown(html_temp,unsafe_allow_html=True)\n",
        "st.write(\"\")\n",
        "st.write(\"\")\n",
        "st.write(\"\")\n",
        "col1, col2, col3 =  st.columns(3)\n",
        "\n",
        "final  = col2.button(\"Click to View Final Prediction\")\n",
        "\n",
        "pred3 = 0.50150253*100\n",
        "if final:\n",
        "  st.success('THIS PATIENT HAS A {:.1f}% CHANCE DYING FROM COVID-19'.format(pred3))\n",
        "\n",
        "if final:\n",
        "  st.balloons()"
      ],
      "metadata": {
        "id": "DRk9wu9kne1Y"
      },
      "execution_count": null,
      "outputs": []
    },
    {
      "cell_type": "code",
      "source": [
        "!ngrok authtoken 2DQHBhsPpUT5Ps8iM1z4IvrlMJo_6mdomesz6poGdGX2w8vSN"
      ],
      "metadata": {
        "id": "_1eeFaK973o4"
      },
      "execution_count": null,
      "outputs": []
    },
    {
      "cell_type": "code",
      "source": [
        "from pyngrok import ngrok"
      ],
      "metadata": {
        "id": "fPxrtmny8t82"
      },
      "execution_count": null,
      "outputs": []
    },
    {
      "cell_type": "code",
      "source": [
        "!streamlit run '/content/user/MyDrive/Deep Learning Project/Pilot Capstone/Home Page.py'&>/dev/null&"
      ],
      "metadata": {
        "id": "MQkqfloz9kOh"
      },
      "execution_count": null,
      "outputs": []
    },
    {
      "cell_type": "code",
      "source": [
        "!pgrep streamlit"
      ],
      "metadata": {
        "id": "FCygymsa_Cio"
      },
      "execution_count": null,
      "outputs": []
    },
    {
      "cell_type": "code",
      "source": [
        "publ_url = ngrok.connect(port = \"8501\")"
      ],
      "metadata": {
        "id": "BlJQ-SPS84Gp"
      },
      "execution_count": null,
      "outputs": []
    },
    {
      "cell_type": "code",
      "source": [
        "publ_url"
      ],
      "metadata": {
        "id": "8ckcQXQy_N3H"
      },
      "execution_count": null,
      "outputs": []
    }
  ]
}